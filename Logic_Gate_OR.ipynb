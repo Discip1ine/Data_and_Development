{
 "cells": [
  {
   "cell_type": "markdown",
   "metadata": {},
   "source": [
    "\n",
    "\n",
    " "
   ]
  },
  {
   "cell_type": "code",
   "execution_count": 1,
   "metadata": {},
   "outputs": [
    {
     "name": "stdout",
     "output_type": "stream",
     "text": [
      "Collecting numpy\n",
      "  Downloading numpy-1.18.2-cp37-cp37m-win_amd64.whl (12.8 MB)\n",
      "Installing collected packages: numpy\n",
      "Successfully installed numpy-1.18.2\n",
      "Note: you may need to restart the kernel to use updated packages.\n"
     ]
    }
   ],
   "source": [
    "pip install numpy"
   ]
  },
  {
   "cell_type": "code",
   "execution_count": 2,
   "metadata": {},
   "outputs": [
    {
     "name": "stdout",
     "output_type": "stream",
     "text": [
      "Collecting pandas\n",
      "  Downloading pandas-1.0.3-cp37-cp37m-win_amd64.whl (8.7 MB)\n",
      "Requirement already satisfied: python-dateutil>=2.6.1 in c:\\users\\lukel\\appdata\\local\\continuum\\anaconda3\\envs\\dataanalyticshw2logicgateor\\lib\\site-packages (from pandas) (2.8.1)\n",
      "Collecting pytz>=2017.2\n",
      "  Downloading pytz-2019.3-py2.py3-none-any.whl (509 kB)\n",
      "Requirement already satisfied: numpy>=1.13.3 in c:\\users\\lukel\\appdata\\local\\continuum\\anaconda3\\envs\\dataanalyticshw2logicgateor\\lib\\site-packages (from pandas) (1.18.2)\n",
      "Requirement already satisfied: six>=1.5 in c:\\users\\lukel\\appdata\\local\\continuum\\anaconda3\\envs\\dataanalyticshw2logicgateor\\lib\\site-packages (from python-dateutil>=2.6.1->pandas) (1.14.0)\n",
      "Installing collected packages: pytz, pandas\n",
      "Successfully installed pandas-1.0.3 pytz-2019.3\n",
      "Note: you may need to restart the kernel to use updated packages.\n"
     ]
    }
   ],
   "source": [
    "pip install pandas"
   ]
  },
  {
   "cell_type": "code",
   "execution_count": 3,
   "metadata": {},
   "outputs": [
    {
     "name": "stdout",
     "output_type": "stream",
     "text": [
      "Collecting matplotlib\n",
      "  Downloading matplotlib-3.2.1-cp37-cp37m-win_amd64.whl (9.2 MB)\n",
      "Collecting kiwisolver>=1.0.1\n",
      "  Downloading kiwisolver-1.2.0-cp37-none-win_amd64.whl (57 kB)\n",
      "Collecting cycler>=0.10\n",
      "  Using cached cycler-0.10.0-py2.py3-none-any.whl (6.5 kB)\n",
      "Requirement already satisfied: python-dateutil>=2.1 in c:\\users\\lukel\\appdata\\local\\continuum\\anaconda3\\envs\\dataanalyticshw2logicgateor\\lib\\site-packages (from matplotlib) (2.8.1)\n",
      "Requirement already satisfied: numpy>=1.11 in c:\\users\\lukel\\appdata\\local\\continuum\\anaconda3\\envs\\dataanalyticshw2logicgateor\\lib\\site-packages (from matplotlib) (1.18.2)\n",
      "Collecting pyparsing!=2.0.4,!=2.1.2,!=2.1.6,>=2.0.1\n",
      "  Downloading pyparsing-2.4.7-py2.py3-none-any.whl (67 kB)\n",
      "Requirement already satisfied: six in c:\\users\\lukel\\appdata\\local\\continuum\\anaconda3\\envs\\dataanalyticshw2logicgateor\\lib\\site-packages (from cycler>=0.10->matplotlib) (1.14.0)\n",
      "Installing collected packages: kiwisolver, cycler, pyparsing, matplotlib\n",
      "Successfully installed cycler-0.10.0 kiwisolver-1.2.0 matplotlib-3.2.1 pyparsing-2.4.7\n",
      "Note: you may need to restart the kernel to use updated packages.\n"
     ]
    }
   ],
   "source": [
    "pip install matplotlib"
   ]
  },
  {
   "cell_type": "code",
   "execution_count": 5,
   "metadata": {},
   "outputs": [
    {
     "name": "stdout",
     "output_type": "stream",
     "text": [
      "Processing c:\\users\\lukel\\appdata\\local\\pip\\cache\\wheels\\46\\ef\\c3\\157e41f5ee1372d1be90b09f74f82b10e391eaacca8f22d33e\\sklearn-0.0-py2.py3-none-any.whl\n",
      "Collecting scikit-learn\n",
      "  Downloading scikit_learn-0.22.2.post1-cp37-cp37m-win_amd64.whl (6.5 MB)\n",
      "Requirement already satisfied: numpy>=1.11.0 in c:\\users\\lukel\\appdata\\local\\continuum\\anaconda3\\envs\\dataanalyticshw2logicgateor\\lib\\site-packages (from scikit-learn->sklearn) (1.18.2)\n",
      "Collecting joblib>=0.11\n",
      "  Using cached joblib-0.14.1-py2.py3-none-any.whl (294 kB)\n",
      "Collecting scipy>=0.17.0\n",
      "  Using cached scipy-1.4.1-cp37-cp37m-win_amd64.whl (30.9 MB)\n",
      "Installing collected packages: joblib, scipy, scikit-learn, sklearn\n",
      "Successfully installed joblib-0.14.1 scikit-learn-0.22.2.post1 scipy-1.4.1 sklearn-0.0\n",
      "Note: you may need to restart the kernel to use updated packages.\n"
     ]
    }
   ],
   "source": [
    "pip install sklearn"
   ]
  },
  {
   "cell_type": "code",
   "execution_count": 96,
   "metadata": {},
   "outputs": [],
   "source": [
    "import numpy as np\n",
    "# Code used for educational purposes from: https://towardsdatascience.com/6-steps-to-write-any-machine-learning-algorithm-from-scratch-perceptron-case-study-335f638a70f3\n",
    "# Perceptron function\n",
    "def perceptron(x, y, z, eta, t):\n",
    "    '''\n",
    "    Input Parameters:\n",
    "        x: data set of input features\n",
    "        y: actual outputs\n",
    "        z: activation function threshold\n",
    "        eta: learning rate\n",
    "        t: number of iterations\n",
    "    '''\n",
    "    \n",
    "    # initializing the weights\n",
    "    w = np.zeros(len(x[0]))      \n",
    "    n = 0                        \n",
    "    \n",
    "    # initializing additional parameters to compute sum-of-squared errors\n",
    "    yhat_vec = np.ones(len(y))     # vector for predictions\n",
    "    errors = np.ones(len(y))       # vector for errors (actual - predictions)\n",
    "    J = []                         # vector for the SSE cost function\n",
    "    \n",
    "    while n < t: \n",
    "        for i in xrange(0, len(x)): # dot product f = np.dot(x[i], w) # activation function if f >= z:                               \n",
    "            yhat = 1.                               \n",
    "        else: \n",
    "                yhat = 0.\n",
    "                yhat_vec[i] = yhat\n",
    "            \n",
    "            # updating the weights\n",
    "                for j in xrange(0, len(w)):             \n",
    "                    w[j] = w[j] + eta*(y[i]-yhat)*x[i][j]\n",
    "                \n",
    "                n += 1\n",
    "        # computing the sum-of-squared errors\n",
    "                for i in xrange(0,len(y)):     \n",
    "                   errors[i] = (y[i]-yhat_vec[i])**2\n",
    "                J.append(0.5*np.sum(errors))\n",
    "        \n",
    "    return w, J"
   ]
  },
  {
   "cell_type": "code",
   "execution_count": 100,
   "metadata": {},
   "outputs": [
    {
     "name": "stdout",
     "output_type": "stream",
     "text": [
      "The weights are:\n",
      "[0. 0. 0.]\n",
      "The errors are:\n",
      "[]\n"
     ]
    }
   ],
   "source": [
    "#     x0  x1  x2\n",
    "x = [[1., 0., 0.],\n",
    "     [1., 0., 1.],\n",
    "     [1., 1., 0.],\n",
    "     [1., 1., 1.]]\n",
    "\n",
    "y =[1.,\n",
    "    1.,\n",
    "    1.,\n",
    "    0.]\n",
    "\n",
    "z = 0.0\n",
    "eta = 0.1\n",
    "t = 50\n",
    "\n",
    "print(\"The weights are:\")\n",
    "print(w)\n",
    "\n",
    "print(\"The errors are:\")\n",
    "print(J)"
   ]
  },
  {
   "cell_type": "code",
   "execution_count": 101,
   "metadata": {},
   "outputs": [
    {
     "name": "stdout",
     "output_type": "stream",
     "text": [
      "[[1.0, 0.0, 0.0], [1.0, 0.0, 1.0], [1.0, 1.0, 0.0], [1.0, 1.0, 1.0]]\n",
      "[1.0, 1.0, 1.0, 0.0]\n"
     ]
    }
   ],
   "source": [
    "# Importing libraries\n",
    "# NAND Gate\n",
    "# Note: x0 is a dummy variable for the bias term\n",
    "#     x0  x1  x2\n",
    "x = [[1., 0., 0.],\n",
    "     [1., 0., 1.],\n",
    "     [1., 1., 0.],\n",
    "     [1., 1., 1.]]\n",
    "y =[1.,\n",
    "    1.,\n",
    "    1.,\n",
    "    0.]\n",
    "print(x)\n",
    "print(y)"
   ]
  },
  {
   "cell_type": "code",
   "execution_count": 102,
   "metadata": {},
   "outputs": [
    {
     "name": "stdout",
     "output_type": "stream",
     "text": [
      "[0. 0. 0.]\n"
     ]
    }
   ],
   "source": [
    "# Initialize the weights\n",
    "import numpy as np\n",
    "w = np.zeros(len(x[0]))\n",
    "print(w)"
   ]
  },
  {
   "cell_type": "code",
   "execution_count": 103,
   "metadata": {},
   "outputs": [
    {
     "name": "stdout",
     "output_type": "stream",
     "text": [
      "0.0\n"
     ]
    }
   ],
   "source": [
    "# Dot Product\n",
    "f = np.dot(w, x[0])\n",
    "print(f)"
   ]
  },
  {
   "cell_type": "code",
   "execution_count": 104,
   "metadata": {},
   "outputs": [
    {
     "name": "stdout",
     "output_type": "stream",
     "text": [
      "0.0\n"
     ]
    }
   ],
   "source": [
    "# Activation Function\n",
    "z = 0.0\n",
    "if f > z:\n",
    "    yhat = 1.\n",
    "else:\n",
    "    yhat = 0.\n",
    "    \n",
    "print(yhat)"
   ]
  },
  {
   "cell_type": "code",
   "execution_count": 105,
   "metadata": {},
   "outputs": [
    {
     "name": "stdout",
     "output_type": "stream",
     "text": [
      "[0.1 0.  0. ]\n"
     ]
    }
   ],
   "source": [
    "# Update the weights\n",
    "eta = 0.1\n",
    "w[0] = w[0] + eta*(y[0] - yhat)*x[0][0]\n",
    "w[1] = w[1] + eta*(y[0] - yhat)*x[0][1]\n",
    "w[2] = w[2] + eta*(y[0] - yhat)*x[0][2]\n",
    "\n",
    "print(w)"
   ]
  },
  {
   "cell_type": "code",
   "execution_count": 108,
   "metadata": {},
   "outputs": [
    {
     "data": {
      "text/plain": [
       "<matplotlib.collections.PathCollection at 0x2bd4bca7d88>"
      ]
     },
     "execution_count": 108,
     "metadata": {},
     "output_type": "execute_result"
    },
    {
     "data": {
      "image/png": "[encoded data removed]",
      "text/plain": [
       "<Figure size 432x288 with 1 Axes>"
      ]
     },
     "metadata": {
      "needs_background": "light"
     },
     "output_type": "display_data"
    }
   ],
   "source": [
    "import pandas as pd\n",
    "import numpy as np\n",
    "import matplotlib.pyplot as plt\n",
    "\n",
    "df = pd.read_csv(r\"C:\\Users\\lukel\\OneDrive\\Desktop\\Data Analytics and Development\\HW2LogicGateOR\\dataset.csv\")\n",
    "plt.scatter(df.values[:,1], df.values[:,2], c = df['3'], alpha=0.8)"
   ]
  },
  {
   "cell_type": "code",
   "execution_count": 109,
   "metadata": {},
   "outputs": [],
   "source": [
    "df = df.values  \n",
    "                \n",
    "np.random.seed(5)\n",
    "np.random.shuffle(df)"
   ]
  },
  {
   "cell_type": "code",
   "execution_count": 110,
   "metadata": {},
   "outputs": [],
   "source": [
    "train = df[0:int(0.7*len(df))]\n",
    "test = df[int(0.7*len(df)):int(len(df))]"
   ]
  },
  {
   "cell_type": "code",
   "execution_count": 111,
   "metadata": {},
   "outputs": [],
   "source": [
    "x_train = train[:, 0:3]\n",
    "y_train = train[:, 3]\n",
    "\n",
    "x_test = test[:, 0:3]\n",
    "y_test = test[:, 3]"
   ]
  },
  {
   "cell_type": "code",
   "execution_count": 204,
   "metadata": {},
   "outputs": [
    {
     "name": "stdout",
     "output_type": "stream",
     "text": [
      "[0.1 0.  0. ]\n",
      "[]\n"
     ]
    }
   ],
   "source": [
    "# Perceptron function\n",
    "def perceptron_train(x, y, z, eta, t):\n",
    "    '''\n",
    "    Input Parameters:\n",
    "        x: data set of input features\n",
    "        y: actual outputs\n",
    "        z: activation function threshold\n",
    "        eta: learning rate\n",
    "        t: number of iterations\n",
    "    '''\n",
    "    \n",
    "    # initializing the weights\n",
    "    w = np.zeros(len(x[0]))      \n",
    "    n = 0                        \n",
    "    \n",
    "    # initializing additional parameters to compute sum-of-squared errors\n",
    "    yhat_vec = np.ones(len(y))     # vector for predictions\n",
    "    errors = np.ones(len(y))       # vector for errors (actual - predictions)\n",
    "    J = []                         # vector for the SSE cost function\n",
    "    \n",
    "    while n < t: \n",
    "        for i in xrange(0, len(x)): ## dot product f = np.dot(x[i], w) # activation function if f >= z:                               \n",
    "            yhat = 1.                               \n",
    "        else: \n",
    "                yhat = 0.\n",
    "                yhat_vec[i] = yhat\n",
    "            \n",
    "            # updating the weights\n",
    "                for j in xrange(0, len(w)):             \n",
    "                    w[j] = w[j] + eta*(y[i]-yhat)*x[i][j]\n",
    "                \n",
    "                n += 1\n",
    "        # computing the sum-of-squared errors\n",
    "                for i in xrange(0,len(y)):     \n",
    "                   errors[i] = (y[i]-yhat_vec[i])**2\n",
    "                J.append(0.5*np.sum(errors))\n",
    "        \n",
    "    return w, J\n",
    "\n",
    "\n",
    "x_train = train[:, 0:3]\n",
    "y_train = train[:, 3]\n",
    "z = 0.0\n",
    "eta = 0.1\n",
    "t = 50\n",
    "\n",
    "#perceptron_train(x_train, y_train, z, eta, t)\n",
    "\n",
    "print(w)\n",
    "print(J)"
   ]
  },
  {
   "cell_type": "code",
   "execution_count": 205,
   "metadata": {},
   "outputs": [
    {
     "name": "stdout",
     "output_type": "stream",
     "text": [
      "[0.1 0.  0. ]\n",
      "[]\n"
     ]
    }
   ],
   "source": [
    "#w = perceptron_train(x_train, y_train, z, eta, t)[0]\n",
    "#J = perceptron_train(x_train, y_train, z, eta, t)[1]\n",
    "\n",
    "print(w)\n",
    "print(J)"
   ]
  },
  {
   "cell_type": "code",
   "execution_count": 208,
   "metadata": {},
   "outputs": [
    {
     "name": "stdout",
     "output_type": "stream",
     "text": [
      "The accuracy score is:\n",
      "Unavailable because 'int' object is not callable in line 7, 'for i in xrange(0, len(x-1)):'\n"
     ]
    }
   ],
   "source": [
    "from sklearn.metrics import accuracy_score\n",
    "\n",
    "#w = perceptron_train(x_train, y_train, z, eta, t)[0]\n",
    "\n",
    "def perceptron_test(x, w, z, eta, t):\n",
    "    y_pred = []\n",
    "    for i in xrange(0, len(x-1)):\n",
    "        f = np.dot(x[i], w)   \n",
    "\n",
    "        # activation function\n",
    "        if f > z:                               \n",
    "            yhat = 1                               \n",
    "        else:                                   \n",
    "            yhat = 0\n",
    "        y_pred.append(yhat)\n",
    "    return y_pred\n",
    "\n",
    "#y_pred = perceptron_test(x_test, w, z, eta, t)\n",
    "\n",
    "print(\"The accuracy score is: \")\n",
    "print(\"Unavailable because 'int' object is not callable in line 7, 'for i in xrange(0, len(x-1)):'\")"
   ]
  },
  {
   "cell_type": "code",
   "execution_count": 209,
   "metadata": {},
   "outputs": [],
   "source": [
    "from sklearn.linear_model import Perceptron\n",
    "\n",
    "# training the sklearn Perceptron\n",
    "clf = Perceptron(random_state=None, eta0=0.1, shuffle=False, fit_intercept=False)\n",
    "clf.fit(x_train, y_train)\n",
    "y_predict = clf.predict(x_test)"
   ]
  },
  {
   "cell_type": "code",
   "execution_count": null,
   "metadata": {},
   "outputs": [],
   "source": []
  }
 ],
 "metadata": {
  "kernelspec": {
   "display_name": "Python 3",
   "language": "python",
   "name": "python3"
  },
  "language_info": {
   "codemirror_mode": {
    "name": "ipython",
    "version": 3
   },
   "file_extension": ".py",
   "mimetype": "text/x-python",
   "name": "python",
   "nbconvert_exporter": "python",
   "pygments_lexer": "ipython3",
   "version": "3.7.7"
  }
 },
 "nbformat": 4,
 "nbformat_minor": 4
}
