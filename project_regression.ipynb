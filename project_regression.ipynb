{
 "cells": [
  {
   "cell_type": "markdown",
   "metadata": {},
   "source": [
    "# \n",
    "\n",
    " - duplicate this notebook first.  \n",
    "   https://medium.com/the-research-nest/applied-machine-learning-part-1-40578469a934\n",
    " \n",
    " - take only most relevant features for multiple linear regression\n",
    "    \n",
    "       \n",
    " - add more algorithms such as kernel, neural network, and k nearest neighbor\n",
    "   \n",
    "     \n",
    " - compare the performances\n",
    "    \n",
    "    \n",
    " - write a report on regression algorithms you learned ( 5-10 pages)"
   ]
  },
  {
   "cell_type": "code",
   "execution_count": 4,
   "metadata": {
    "scrolled": true
   },
   "outputs": [
    {
     "name": "stdout",
     "output_type": "stream",
     "text": [
      "Requirement already satisfied: pandas in c:\\users\\lukel\\appdata\\local\\continuum\\anaconda3\\envs\\dataanalyticsanddevelopmenthw1\\lib\\site-packages (1.0.1)\n",
      "Requirement already satisfied: pytz>=2017.2 in c:\\users\\lukel\\appdata\\local\\continuum\\anaconda3\\envs\\dataanalyticsanddevelopmenthw1\\lib\\site-packages (from pandas) (2019.3)\n",
      "Requirement already satisfied: python-dateutil>=2.6.1 in c:\\users\\lukel\\appdata\\local\\continuum\\anaconda3\\envs\\dataanalyticsanddevelopmenthw1\\lib\\site-packages (from pandas) (2.8.1)\n",
      "Requirement already satisfied: numpy>=1.13.3 in c:\\users\\lukel\\appdata\\local\\continuum\\anaconda3\\envs\\dataanalyticsanddevelopmenthw1\\lib\\site-packages (from pandas) (1.18.1)\n",
      "Requirement already satisfied: six>=1.5 in c:\\users\\lukel\\appdata\\local\\continuum\\anaconda3\\envs\\dataanalyticsanddevelopmenthw1\\lib\\site-packages (from python-dateutil>=2.6.1->pandas) (1.14.0)\n"
     ]
    }
   ],
   "source": [
    "#install pandas\n",
    "!pip install pandas"
   ]
  },
  {
   "cell_type": "code",
   "execution_count": 5,
   "metadata": {},
   "outputs": [],
   "source": [
    "import pandas as pd\n",
    "import numpy as np\n",
    "import matplotlib.pyplot as plt\n",
    "import seaborn as sns"
   ]
  },
  {
   "cell_type": "code",
   "execution_count": 6,
   "metadata": {},
   "outputs": [],
   "source": [
    "data = pd.read_csv(r\"C:\\Users\\lukel\\OneDrive\\Desktop\\Data Analytics and Development\\kc_house_data.csv\")"
   ]
  },
  {
   "cell_type": "code",
   "execution_count": 7,
   "metadata": {},
   "outputs": [
    {
     "data": {
      "text/html": [
       "<div>\n",
       "<style scoped>\n",
       "    .dataframe tbody tr th:only-of-type {\n",
       "        vertical-align: middle;\n",
       "    }\n",
       "\n",
       "    .dataframe tbody tr th {\n",
       "        vertical-align: top;\n",
       "    }\n",
       "\n",
       "    .dataframe thead th {\n",
       "        text-align: right;\n",
       "    }\n",
       "</style>\n",
       "<table border=\"1\" class=\"dataframe\">\n",
       "  <thead>\n",
       "    <tr style=\"text-align: right;\">\n",
       "      <th></th>\n",
       "      <th>id</th>\n",
       "      <th>date</th>\n",
       "      <th>price</th>\n",
       "      <th>bedrooms</th>\n",
       "      <th>bathrooms</th>\n",
       "      <th>sqft_living</th>\n",
       "      <th>sqft_lot</th>\n",
       "      <th>floors</th>\n",
       "      <th>waterfront</th>\n",
       "      <th>view</th>\n",
       "      <th>...</th>\n",
       "      <th>grade</th>\n",
       "      <th>sqft_above</th>\n",
       "      <th>sqft_basement</th>\n",
       "      <th>yr_built</th>\n",
       "      <th>yr_renovated</th>\n",
       "      <th>zipcode</th>\n",
       "      <th>lat</th>\n",
       "      <th>long</th>\n",
       "      <th>sqft_living15</th>\n",
       "      <th>sqft_lot15</th>\n",
       "    </tr>\n",
       "  </thead>\n",
       "  <tbody>\n",
       "    <tr>\n",
       "      <th>0</th>\n",
       "      <td>7129300520</td>\n",
       "      <td>20141013T000000</td>\n",
       "      <td>221900.0</td>\n",
       "      <td>3</td>\n",
       "      <td>1.00</td>\n",
       "      <td>1180</td>\n",
       "      <td>5650</td>\n",
       "      <td>1.0</td>\n",
       "      <td>0</td>\n",
       "      <td>0</td>\n",
       "      <td>...</td>\n",
       "      <td>7</td>\n",
       "      <td>1180</td>\n",
       "      <td>0</td>\n",
       "      <td>1955</td>\n",
       "      <td>0</td>\n",
       "      <td>98178</td>\n",
       "      <td>47.5112</td>\n",
       "      <td>-122.257</td>\n",
       "      <td>1340</td>\n",
       "      <td>5650</td>\n",
       "    </tr>\n",
       "    <tr>\n",
       "      <th>1</th>\n",
       "      <td>6414100192</td>\n",
       "      <td>20141209T000000</td>\n",
       "      <td>538000.0</td>\n",
       "      <td>3</td>\n",
       "      <td>2.25</td>\n",
       "      <td>2570</td>\n",
       "      <td>7242</td>\n",
       "      <td>2.0</td>\n",
       "      <td>0</td>\n",
       "      <td>0</td>\n",
       "      <td>...</td>\n",
       "      <td>7</td>\n",
       "      <td>2170</td>\n",
       "      <td>400</td>\n",
       "      <td>1951</td>\n",
       "      <td>1991</td>\n",
       "      <td>98125</td>\n",
       "      <td>47.7210</td>\n",
       "      <td>-122.319</td>\n",
       "      <td>1690</td>\n",
       "      <td>7639</td>\n",
       "    </tr>\n",
       "    <tr>\n",
       "      <th>2</th>\n",
       "      <td>5631500400</td>\n",
       "      <td>20150225T000000</td>\n",
       "      <td>180000.0</td>\n",
       "      <td>2</td>\n",
       "      <td>1.00</td>\n",
       "      <td>770</td>\n",
       "      <td>10000</td>\n",
       "      <td>1.0</td>\n",
       "      <td>0</td>\n",
       "      <td>0</td>\n",
       "      <td>...</td>\n",
       "      <td>6</td>\n",
       "      <td>770</td>\n",
       "      <td>0</td>\n",
       "      <td>1933</td>\n",
       "      <td>0</td>\n",
       "      <td>98028</td>\n",
       "      <td>47.7379</td>\n",
       "      <td>-122.233</td>\n",
       "      <td>2720</td>\n",
       "      <td>8062</td>\n",
       "    </tr>\n",
       "    <tr>\n",
       "      <th>3</th>\n",
       "      <td>2487200875</td>\n",
       "      <td>20141209T000000</td>\n",
       "      <td>604000.0</td>\n",
       "      <td>4</td>\n",
       "      <td>3.00</td>\n",
       "      <td>1960</td>\n",
       "      <td>5000</td>\n",
       "      <td>1.0</td>\n",
       "      <td>0</td>\n",
       "      <td>0</td>\n",
       "      <td>...</td>\n",
       "      <td>7</td>\n",
       "      <td>1050</td>\n",
       "      <td>910</td>\n",
       "      <td>1965</td>\n",
       "      <td>0</td>\n",
       "      <td>98136</td>\n",
       "      <td>47.5208</td>\n",
       "      <td>-122.393</td>\n",
       "      <td>1360</td>\n",
       "      <td>5000</td>\n",
       "    </tr>\n",
       "    <tr>\n",
       "      <th>4</th>\n",
       "      <td>1954400510</td>\n",
       "      <td>20150218T000000</td>\n",
       "      <td>510000.0</td>\n",
       "      <td>3</td>\n",
       "      <td>2.00</td>\n",
       "      <td>1680</td>\n",
       "      <td>8080</td>\n",
       "      <td>1.0</td>\n",
       "      <td>0</td>\n",
       "      <td>0</td>\n",
       "      <td>...</td>\n",
       "      <td>8</td>\n",
       "      <td>1680</td>\n",
       "      <td>0</td>\n",
       "      <td>1987</td>\n",
       "      <td>0</td>\n",
       "      <td>98074</td>\n",
       "      <td>47.6168</td>\n",
       "      <td>-122.045</td>\n",
       "      <td>1800</td>\n",
       "      <td>7503</td>\n",
       "    </tr>\n",
       "  </tbody>\n",
       "</table>\n",
       "<p>5 rows × 21 columns</p>\n",
       "</div>"
      ],
      "text/plain": [
       "           id             date     price  bedrooms  bathrooms  sqft_living  \\\n",
       "0  7129300520  20141013T000000  221900.0         3       1.00         1180   \n",
       "1  6414100192  20141209T000000  538000.0         3       2.25         2570   \n",
       "2  5631500400  20150225T000000  180000.0         2       1.00          770   \n",
       "3  2487200875  20141209T000000  604000.0         4       3.00         1960   \n",
       "4  1954400510  20150218T000000  510000.0         3       2.00         1680   \n",
       "\n",
       "   sqft_lot  floors  waterfront  view  ...  grade  sqft_above  sqft_basement  \\\n",
       "0      5650     1.0           0     0  ...      7        1180              0   \n",
       "1      7242     2.0           0     0  ...      7        2170            400   \n",
       "2     10000     1.0           0     0  ...      6         770              0   \n",
       "3      5000     1.0           0     0  ...      7        1050            910   \n",
       "4      8080     1.0           0     0  ...      8        1680              0   \n",
       "\n",
       "   yr_built  yr_renovated  zipcode      lat     long  sqft_living15  \\\n",
       "0      1955             0    98178  47.5112 -122.257           1340   \n",
       "1      1951          1991    98125  47.7210 -122.319           1690   \n",
       "2      1933             0    98028  47.7379 -122.233           2720   \n",
       "3      1965             0    98136  47.5208 -122.393           1360   \n",
       "4      1987             0    98074  47.6168 -122.045           1800   \n",
       "\n",
       "   sqft_lot15  \n",
       "0        5650  \n",
       "1        7639  \n",
       "2        8062  \n",
       "3        5000  \n",
       "4        7503  \n",
       "\n",
       "[5 rows x 21 columns]"
      ]
     },
     "execution_count": 7,
     "metadata": {},
     "output_type": "execute_result"
    }
   ],
   "source": [
    "# check the first 5 lines\n",
    "data.head(5)"
   ]
  },
  {
   "cell_type": "code",
   "execution_count": 8,
   "metadata": {},
   "outputs": [
    {
     "data": {
      "text/plain": [
       "(21613, 21)"
      ]
     },
     "execution_count": 8,
     "metadata": {},
     "output_type": "execute_result"
    }
   ],
   "source": [
    "# check how many rowsxcol\n",
    "data.shape"
   ]
  },
  {
   "cell_type": "code",
   "execution_count": 9,
   "metadata": {},
   "outputs": [
    {
     "name": "stdout",
     "output_type": "stream",
     "text": [
      "<class 'pandas.core.frame.DataFrame'>\n",
      "RangeIndex: 21613 entries, 0 to 21612\n",
      "Data columns (total 21 columns):\n",
      " #   Column         Non-Null Count  Dtype  \n",
      "---  ------         --------------  -----  \n",
      " 0   id             21613 non-null  int64  \n",
      " 1   date           21613 non-null  object \n",
      " 2   price          21613 non-null  float64\n",
      " 3   bedrooms       21613 non-null  int64  \n",
      " 4   bathrooms      21613 non-null  float64\n",
      " 5   sqft_living    21613 non-null  int64  \n",
      " 6   sqft_lot       21613 non-null  int64  \n",
      " 7   floors         21613 non-null  float64\n",
      " 8   waterfront     21613 non-null  int64  \n",
      " 9   view           21613 non-null  int64  \n",
      " 10  condition      21613 non-null  int64  \n",
      " 11  grade          21613 non-null  int64  \n",
      " 12  sqft_above     21613 non-null  int64  \n",
      " 13  sqft_basement  21613 non-null  int64  \n",
      " 14  yr_built       21613 non-null  int64  \n",
      " 15  yr_renovated   21613 non-null  int64  \n",
      " 16  zipcode        21613 non-null  int64  \n",
      " 17  lat            21613 non-null  float64\n",
      " 18  long           21613 non-null  float64\n",
      " 19  sqft_living15  21613 non-null  int64  \n",
      " 20  sqft_lot15     21613 non-null  int64  \n",
      "dtypes: float64(5), int64(15), object(1)\n",
      "memory usage: 3.5+ MB\n"
     ]
    }
   ],
   "source": [
    "# chech data types\n",
    "data.info()"
   ]
  },
  {
   "cell_type": "code",
   "execution_count": 10,
   "metadata": {
    "scrolled": true
   },
   "outputs": [
    {
     "data": {
      "text/html": [
       "<div>\n",
       "<style scoped>\n",
       "    .dataframe tbody tr th:only-of-type {\n",
       "        vertical-align: middle;\n",
       "    }\n",
       "\n",
       "    .dataframe tbody tr th {\n",
       "        vertical-align: top;\n",
       "    }\n",
       "\n",
       "    .dataframe thead th {\n",
       "        text-align: right;\n",
       "    }\n",
       "</style>\n",
       "<table border=\"1\" class=\"dataframe\">\n",
       "  <thead>\n",
       "    <tr style=\"text-align: right;\">\n",
       "      <th></th>\n",
       "      <th>id</th>\n",
       "      <th>price</th>\n",
       "      <th>bedrooms</th>\n",
       "      <th>bathrooms</th>\n",
       "      <th>sqft_living</th>\n",
       "      <th>sqft_lot</th>\n",
       "      <th>floors</th>\n",
       "      <th>waterfront</th>\n",
       "      <th>view</th>\n",
       "      <th>condition</th>\n",
       "      <th>grade</th>\n",
       "      <th>sqft_above</th>\n",
       "      <th>sqft_basement</th>\n",
       "      <th>yr_built</th>\n",
       "      <th>yr_renovated</th>\n",
       "      <th>zipcode</th>\n",
       "      <th>lat</th>\n",
       "      <th>long</th>\n",
       "      <th>sqft_living15</th>\n",
       "      <th>sqft_lot15</th>\n",
       "    </tr>\n",
       "  </thead>\n",
       "  <tbody>\n",
       "    <tr>\n",
       "      <th>count</th>\n",
       "      <td>2.161300e+04</td>\n",
       "      <td>2.161300e+04</td>\n",
       "      <td>21613.000000</td>\n",
       "      <td>21613.000000</td>\n",
       "      <td>21613.000000</td>\n",
       "      <td>2.161300e+04</td>\n",
       "      <td>21613.000000</td>\n",
       "      <td>21613.000000</td>\n",
       "      <td>21613.000000</td>\n",
       "      <td>21613.000000</td>\n",
       "      <td>21613.000000</td>\n",
       "      <td>21613.000000</td>\n",
       "      <td>21613.000000</td>\n",
       "      <td>21613.000000</td>\n",
       "      <td>21613.000000</td>\n",
       "      <td>21613.000000</td>\n",
       "      <td>21613.000000</td>\n",
       "      <td>21613.000000</td>\n",
       "      <td>21613.000000</td>\n",
       "      <td>21613.000000</td>\n",
       "    </tr>\n",
       "    <tr>\n",
       "      <th>mean</th>\n",
       "      <td>4.580302e+09</td>\n",
       "      <td>5.400881e+05</td>\n",
       "      <td>3.370842</td>\n",
       "      <td>2.114757</td>\n",
       "      <td>2079.899736</td>\n",
       "      <td>1.510697e+04</td>\n",
       "      <td>1.494309</td>\n",
       "      <td>0.007542</td>\n",
       "      <td>0.234303</td>\n",
       "      <td>3.409430</td>\n",
       "      <td>7.656873</td>\n",
       "      <td>1788.390691</td>\n",
       "      <td>291.509045</td>\n",
       "      <td>1971.005136</td>\n",
       "      <td>84.402258</td>\n",
       "      <td>98077.939805</td>\n",
       "      <td>47.560053</td>\n",
       "      <td>-122.213896</td>\n",
       "      <td>1986.552492</td>\n",
       "      <td>12768.455652</td>\n",
       "    </tr>\n",
       "    <tr>\n",
       "      <th>std</th>\n",
       "      <td>2.876566e+09</td>\n",
       "      <td>3.671272e+05</td>\n",
       "      <td>0.930062</td>\n",
       "      <td>0.770163</td>\n",
       "      <td>918.440897</td>\n",
       "      <td>4.142051e+04</td>\n",
       "      <td>0.539989</td>\n",
       "      <td>0.086517</td>\n",
       "      <td>0.766318</td>\n",
       "      <td>0.650743</td>\n",
       "      <td>1.175459</td>\n",
       "      <td>828.090978</td>\n",
       "      <td>442.575043</td>\n",
       "      <td>29.373411</td>\n",
       "      <td>401.679240</td>\n",
       "      <td>53.505026</td>\n",
       "      <td>0.138564</td>\n",
       "      <td>0.140828</td>\n",
       "      <td>685.391304</td>\n",
       "      <td>27304.179631</td>\n",
       "    </tr>\n",
       "    <tr>\n",
       "      <th>min</th>\n",
       "      <td>1.000102e+06</td>\n",
       "      <td>7.500000e+04</td>\n",
       "      <td>0.000000</td>\n",
       "      <td>0.000000</td>\n",
       "      <td>290.000000</td>\n",
       "      <td>5.200000e+02</td>\n",
       "      <td>1.000000</td>\n",
       "      <td>0.000000</td>\n",
       "      <td>0.000000</td>\n",
       "      <td>1.000000</td>\n",
       "      <td>1.000000</td>\n",
       "      <td>290.000000</td>\n",
       "      <td>0.000000</td>\n",
       "      <td>1900.000000</td>\n",
       "      <td>0.000000</td>\n",
       "      <td>98001.000000</td>\n",
       "      <td>47.155900</td>\n",
       "      <td>-122.519000</td>\n",
       "      <td>399.000000</td>\n",
       "      <td>651.000000</td>\n",
       "    </tr>\n",
       "    <tr>\n",
       "      <th>25%</th>\n",
       "      <td>2.123049e+09</td>\n",
       "      <td>3.219500e+05</td>\n",
       "      <td>3.000000</td>\n",
       "      <td>1.750000</td>\n",
       "      <td>1427.000000</td>\n",
       "      <td>5.040000e+03</td>\n",
       "      <td>1.000000</td>\n",
       "      <td>0.000000</td>\n",
       "      <td>0.000000</td>\n",
       "      <td>3.000000</td>\n",
       "      <td>7.000000</td>\n",
       "      <td>1190.000000</td>\n",
       "      <td>0.000000</td>\n",
       "      <td>1951.000000</td>\n",
       "      <td>0.000000</td>\n",
       "      <td>98033.000000</td>\n",
       "      <td>47.471000</td>\n",
       "      <td>-122.328000</td>\n",
       "      <td>1490.000000</td>\n",
       "      <td>5100.000000</td>\n",
       "    </tr>\n",
       "    <tr>\n",
       "      <th>50%</th>\n",
       "      <td>3.904930e+09</td>\n",
       "      <td>4.500000e+05</td>\n",
       "      <td>3.000000</td>\n",
       "      <td>2.250000</td>\n",
       "      <td>1910.000000</td>\n",
       "      <td>7.618000e+03</td>\n",
       "      <td>1.500000</td>\n",
       "      <td>0.000000</td>\n",
       "      <td>0.000000</td>\n",
       "      <td>3.000000</td>\n",
       "      <td>7.000000</td>\n",
       "      <td>1560.000000</td>\n",
       "      <td>0.000000</td>\n",
       "      <td>1975.000000</td>\n",
       "      <td>0.000000</td>\n",
       "      <td>98065.000000</td>\n",
       "      <td>47.571800</td>\n",
       "      <td>-122.230000</td>\n",
       "      <td>1840.000000</td>\n",
       "      <td>7620.000000</td>\n",
       "    </tr>\n",
       "    <tr>\n",
       "      <th>75%</th>\n",
       "      <td>7.308900e+09</td>\n",
       "      <td>6.450000e+05</td>\n",
       "      <td>4.000000</td>\n",
       "      <td>2.500000</td>\n",
       "      <td>2550.000000</td>\n",
       "      <td>1.068800e+04</td>\n",
       "      <td>2.000000</td>\n",
       "      <td>0.000000</td>\n",
       "      <td>0.000000</td>\n",
       "      <td>4.000000</td>\n",
       "      <td>8.000000</td>\n",
       "      <td>2210.000000</td>\n",
       "      <td>560.000000</td>\n",
       "      <td>1997.000000</td>\n",
       "      <td>0.000000</td>\n",
       "      <td>98118.000000</td>\n",
       "      <td>47.678000</td>\n",
       "      <td>-122.125000</td>\n",
       "      <td>2360.000000</td>\n",
       "      <td>10083.000000</td>\n",
       "    </tr>\n",
       "    <tr>\n",
       "      <th>max</th>\n",
       "      <td>9.900000e+09</td>\n",
       "      <td>7.700000e+06</td>\n",
       "      <td>33.000000</td>\n",
       "      <td>8.000000</td>\n",
       "      <td>13540.000000</td>\n",
       "      <td>1.651359e+06</td>\n",
       "      <td>3.500000</td>\n",
       "      <td>1.000000</td>\n",
       "      <td>4.000000</td>\n",
       "      <td>5.000000</td>\n",
       "      <td>13.000000</td>\n",
       "      <td>9410.000000</td>\n",
       "      <td>4820.000000</td>\n",
       "      <td>2015.000000</td>\n",
       "      <td>2015.000000</td>\n",
       "      <td>98199.000000</td>\n",
       "      <td>47.777600</td>\n",
       "      <td>-121.315000</td>\n",
       "      <td>6210.000000</td>\n",
       "      <td>871200.000000</td>\n",
       "    </tr>\n",
       "  </tbody>\n",
       "</table>\n",
       "</div>"
      ],
      "text/plain": [
       "                 id         price      bedrooms     bathrooms   sqft_living  \\\n",
       "count  2.161300e+04  2.161300e+04  21613.000000  21613.000000  21613.000000   \n",
       "mean   4.580302e+09  5.400881e+05      3.370842      2.114757   2079.899736   \n",
       "std    2.876566e+09  3.671272e+05      0.930062      0.770163    918.440897   \n",
       "min    1.000102e+06  7.500000e+04      0.000000      0.000000    290.000000   \n",
       "25%    2.123049e+09  3.219500e+05      3.000000      1.750000   1427.000000   \n",
       "50%    3.904930e+09  4.500000e+05      3.000000      2.250000   1910.000000   \n",
       "75%    7.308900e+09  6.450000e+05      4.000000      2.500000   2550.000000   \n",
       "max    9.900000e+09  7.700000e+06     33.000000      8.000000  13540.000000   \n",
       "\n",
       "           sqft_lot        floors    waterfront          view     condition  \\\n",
       "count  2.161300e+04  21613.000000  21613.000000  21613.000000  21613.000000   \n",
       "mean   1.510697e+04      1.494309      0.007542      0.234303      3.409430   \n",
       "std    4.142051e+04      0.539989      0.086517      0.766318      0.650743   \n",
       "min    5.200000e+02      1.000000      0.000000      0.000000      1.000000   \n",
       "25%    5.040000e+03      1.000000      0.000000      0.000000      3.000000   \n",
       "50%    7.618000e+03      1.500000      0.000000      0.000000      3.000000   \n",
       "75%    1.068800e+04      2.000000      0.000000      0.000000      4.000000   \n",
       "max    1.651359e+06      3.500000      1.000000      4.000000      5.000000   \n",
       "\n",
       "              grade    sqft_above  sqft_basement      yr_built  yr_renovated  \\\n",
       "count  21613.000000  21613.000000   21613.000000  21613.000000  21613.000000   \n",
       "mean       7.656873   1788.390691     291.509045   1971.005136     84.402258   \n",
       "std        1.175459    828.090978     442.575043     29.373411    401.679240   \n",
       "min        1.000000    290.000000       0.000000   1900.000000      0.000000   \n",
       "25%        7.000000   1190.000000       0.000000   1951.000000      0.000000   \n",
       "50%        7.000000   1560.000000       0.000000   1975.000000      0.000000   \n",
       "75%        8.000000   2210.000000     560.000000   1997.000000      0.000000   \n",
       "max       13.000000   9410.000000    4820.000000   2015.000000   2015.000000   \n",
       "\n",
       "            zipcode           lat          long  sqft_living15     sqft_lot15  \n",
       "count  21613.000000  21613.000000  21613.000000   21613.000000   21613.000000  \n",
       "mean   98077.939805     47.560053   -122.213896    1986.552492   12768.455652  \n",
       "std       53.505026      0.138564      0.140828     685.391304   27304.179631  \n",
       "min    98001.000000     47.155900   -122.519000     399.000000     651.000000  \n",
       "25%    98033.000000     47.471000   -122.328000    1490.000000    5100.000000  \n",
       "50%    98065.000000     47.571800   -122.230000    1840.000000    7620.000000  \n",
       "75%    98118.000000     47.678000   -122.125000    2360.000000   10083.000000  \n",
       "max    98199.000000     47.777600   -121.315000    6210.000000  871200.000000  "
      ]
     },
     "execution_count": 10,
     "metadata": {},
     "output_type": "execute_result"
    }
   ],
   "source": [
    "data.describe()"
   ]
  },
  {
   "cell_type": "code",
   "execution_count": 11,
   "metadata": {},
   "outputs": [
    {
     "data": {
      "text/plain": [
       "id               0\n",
       "date             0\n",
       "price            0\n",
       "bedrooms         0\n",
       "bathrooms        0\n",
       "sqft_living      0\n",
       "sqft_lot         0\n",
       "floors           0\n",
       "waterfront       0\n",
       "view             0\n",
       "condition        0\n",
       "grade            0\n",
       "sqft_above       0\n",
       "sqft_basement    0\n",
       "yr_built         0\n",
       "yr_renovated     0\n",
       "zipcode          0\n",
       "lat              0\n",
       "long             0\n",
       "sqft_living15    0\n",
       "sqft_lot15       0\n",
       "dtype: int64"
      ]
     },
     "execution_count": 11,
     "metadata": {},
     "output_type": "execute_result"
    }
   ],
   "source": [
    "# check missing values\n",
    "data.isnull().sum()"
   ]
  },
  {
   "cell_type": "code",
   "execution_count": 12,
   "metadata": {},
   "outputs": [],
   "source": [
    "data = data.drop(['date', 'zipcode'], axis = 1)"
   ]
  },
  {
   "cell_type": "code",
   "execution_count": 13,
   "metadata": {},
   "outputs": [
    {
     "data": {
      "text/plain": [
       "<matplotlib.axes._subplots.AxesSubplot at 0x1f1e8ad8f88>"
      ]
     },
     "execution_count": 13,
     "metadata": {},
     "output_type": "execute_result"
    },
    {
     "data": {
      "image/png": "[encoded data removed]",
      "text/plain": [
       "<Figure size 864x648 with 2 Axes>"
      ]
     },
     "metadata": {
      "needs_background": "light"
     },
     "output_type": "display_data"
    }
   ],
   "source": [
    "corr = data.corr()\n",
    "mask = np.zeros_like(corr, dtype=np.bool)\n",
    "mask[np.triu_indices_from(mask)] = True\n",
    "f, ax = plt.subplots(figsize=(12, 9))\n",
    "cmap = sns.diverging_palette(220, 10, as_cmap=True)\n",
    "sns.heatmap(corr, mask=mask, cmap=cmap, vmax=.3, center=0, square=True, linewidths=.5, cbar_kws={\"shrink\": .5})"
   ]
  },
  {
   "cell_type": "code",
   "execution_count": 14,
   "metadata": {},
   "outputs": [
    {
     "name": "stdout",
     "output_type": "stream",
     "text": [
      "Requirement already satisfied: sklearn in c:\\users\\lukel\\appdata\\local\\continuum\\anaconda3\\envs\\dataanalyticsanddevelopmenthw1\\lib\\site-packages (0.0)\n",
      "Requirement already satisfied: scikit-learn in c:\\users\\lukel\\appdata\\local\\continuum\\anaconda3\\envs\\dataanalyticsanddevelopmenthw1\\lib\\site-packages (from sklearn) (0.22.1)\n",
      "Requirement already satisfied: scipy>=0.17.0 in c:\\users\\lukel\\appdata\\local\\continuum\\anaconda3\\envs\\dataanalyticsanddevelopmenthw1\\lib\\site-packages (from scikit-learn->sklearn) (1.4.1)\n",
      "Requirement already satisfied: joblib>=0.11 in c:\\users\\lukel\\appdata\\local\\continuum\\anaconda3\\envs\\dataanalyticsanddevelopmenthw1\\lib\\site-packages (from scikit-learn->sklearn) (0.14.1)\n",
      "Requirement already satisfied: numpy>=1.11.0 in c:\\users\\lukel\\appdata\\local\\continuum\\anaconda3\\envs\\dataanalyticsanddevelopmenthw1\\lib\\site-packages (from scikit-learn->sklearn) (1.18.1)\n"
     ]
    }
   ],
   "source": [
    "#install sklearn\n",
    "!pip install sklearn"
   ]
  },
  {
   "cell_type": "code",
   "execution_count": 15,
   "metadata": {},
   "outputs": [],
   "source": [
    "features = ['bedrooms', 'bathrooms', 'sqft_living', 'sqft_lot', 'floors', 'waterfront', 'view', 'grade', 'sqft_above', 'sqft_basement', 'condition', 'yr_built', 'yr_renovated', 'lat', 'long', 'sqft_living15', 'sqft_lot15']\n",
    "X = data[features]\n",
    "y = data.price\n",
    "from sklearn.model_selection import train_test_split\n",
    "X_train, X_test, y_train, y_test = train_test_split(X, y, test_size=0.30, random_state=0)\n",
    "\n",
    "\n",
    "from sklearn.linear_model import LinearRegression\n",
    "regressor = LinearRegression()\n",
    "regressor.fit(X_train, y_train)\n",
    "y_pred = regressor.predict(X_test)"
   ]
  },
  {
   "cell_type": "code",
   "execution_count": 16,
   "metadata": {},
   "outputs": [
    {
     "name": "stdout",
     "output_type": "stream",
     "text": [
      "Mean Absolute Error: 125002.07442242983\n",
      "Mean Squared Error: 43690646677.922485\n",
      "Root Mean Squared Error: 209023.07690282067\n"
     ]
    },
    {
     "data": {
      "text/html": [
       "<div>\n",
       "<style scoped>\n",
       "    .dataframe tbody tr th:only-of-type {\n",
       "        vertical-align: middle;\n",
       "    }\n",
       "\n",
       "    .dataframe tbody tr th {\n",
       "        vertical-align: top;\n",
       "    }\n",
       "\n",
       "    .dataframe thead th {\n",
       "        text-align: right;\n",
       "    }\n",
       "</style>\n",
       "<table border=\"1\" class=\"dataframe\">\n",
       "  <thead>\n",
       "    <tr style=\"text-align: right;\">\n",
       "      <th></th>\n",
       "      <th>Actual</th>\n",
       "      <th>Predicted</th>\n",
       "    </tr>\n",
       "  </thead>\n",
       "  <tbody>\n",
       "    <tr>\n",
       "      <th>17384</th>\n",
       "      <td>297000.0</td>\n",
       "      <td>3.872015e+05</td>\n",
       "    </tr>\n",
       "    <tr>\n",
       "      <th>722</th>\n",
       "      <td>1578000.0</td>\n",
       "      <td>1.502715e+06</td>\n",
       "    </tr>\n",
       "    <tr>\n",
       "      <th>2680</th>\n",
       "      <td>562100.0</td>\n",
       "      <td>5.274534e+05</td>\n",
       "    </tr>\n",
       "    <tr>\n",
       "      <th>18754</th>\n",
       "      <td>631500.0</td>\n",
       "      <td>5.779358e+05</td>\n",
       "    </tr>\n",
       "    <tr>\n",
       "      <th>14554</th>\n",
       "      <td>780000.0</td>\n",
       "      <td>9.993390e+05</td>\n",
       "    </tr>\n",
       "  </tbody>\n",
       "</table>\n",
       "</div>"
      ],
      "text/plain": [
       "          Actual     Predicted\n",
       "17384   297000.0  3.872015e+05\n",
       "722    1578000.0  1.502715e+06\n",
       "2680    562100.0  5.274534e+05\n",
       "18754   631500.0  5.779358e+05\n",
       "14554   780000.0  9.993390e+05"
      ]
     },
     "execution_count": 16,
     "metadata": {},
     "output_type": "execute_result"
    }
   ],
   "source": [
    "df = pd.DataFrame({'Actual': y_test, 'Predicted': y_pred})\n",
    "from sklearn import metrics \n",
    " \n",
    "print('Mean Absolute Error:', metrics.mean_absolute_error(y_test, y_pred))  \n",
    "print('Mean Squared Error:', metrics.mean_squared_error(y_test, y_pred))  \n",
    "print('Root Mean Squared Error:', np.sqrt(metrics.mean_squared_error(y_test, y_pred)))\n",
    "df.head()"
   ]
  },
  {
   "cell_type": "code",
   "execution_count": 17,
   "metadata": {},
   "outputs": [
    {
     "data": {
      "text/plain": [
       "Text(0, 0.5, 'Predicted prices')"
      ]
     },
     "execution_count": 17,
     "metadata": {},
     "output_type": "execute_result"
    },
    {
     "data": {
      "image/png": "[encoded data removed]",
      "text/plain": [
       "<Figure size 432x288 with 1 Axes>"
      ]
     },
     "metadata": {
      "needs_background": "light"
     },
     "output_type": "display_data"
    }
   ],
   "source": [
    "plt.scatter(y_test, y_pred)\n",
    "plt.xlabel(\"Prices\")\n",
    "plt.ylabel(\"Predicted prices\")"
   ]
  },
  {
   "cell_type": "code",
   "execution_count": 19,
   "metadata": {},
   "outputs": [
    {
     "name": "stderr",
     "output_type": "stream",
     "text": [
      "C:\\Users\\lukel\\AppData\\Local\\Continuum\\anaconda3\\envs\\DataAnalyticsAndDevelopmentHW1\\lib\\site-packages\\sklearn\\linear_model\\_coordinate_descent.py:472: ConvergenceWarning: Objective did not converge. You might want to increase the number of iterations. Duality gap: 285549242121498.2, tolerance: 204936331764.47177\n",
      "  tol, rng, random, positive)\n",
      "C:\\Users\\lukel\\AppData\\Local\\Continuum\\anaconda3\\envs\\DataAnalyticsAndDevelopmentHW1\\lib\\site-packages\\sklearn\\linear_model\\_coordinate_descent.py:472: ConvergenceWarning: Objective did not converge. You might want to increase the number of iterations. Duality gap: 283590900829332.6, tolerance: 204936331764.47177\n",
      "  tol, rng, random, positive)\n",
      "C:\\Users\\lukel\\AppData\\Local\\Continuum\\anaconda3\\envs\\DataAnalyticsAndDevelopmentHW1\\lib\\site-packages\\sklearn\\linear_model\\_coordinate_descent.py:472: ConvergenceWarning: Objective did not converge. You might want to increase the number of iterations. Duality gap: 283393109487249.94, tolerance: 204936331764.47177\n",
      "  tol, rng, random, positive)\n",
      "C:\\Users\\lukel\\AppData\\Local\\Continuum\\anaconda3\\envs\\DataAnalyticsAndDevelopmentHW1\\lib\\site-packages\\sklearn\\linear_model\\_coordinate_descent.py:472: ConvergenceWarning: Objective did not converge. You might want to increase the number of iterations. Duality gap: 283373232471990.06, tolerance: 204936331764.47177\n",
      "  tol, rng, random, positive)\n",
      "C:\\Users\\lukel\\AppData\\Local\\Continuum\\anaconda3\\envs\\DataAnalyticsAndDevelopmentHW1\\lib\\site-packages\\sklearn\\linear_model\\_coordinate_descent.py:472: ConvergenceWarning: Objective did not converge. You might want to increase the number of iterations. Duality gap: 283371865827112.94, tolerance: 204936331764.47177\n",
      "  tol, rng, random, positive)\n",
      "C:\\Users\\lukel\\AppData\\Local\\Continuum\\anaconda3\\envs\\DataAnalyticsAndDevelopmentHW1\\lib\\site-packages\\sklearn\\linear_model\\_coordinate_descent.py:472: ConvergenceWarning: Objective did not converge. You might want to increase the number of iterations. Duality gap: 283373052858639.5, tolerance: 204936331764.47177\n",
      "  tol, rng, random, positive)\n",
      "C:\\Users\\lukel\\AppData\\Local\\Continuum\\anaconda3\\envs\\DataAnalyticsAndDevelopmentHW1\\lib\\site-packages\\sklearn\\linear_model\\_coordinate_descent.py:472: ConvergenceWarning: Objective did not converge. You might want to increase the number of iterations. Duality gap: 283343321818041.94, tolerance: 204936331764.47177\n",
      "  tol, rng, random, positive)\n",
      "C:\\Users\\lukel\\AppData\\Local\\Continuum\\anaconda3\\envs\\DataAnalyticsAndDevelopmentHW1\\lib\\site-packages\\sklearn\\linear_model\\_coordinate_descent.py:472: ConvergenceWarning: Objective did not converge. You might want to increase the number of iterations. Duality gap: 282128359446914.06, tolerance: 204759631376.91354\n",
      "  tol, rng, random, positive)\n",
      "C:\\Users\\lukel\\AppData\\Local\\Continuum\\anaconda3\\envs\\DataAnalyticsAndDevelopmentHW1\\lib\\site-packages\\sklearn\\linear_model\\_coordinate_descent.py:472: ConvergenceWarning: Objective did not converge. You might want to increase the number of iterations. Duality gap: 280133276617469.3, tolerance: 204759631376.91354\n",
      "  tol, rng, random, positive)\n",
      "C:\\Users\\lukel\\AppData\\Local\\Continuum\\anaconda3\\envs\\DataAnalyticsAndDevelopmentHW1\\lib\\site-packages\\sklearn\\linear_model\\_coordinate_descent.py:472: ConvergenceWarning: Objective did not converge. You might want to increase the number of iterations. Duality gap: 279931840925751.03, tolerance: 204759631376.91354\n",
      "  tol, rng, random, positive)\n",
      "C:\\Users\\lukel\\AppData\\Local\\Continuum\\anaconda3\\envs\\DataAnalyticsAndDevelopmentHW1\\lib\\site-packages\\sklearn\\linear_model\\_coordinate_descent.py:472: ConvergenceWarning: Objective did not converge. You might want to increase the number of iterations. Duality gap: 279911552566837.75, tolerance: 204759631376.91354\n",
      "  tol, rng, random, positive)\n",
      "C:\\Users\\lukel\\AppData\\Local\\Continuum\\anaconda3\\envs\\DataAnalyticsAndDevelopmentHW1\\lib\\site-packages\\sklearn\\linear_model\\_coordinate_descent.py:472: ConvergenceWarning: Objective did not converge. You might want to increase the number of iterations. Duality gap: 279909552744464.94, tolerance: 204759631376.91354\n",
      "  tol, rng, random, positive)\n",
      "C:\\Users\\lukel\\AppData\\Local\\Continuum\\anaconda3\\envs\\DataAnalyticsAndDevelopmentHW1\\lib\\site-packages\\sklearn\\linear_model\\_coordinate_descent.py:472: ConvergenceWarning: Objective did not converge. You might want to increase the number of iterations. Duality gap: 279923010073191.6, tolerance: 204759631376.91354\n",
      "  tol, rng, random, positive)\n",
      "C:\\Users\\lukel\\AppData\\Local\\Continuum\\anaconda3\\envs\\DataAnalyticsAndDevelopmentHW1\\lib\\site-packages\\sklearn\\linear_model\\_coordinate_descent.py:472: ConvergenceWarning: Objective did not converge. You might want to increase the number of iterations. Duality gap: 279823936468804.44, tolerance: 204759631376.91354\n",
      "  tol, rng, random, positive)\n",
      "C:\\Users\\lukel\\AppData\\Local\\Continuum\\anaconda3\\envs\\DataAnalyticsAndDevelopmentHW1\\lib\\site-packages\\sklearn\\linear_model\\_coordinate_descent.py:472: ConvergenceWarning: Objective did not converge. You might want to increase the number of iterations. Duality gap: 300598296554930.6, tolerance: 214636288963.56696\n",
      "  tol, rng, random, positive)\n",
      "C:\\Users\\lukel\\AppData\\Local\\Continuum\\anaconda3\\envs\\DataAnalyticsAndDevelopmentHW1\\lib\\site-packages\\sklearn\\linear_model\\_coordinate_descent.py:472: ConvergenceWarning: Objective did not converge. You might want to increase the number of iterations. Duality gap: 298597550652467.3, tolerance: 214636288963.56696\n",
      "  tol, rng, random, positive)\n",
      "C:\\Users\\lukel\\AppData\\Local\\Continuum\\anaconda3\\envs\\DataAnalyticsAndDevelopmentHW1\\lib\\site-packages\\sklearn\\linear_model\\_coordinate_descent.py:472: ConvergenceWarning: Objective did not converge. You might want to increase the number of iterations. Duality gap: 298395568846304.1, tolerance: 214636288963.56696\n",
      "  tol, rng, random, positive)\n",
      "C:\\Users\\lukel\\AppData\\Local\\Continuum\\anaconda3\\envs\\DataAnalyticsAndDevelopmentHW1\\lib\\site-packages\\sklearn\\linear_model\\_coordinate_descent.py:472: ConvergenceWarning: Objective did not converge. You might want to increase the number of iterations. Duality gap: 298375360881016.4, tolerance: 214636288963.56696\n",
      "  tol, rng, random, positive)\n",
      "C:\\Users\\lukel\\AppData\\Local\\Continuum\\anaconda3\\envs\\DataAnalyticsAndDevelopmentHW1\\lib\\site-packages\\sklearn\\linear_model\\_coordinate_descent.py:472: ConvergenceWarning: Objective did not converge. You might want to increase the number of iterations. Duality gap: 298373841661702.1, tolerance: 214636288963.56696\n",
      "  tol, rng, random, positive)\n",
      "C:\\Users\\lukel\\AppData\\Local\\Continuum\\anaconda3\\envs\\DataAnalyticsAndDevelopmentHW1\\lib\\site-packages\\sklearn\\linear_model\\_coordinate_descent.py:472: ConvergenceWarning: Objective did not converge. You might want to increase the number of iterations. Duality gap: 298369735854900.94, tolerance: 214636288963.56696\n",
      "  tol, rng, random, positive)\n",
      "C:\\Users\\lukel\\AppData\\Local\\Continuum\\anaconda3\\envs\\DataAnalyticsAndDevelopmentHW1\\lib\\site-packages\\sklearn\\linear_model\\_coordinate_descent.py:472: ConvergenceWarning: Objective did not converge. You might want to increase the number of iterations. Duality gap: 298353494661532.9, tolerance: 214636288963.56696\n",
      "  tol, rng, random, positive)\n",
      "C:\\Users\\lukel\\AppData\\Local\\Continuum\\anaconda3\\envs\\DataAnalyticsAndDevelopmentHW1\\lib\\site-packages\\sklearn\\linear_model\\_coordinate_descent.py:472: ConvergenceWarning: Objective did not converge. You might want to increase the number of iterations. Duality gap: 299476217453295.5, tolerance: 210955782726.46765\n",
      "  tol, rng, random, positive)\n",
      "C:\\Users\\lukel\\AppData\\Local\\Continuum\\anaconda3\\envs\\DataAnalyticsAndDevelopmentHW1\\lib\\site-packages\\sklearn\\linear_model\\_coordinate_descent.py:472: ConvergenceWarning: Objective did not converge. You might want to increase the number of iterations. Duality gap: 297412652005973.56, tolerance: 210955782726.46765\n",
      "  tol, rng, random, positive)\n",
      "C:\\Users\\lukel\\AppData\\Local\\Continuum\\anaconda3\\envs\\DataAnalyticsAndDevelopmentHW1\\lib\\site-packages\\sklearn\\linear_model\\_coordinate_descent.py:472: ConvergenceWarning: Objective did not converge. You might want to increase the number of iterations. Duality gap: 297204127235050.8, tolerance: 210955782726.46765\n",
      "  tol, rng, random, positive)\n",
      "C:\\Users\\lukel\\AppData\\Local\\Continuum\\anaconda3\\envs\\DataAnalyticsAndDevelopmentHW1\\lib\\site-packages\\sklearn\\linear_model\\_coordinate_descent.py:472: ConvergenceWarning: Objective did not converge. You might want to increase the number of iterations. Duality gap: 297183229824914.56, tolerance: 210955782726.46765\n",
      "  tol, rng, random, positive)\n",
      "C:\\Users\\lukel\\AppData\\Local\\Continuum\\anaconda3\\envs\\DataAnalyticsAndDevelopmentHW1\\lib\\site-packages\\sklearn\\linear_model\\_coordinate_descent.py:472: ConvergenceWarning: Objective did not converge. You might want to increase the number of iterations. Duality gap: 297180297231214.44, tolerance: 210955782726.46765\n",
      "  tol, rng, random, positive)\n",
      "C:\\Users\\lukel\\AppData\\Local\\Continuum\\anaconda3\\envs\\DataAnalyticsAndDevelopmentHW1\\lib\\site-packages\\sklearn\\linear_model\\_coordinate_descent.py:472: ConvergenceWarning: Objective did not converge. You might want to increase the number of iterations. Duality gap: 297180061727211.7, tolerance: 210955782726.46765\n",
      "  tol, rng, random, positive)\n",
      "C:\\Users\\lukel\\AppData\\Local\\Continuum\\anaconda3\\envs\\DataAnalyticsAndDevelopmentHW1\\lib\\site-packages\\sklearn\\linear_model\\_coordinate_descent.py:472: ConvergenceWarning: Objective did not converge. You might want to increase the number of iterations. Duality gap: 297185387923478.5, tolerance: 210955782726.46765\n",
      "  tol, rng, random, positive)\n",
      "C:\\Users\\lukel\\AppData\\Local\\Continuum\\anaconda3\\envs\\DataAnalyticsAndDevelopmentHW1\\lib\\site-packages\\sklearn\\linear_model\\_coordinate_descent.py:472: ConvergenceWarning: Objective did not converge. You might want to increase the number of iterations. Duality gap: 287266403661719.8, tolerance: 204601759201.68875\n",
      "  tol, rng, random, positive)\n",
      "C:\\Users\\lukel\\AppData\\Local\\Continuum\\anaconda3\\envs\\DataAnalyticsAndDevelopmentHW1\\lib\\site-packages\\sklearn\\linear_model\\_coordinate_descent.py:472: ConvergenceWarning: Objective did not converge. You might want to increase the number of iterations. Duality gap: 285348406790380.44, tolerance: 204601759201.68875\n",
      "  tol, rng, random, positive)\n",
      "C:\\Users\\lukel\\AppData\\Local\\Continuum\\anaconda3\\envs\\DataAnalyticsAndDevelopmentHW1\\lib\\site-packages\\sklearn\\linear_model\\_coordinate_descent.py:472: ConvergenceWarning: Objective did not converge. You might want to increase the number of iterations. Duality gap: 285154501214888.25, tolerance: 204601759201.68875\n",
      "  tol, rng, random, positive)\n",
      "C:\\Users\\lukel\\AppData\\Local\\Continuum\\anaconda3\\envs\\DataAnalyticsAndDevelopmentHW1\\lib\\site-packages\\sklearn\\linear_model\\_coordinate_descent.py:472: ConvergenceWarning: Objective did not converge. You might want to increase the number of iterations. Duality gap: 285135101459137.1, tolerance: 204601759201.68875\n",
      "  tol, rng, random, positive)\n",
      "C:\\Users\\lukel\\AppData\\Local\\Continuum\\anaconda3\\envs\\DataAnalyticsAndDevelopmentHW1\\lib\\site-packages\\sklearn\\linear_model\\_coordinate_descent.py:472: ConvergenceWarning: Objective did not converge. You might want to increase the number of iterations. Duality gap: 285133580122606.0, tolerance: 204601759201.68875\n",
      "  tol, rng, random, positive)\n",
      "C:\\Users\\lukel\\AppData\\Local\\Continuum\\anaconda3\\envs\\DataAnalyticsAndDevelopmentHW1\\lib\\site-packages\\sklearn\\linear_model\\_coordinate_descent.py:472: ConvergenceWarning: Objective did not converge. You might want to increase the number of iterations. Duality gap: 285133334756039.2, tolerance: 204601759201.68875\n",
      "  tol, rng, random, positive)\n",
      "C:\\Users\\lukel\\AppData\\Local\\Continuum\\anaconda3\\envs\\DataAnalyticsAndDevelopmentHW1\\lib\\site-packages\\sklearn\\linear_model\\_coordinate_descent.py:472: ConvergenceWarning: Objective did not converge. You might want to increase the number of iterations. Duality gap: 285207119082417.0, tolerance: 204601759201.68875\n",
      "  tol, rng, random, positive)\n"
     ]
    },
    {
     "name": "stderr",
     "output_type": "stream",
     "text": [
      "C:\\Users\\lukel\\AppData\\Local\\Continuum\\anaconda3\\envs\\DataAnalyticsAndDevelopmentHW1\\lib\\site-packages\\sklearn\\linear_model\\_coordinate_descent.py:476: ConvergenceWarning: Objective did not converge. You might want to increase the number of iterations. Duality gap: 361639111611559.94, tolerance: 260004851035.958\n",
      "  positive)\n",
      "C:\\Users\\lukel\\AppData\\Local\\Continuum\\anaconda3\\envs\\DataAnalyticsAndDevelopmentHW1\\lib\\site-packages\\sklearn\\linear_model\\_coordinate_descent.py:472: ConvergenceWarning: Objective did not converge. You might want to increase the number of iterations. Duality gap: 285549242121498.2, tolerance: 204936331764.47177\n",
      "  tol, rng, random, positive)\n",
      "C:\\Users\\lukel\\AppData\\Local\\Continuum\\anaconda3\\envs\\DataAnalyticsAndDevelopmentHW1\\lib\\site-packages\\sklearn\\linear_model\\_coordinate_descent.py:472: ConvergenceWarning: Objective did not converge. You might want to increase the number of iterations. Duality gap: 283590900829332.6, tolerance: 204936331764.47177\n",
      "  tol, rng, random, positive)\n",
      "C:\\Users\\lukel\\AppData\\Local\\Continuum\\anaconda3\\envs\\DataAnalyticsAndDevelopmentHW1\\lib\\site-packages\\sklearn\\linear_model\\_coordinate_descent.py:472: ConvergenceWarning: Objective did not converge. You might want to increase the number of iterations. Duality gap: 283393109487249.94, tolerance: 204936331764.47177\n",
      "  tol, rng, random, positive)\n",
      "C:\\Users\\lukel\\AppData\\Local\\Continuum\\anaconda3\\envs\\DataAnalyticsAndDevelopmentHW1\\lib\\site-packages\\sklearn\\linear_model\\_coordinate_descent.py:472: ConvergenceWarning: Objective did not converge. You might want to increase the number of iterations. Duality gap: 283373232471990.06, tolerance: 204936331764.47177\n",
      "  tol, rng, random, positive)\n",
      "C:\\Users\\lukel\\AppData\\Local\\Continuum\\anaconda3\\envs\\DataAnalyticsAndDevelopmentHW1\\lib\\site-packages\\sklearn\\linear_model\\_coordinate_descent.py:472: ConvergenceWarning: Objective did not converge. You might want to increase the number of iterations. Duality gap: 283371865827112.94, tolerance: 204936331764.47177\n",
      "  tol, rng, random, positive)\n",
      "C:\\Users\\lukel\\AppData\\Local\\Continuum\\anaconda3\\envs\\DataAnalyticsAndDevelopmentHW1\\lib\\site-packages\\sklearn\\linear_model\\_coordinate_descent.py:472: ConvergenceWarning: Objective did not converge. You might want to increase the number of iterations. Duality gap: 283373052858639.5, tolerance: 204936331764.47177\n",
      "  tol, rng, random, positive)\n",
      "C:\\Users\\lukel\\AppData\\Local\\Continuum\\anaconda3\\envs\\DataAnalyticsAndDevelopmentHW1\\lib\\site-packages\\sklearn\\linear_model\\_coordinate_descent.py:472: ConvergenceWarning: Objective did not converge. You might want to increase the number of iterations. Duality gap: 283343321818041.94, tolerance: 204936331764.47177\n",
      "  tol, rng, random, positive)\n",
      "C:\\Users\\lukel\\AppData\\Local\\Continuum\\anaconda3\\envs\\DataAnalyticsAndDevelopmentHW1\\lib\\site-packages\\sklearn\\linear_model\\_coordinate_descent.py:472: ConvergenceWarning: Objective did not converge. You might want to increase the number of iterations. Duality gap: 276668869890393.03, tolerance: 201863982304.78525\n",
      "  tol, rng, random, positive)\n",
      "C:\\Users\\lukel\\AppData\\Local\\Continuum\\anaconda3\\envs\\DataAnalyticsAndDevelopmentHW1\\lib\\site-packages\\sklearn\\linear_model\\_coordinate_descent.py:472: ConvergenceWarning: Objective did not converge. You might want to increase the number of iterations. Duality gap: 274692320821155.06, tolerance: 201863982304.78525\n",
      "  tol, rng, random, positive)\n",
      "C:\\Users\\lukel\\AppData\\Local\\Continuum\\anaconda3\\envs\\DataAnalyticsAndDevelopmentHW1\\lib\\site-packages\\sklearn\\linear_model\\_coordinate_descent.py:472: ConvergenceWarning: Objective did not converge. You might want to increase the number of iterations. Duality gap: 274492787326053.3, tolerance: 201863982304.78525\n",
      "  tol, rng, random, positive)\n",
      "C:\\Users\\lukel\\AppData\\Local\\Continuum\\anaconda3\\envs\\DataAnalyticsAndDevelopmentHW1\\lib\\site-packages\\sklearn\\linear_model\\_coordinate_descent.py:472: ConvergenceWarning: Objective did not converge. You might want to increase the number of iterations. Duality gap: 274472745176171.25, tolerance: 201863982304.78525\n",
      "  tol, rng, random, positive)\n",
      "C:\\Users\\lukel\\AppData\\Local\\Continuum\\anaconda3\\envs\\DataAnalyticsAndDevelopmentHW1\\lib\\site-packages\\sklearn\\linear_model\\_coordinate_descent.py:472: ConvergenceWarning: Objective did not converge. You might want to increase the number of iterations. Duality gap: 274470226340102.2, tolerance: 201863982304.78525\n",
      "  tol, rng, random, positive)\n",
      "C:\\Users\\lukel\\AppData\\Local\\Continuum\\anaconda3\\envs\\DataAnalyticsAndDevelopmentHW1\\lib\\site-packages\\sklearn\\linear_model\\_coordinate_descent.py:472: ConvergenceWarning: Objective did not converge. You might want to increase the number of iterations. Duality gap: 274463935336297.94, tolerance: 201863982304.78525\n",
      "  tol, rng, random, positive)\n",
      "C:\\Users\\lukel\\AppData\\Local\\Continuum\\anaconda3\\envs\\DataAnalyticsAndDevelopmentHW1\\lib\\site-packages\\sklearn\\linear_model\\_coordinate_descent.py:472: ConvergenceWarning: Objective did not converge. You might want to increase the number of iterations. Duality gap: 274519265055586.2, tolerance: 201863982304.78525\n",
      "  tol, rng, random, positive)\n",
      "C:\\Users\\lukel\\AppData\\Local\\Continuum\\anaconda3\\envs\\DataAnalyticsAndDevelopmentHW1\\lib\\site-packages\\sklearn\\linear_model\\_coordinate_descent.py:472: ConvergenceWarning: Objective did not converge. You might want to increase the number of iterations. Duality gap: 295560740678090.3, tolerance: 211738472830.06625\n",
      "  tol, rng, random, positive)\n",
      "C:\\Users\\lukel\\AppData\\Local\\Continuum\\anaconda3\\envs\\DataAnalyticsAndDevelopmentHW1\\lib\\site-packages\\sklearn\\linear_model\\_coordinate_descent.py:472: ConvergenceWarning: Objective did not converge. You might want to increase the number of iterations. Duality gap: 293576792572188.8, tolerance: 211738472830.06625\n",
      "  tol, rng, random, positive)\n",
      "C:\\Users\\lukel\\AppData\\Local\\Continuum\\anaconda3\\envs\\DataAnalyticsAndDevelopmentHW1\\lib\\site-packages\\sklearn\\linear_model\\_coordinate_descent.py:472: ConvergenceWarning: Objective did not converge. You might want to increase the number of iterations. Duality gap: 293376565534305.06, tolerance: 211738472830.06625\n",
      "  tol, rng, random, positive)\n",
      "C:\\Users\\lukel\\AppData\\Local\\Continuum\\anaconda3\\envs\\DataAnalyticsAndDevelopmentHW1\\lib\\site-packages\\sklearn\\linear_model\\_coordinate_descent.py:472: ConvergenceWarning: Objective did not converge. You might want to increase the number of iterations. Duality gap: 293356443578825.25, tolerance: 211738472830.06625\n",
      "  tol, rng, random, positive)\n",
      "C:\\Users\\lukel\\AppData\\Local\\Continuum\\anaconda3\\envs\\DataAnalyticsAndDevelopmentHW1\\lib\\site-packages\\sklearn\\linear_model\\_coordinate_descent.py:472: ConvergenceWarning: Objective did not converge. You might want to increase the number of iterations. Duality gap: 293352372162549.8, tolerance: 211738472830.06625\n",
      "  tol, rng, random, positive)\n",
      "C:\\Users\\lukel\\AppData\\Local\\Continuum\\anaconda3\\envs\\DataAnalyticsAndDevelopmentHW1\\lib\\site-packages\\sklearn\\linear_model\\_coordinate_descent.py:472: ConvergenceWarning: Objective did not converge. You might want to increase the number of iterations. Duality gap: 293358713553748.6, tolerance: 211738472830.06625\n",
      "  tol, rng, random, positive)\n",
      "C:\\Users\\lukel\\AppData\\Local\\Continuum\\anaconda3\\envs\\DataAnalyticsAndDevelopmentHW1\\lib\\site-packages\\sklearn\\linear_model\\_coordinate_descent.py:472: ConvergenceWarning: Objective did not converge. You might want to increase the number of iterations. Duality gap: 293296396498378.9, tolerance: 211738472830.06625\n",
      "  tol, rng, random, positive)\n",
      "C:\\Users\\lukel\\AppData\\Local\\Continuum\\anaconda3\\envs\\DataAnalyticsAndDevelopmentHW1\\lib\\site-packages\\sklearn\\linear_model\\_coordinate_descent.py:472: ConvergenceWarning: Objective did not converge. You might want to increase the number of iterations. Duality gap: 294888346201602.2, tolerance: 208046247152.85272\n",
      "  tol, rng, random, positive)\n",
      "C:\\Users\\lukel\\AppData\\Local\\Continuum\\anaconda3\\envs\\DataAnalyticsAndDevelopmentHW1\\lib\\site-packages\\sklearn\\linear_model\\_coordinate_descent.py:472: ConvergenceWarning: Objective did not converge. You might want to increase the number of iterations. Duality gap: 292845381559585.44, tolerance: 208046247152.85272\n",
      "  tol, rng, random, positive)\n",
      "C:\\Users\\lukel\\AppData\\Local\\Continuum\\anaconda3\\envs\\DataAnalyticsAndDevelopmentHW1\\lib\\site-packages\\sklearn\\linear_model\\_coordinate_descent.py:472: ConvergenceWarning: Objective did not converge. You might want to increase the number of iterations. Duality gap: 292639129861725.5, tolerance: 208046247152.85272\n",
      "  tol, rng, random, positive)\n",
      "C:\\Users\\lukel\\AppData\\Local\\Continuum\\anaconda3\\envs\\DataAnalyticsAndDevelopmentHW1\\lib\\site-packages\\sklearn\\linear_model\\_coordinate_descent.py:472: ConvergenceWarning: Objective did not converge. You might want to increase the number of iterations. Duality gap: 292618383650961.2, tolerance: 208046247152.85272\n",
      "  tol, rng, random, positive)\n",
      "C:\\Users\\lukel\\AppData\\Local\\Continuum\\anaconda3\\envs\\DataAnalyticsAndDevelopmentHW1\\lib\\site-packages\\sklearn\\linear_model\\_coordinate_descent.py:472: ConvergenceWarning: Objective did not converge. You might want to increase the number of iterations. Duality gap: 292614706417469.9, tolerance: 208046247152.85272\n",
      "  tol, rng, random, positive)\n",
      "C:\\Users\\lukel\\AppData\\Local\\Continuum\\anaconda3\\envs\\DataAnalyticsAndDevelopmentHW1\\lib\\site-packages\\sklearn\\linear_model\\_coordinate_descent.py:472: ConvergenceWarning: Objective did not converge. You might want to increase the number of iterations. Duality gap: 292607731015797.56, tolerance: 208046247152.85272\n",
      "  tol, rng, random, positive)\n",
      "C:\\Users\\lukel\\AppData\\Local\\Continuum\\anaconda3\\envs\\DataAnalyticsAndDevelopmentHW1\\lib\\site-packages\\sklearn\\linear_model\\_coordinate_descent.py:472: ConvergenceWarning: Objective did not converge. You might want to increase the number of iterations. Duality gap: 292640227914842.8, tolerance: 208046247152.85272\n",
      "  tol, rng, random, positive)\n",
      "C:\\Users\\lukel\\AppData\\Local\\Continuum\\anaconda3\\envs\\DataAnalyticsAndDevelopmentHW1\\lib\\site-packages\\sklearn\\linear_model\\_coordinate_descent.py:472: ConvergenceWarning: Objective did not converge. You might want to increase the number of iterations. Duality gap: 281778366353443.7, tolerance: 201651437066.31332\n",
      "  tol, rng, random, positive)\n"
     ]
    },
    {
     "name": "stderr",
     "output_type": "stream",
     "text": [
      "C:\\Users\\lukel\\AppData\\Local\\Continuum\\anaconda3\\envs\\DataAnalyticsAndDevelopmentHW1\\lib\\site-packages\\sklearn\\linear_model\\_coordinate_descent.py:472: ConvergenceWarning: Objective did not converge. You might want to increase the number of iterations. Duality gap: 279892865425108.53, tolerance: 201651437066.31332\n",
      "  tol, rng, random, positive)\n",
      "C:\\Users\\lukel\\AppData\\Local\\Continuum\\anaconda3\\envs\\DataAnalyticsAndDevelopmentHW1\\lib\\site-packages\\sklearn\\linear_model\\_coordinate_descent.py:472: ConvergenceWarning: Objective did not converge. You might want to increase the number of iterations. Duality gap: 279702255860448.97, tolerance: 201651437066.31332\n",
      "  tol, rng, random, positive)\n",
      "C:\\Users\\lukel\\AppData\\Local\\Continuum\\anaconda3\\envs\\DataAnalyticsAndDevelopmentHW1\\lib\\site-packages\\sklearn\\linear_model\\_coordinate_descent.py:472: ConvergenceWarning: Objective did not converge. You might want to increase the number of iterations. Duality gap: 279683163980434.12, tolerance: 201651437066.31332\n",
      "  tol, rng, random, positive)\n",
      "C:\\Users\\lukel\\AppData\\Local\\Continuum\\anaconda3\\envs\\DataAnalyticsAndDevelopmentHW1\\lib\\site-packages\\sklearn\\linear_model\\_coordinate_descent.py:472: ConvergenceWarning: Objective did not converge. You might want to increase the number of iterations. Duality gap: 279681358040674.62, tolerance: 201651437066.31332\n",
      "  tol, rng, random, positive)\n",
      "C:\\Users\\lukel\\AppData\\Local\\Continuum\\anaconda3\\envs\\DataAnalyticsAndDevelopmentHW1\\lib\\site-packages\\sklearn\\linear_model\\_coordinate_descent.py:472: ConvergenceWarning: Objective did not converge. You might want to increase the number of iterations. Duality gap: 279672388521324.16, tolerance: 201651437066.31332\n",
      "  tol, rng, random, positive)\n",
      "C:\\Users\\lukel\\AppData\\Local\\Continuum\\anaconda3\\envs\\DataAnalyticsAndDevelopmentHW1\\lib\\site-packages\\sklearn\\linear_model\\_coordinate_descent.py:472: ConvergenceWarning: Objective did not converge. You might want to increase the number of iterations. Duality gap: 279705846113959.12, tolerance: 201651437066.31332\n",
      "  tol, rng, random, positive)\n",
      "C:\\Users\\lukel\\AppData\\Local\\Continuum\\anaconda3\\envs\\DataAnalyticsAndDevelopmentHW1\\lib\\site-packages\\sklearn\\linear_model\\_coordinate_descent.py:476: ConvergenceWarning: Objective did not converge. You might want to increase the number of iterations. Duality gap: 356546238845218.5, tolerance: 257092287072.88525\n",
      "  positive)\n",
      "C:\\Users\\lukel\\AppData\\Local\\Continuum\\anaconda3\\envs\\DataAnalyticsAndDevelopmentHW1\\lib\\site-packages\\sklearn\\linear_model\\_coordinate_descent.py:472: ConvergenceWarning: Objective did not converge. You might want to increase the number of iterations. Duality gap: 297124063014421.1, tolerance: 211357184760.8496\n",
      "  tol, rng, random, positive)\n",
      "C:\\Users\\lukel\\AppData\\Local\\Continuum\\anaconda3\\envs\\DataAnalyticsAndDevelopmentHW1\\lib\\site-packages\\sklearn\\linear_model\\_coordinate_descent.py:472: ConvergenceWarning: Objective did not converge. You might want to increase the number of iterations. Duality gap: 295123573956228.9, tolerance: 211357184760.8496\n",
      "  tol, rng, random, positive)\n",
      "C:\\Users\\lukel\\AppData\\Local\\Continuum\\anaconda3\\envs\\DataAnalyticsAndDevelopmentHW1\\lib\\site-packages\\sklearn\\linear_model\\_coordinate_descent.py:472: ConvergenceWarning: Objective did not converge. You might want to increase the number of iterations. Duality gap: 294921569246016.06, tolerance: 211357184760.8496\n",
      "  tol, rng, random, positive)\n",
      "C:\\Users\\lukel\\AppData\\Local\\Continuum\\anaconda3\\envs\\DataAnalyticsAndDevelopmentHW1\\lib\\site-packages\\sklearn\\linear_model\\_coordinate_descent.py:472: ConvergenceWarning: Objective did not converge. You might want to increase the number of iterations. Duality gap: 294901425483266.9, tolerance: 211357184760.8496\n",
      "  tol, rng, random, positive)\n",
      "C:\\Users\\lukel\\AppData\\Local\\Continuum\\anaconda3\\envs\\DataAnalyticsAndDevelopmentHW1\\lib\\site-packages\\sklearn\\linear_model\\_coordinate_descent.py:472: ConvergenceWarning: Objective did not converge. You might want to increase the number of iterations. Duality gap: 294898433364310.0, tolerance: 211357184760.8496\n",
      "  tol, rng, random, positive)\n",
      "C:\\Users\\lukel\\AppData\\Local\\Continuum\\anaconda3\\envs\\DataAnalyticsAndDevelopmentHW1\\lib\\site-packages\\sklearn\\linear_model\\_coordinate_descent.py:472: ConvergenceWarning: Objective did not converge. You might want to increase the number of iterations. Duality gap: 294906858079323.5, tolerance: 211357184760.8496\n",
      "  tol, rng, random, positive)\n",
      "C:\\Users\\lukel\\AppData\\Local\\Continuum\\anaconda3\\envs\\DataAnalyticsAndDevelopmentHW1\\lib\\site-packages\\sklearn\\linear_model\\_coordinate_descent.py:472: ConvergenceWarning: Objective did not converge. You might want to increase the number of iterations. Duality gap: 295020674706311.0, tolerance: 211357184760.8496\n",
      "  tol, rng, random, positive)\n",
      "C:\\Users\\lukel\\AppData\\Local\\Continuum\\anaconda3\\envs\\DataAnalyticsAndDevelopmentHW1\\lib\\site-packages\\sklearn\\linear_model\\_coordinate_descent.py:472: ConvergenceWarning: Objective did not converge. You might want to increase the number of iterations. Duality gap: 276357209931937.3, tolerance: 204528269886.74203\n",
      "  tol, rng, random, positive)\n",
      "C:\\Users\\lukel\\AppData\\Local\\Continuum\\anaconda3\\envs\\DataAnalyticsAndDevelopmentHW1\\lib\\site-packages\\sklearn\\linear_model\\_coordinate_descent.py:472: ConvergenceWarning: Objective did not converge. You might want to increase the number of iterations. Duality gap: 274337924275249.6, tolerance: 204528269886.74203\n",
      "  tol, rng, random, positive)\n",
      "C:\\Users\\lukel\\AppData\\Local\\Continuum\\anaconda3\\envs\\DataAnalyticsAndDevelopmentHW1\\lib\\site-packages\\sklearn\\linear_model\\_coordinate_descent.py:472: ConvergenceWarning: Objective did not converge. You might want to increase the number of iterations. Duality gap: 274134128284364.8, tolerance: 204528269886.74203\n",
      "  tol, rng, random, positive)\n",
      "C:\\Users\\lukel\\AppData\\Local\\Continuum\\anaconda3\\envs\\DataAnalyticsAndDevelopmentHW1\\lib\\site-packages\\sklearn\\linear_model\\_coordinate_descent.py:472: ConvergenceWarning: Objective did not converge. You might want to increase the number of iterations. Duality gap: 274113876350656.94, tolerance: 204528269886.74203\n",
      "  tol, rng, random, positive)\n",
      "C:\\Users\\lukel\\AppData\\Local\\Continuum\\anaconda3\\envs\\DataAnalyticsAndDevelopmentHW1\\lib\\site-packages\\sklearn\\linear_model\\_coordinate_descent.py:472: ConvergenceWarning: Objective did not converge. You might want to increase the number of iterations. Duality gap: 274112046316733.12, tolerance: 204528269886.74203\n",
      "  tol, rng, random, positive)\n",
      "C:\\Users\\lukel\\AppData\\Local\\Continuum\\anaconda3\\envs\\DataAnalyticsAndDevelopmentHW1\\lib\\site-packages\\sklearn\\linear_model\\_coordinate_descent.py:472: ConvergenceWarning: Objective did not converge. You might want to increase the number of iterations. Duality gap: 274112682643481.5, tolerance: 204528269886.74203\n",
      "  tol, rng, random, positive)\n",
      "C:\\Users\\lukel\\AppData\\Local\\Continuum\\anaconda3\\envs\\DataAnalyticsAndDevelopmentHW1\\lib\\site-packages\\sklearn\\linear_model\\_coordinate_descent.py:472: ConvergenceWarning: Objective did not converge. You might want to increase the number of iterations. Duality gap: 274225684498536.94, tolerance: 204528269886.74203\n",
      "  tol, rng, random, positive)\n",
      "C:\\Users\\lukel\\AppData\\Local\\Continuum\\anaconda3\\envs\\DataAnalyticsAndDevelopmentHW1\\lib\\site-packages\\sklearn\\linear_model\\_coordinate_descent.py:472: ConvergenceWarning: Objective did not converge. You might want to increase the number of iterations. Duality gap: 306323334814048.25, tolerance: 220815998492.76437\n",
      "  tol, rng, random, positive)\n",
      "C:\\Users\\lukel\\AppData\\Local\\Continuum\\anaconda3\\envs\\DataAnalyticsAndDevelopmentHW1\\lib\\site-packages\\sklearn\\linear_model\\_coordinate_descent.py:472: ConvergenceWarning: Objective did not converge. You might want to increase the number of iterations. Duality gap: 304259412190250.6, tolerance: 220815998492.76437\n",
      "  tol, rng, random, positive)\n",
      "C:\\Users\\lukel\\AppData\\Local\\Continuum\\anaconda3\\envs\\DataAnalyticsAndDevelopmentHW1\\lib\\site-packages\\sklearn\\linear_model\\_coordinate_descent.py:472: ConvergenceWarning: Objective did not converge. You might want to increase the number of iterations. Duality gap: 304050981014408.4, tolerance: 220815998492.76437\n",
      "  tol, rng, random, positive)\n",
      "C:\\Users\\lukel\\AppData\\Local\\Continuum\\anaconda3\\envs\\DataAnalyticsAndDevelopmentHW1\\lib\\site-packages\\sklearn\\linear_model\\_coordinate_descent.py:472: ConvergenceWarning: Objective did not converge. You might want to increase the number of iterations. Duality gap: 304030136251574.75, tolerance: 220815998492.76437\n",
      "  tol, rng, random, positive)\n",
      "C:\\Users\\lukel\\AppData\\Local\\Continuum\\anaconda3\\envs\\DataAnalyticsAndDevelopmentHW1\\lib\\site-packages\\sklearn\\linear_model\\_coordinate_descent.py:472: ConvergenceWarning: Objective did not converge. You might want to increase the number of iterations. Duality gap: 304027403201607.75, tolerance: 220815998492.76437\n",
      "  tol, rng, random, positive)\n",
      "C:\\Users\\lukel\\AppData\\Local\\Continuum\\anaconda3\\envs\\DataAnalyticsAndDevelopmentHW1\\lib\\site-packages\\sklearn\\linear_model\\_coordinate_descent.py:472: ConvergenceWarning: Objective did not converge. You might want to increase the number of iterations. Duality gap: 304020268089901.4, tolerance: 220815998492.76437\n",
      "  tol, rng, random, positive)\n",
      "C:\\Users\\lukel\\AppData\\Local\\Continuum\\anaconda3\\envs\\DataAnalyticsAndDevelopmentHW1\\lib\\site-packages\\sklearn\\linear_model\\_coordinate_descent.py:472: ConvergenceWarning: Objective did not converge. You might want to increase the number of iterations. Duality gap: 304112988753566.75, tolerance: 220815998492.76437\n",
      "  tol, rng, random, positive)\n",
      "C:\\Users\\lukel\\AppData\\Local\\Continuum\\anaconda3\\envs\\DataAnalyticsAndDevelopmentHW1\\lib\\site-packages\\sklearn\\linear_model\\_coordinate_descent.py:472: ConvergenceWarning: Objective did not converge. You might want to increase the number of iterations. Duality gap: 305413233994449.1, tolerance: 217135631807.85266\n",
      "  tol, rng, random, positive)\n",
      "C:\\Users\\lukel\\AppData\\Local\\Continuum\\anaconda3\\envs\\DataAnalyticsAndDevelopmentHW1\\lib\\site-packages\\sklearn\\linear_model\\_coordinate_descent.py:472: ConvergenceWarning: Objective did not converge. You might want to increase the number of iterations. Duality gap: 303278709152239.44, tolerance: 217135631807.85266\n",
      "  tol, rng, random, positive)\n",
      "C:\\Users\\lukel\\AppData\\Local\\Continuum\\anaconda3\\envs\\DataAnalyticsAndDevelopmentHW1\\lib\\site-packages\\sklearn\\linear_model\\_coordinate_descent.py:472: ConvergenceWarning: Objective did not converge. You might want to increase the number of iterations. Duality gap: 303063095440823.4, tolerance: 217135631807.85266\n",
      "  tol, rng, random, positive)\n",
      "C:\\Users\\lukel\\AppData\\Local\\Continuum\\anaconda3\\envs\\DataAnalyticsAndDevelopmentHW1\\lib\\site-packages\\sklearn\\linear_model\\_coordinate_descent.py:472: ConvergenceWarning: Objective did not converge. You might want to increase the number of iterations. Duality gap: 303041492151733.94, tolerance: 217135631807.85266\n",
      "  tol, rng, random, positive)\n",
      "C:\\Users\\lukel\\AppData\\Local\\Continuum\\anaconda3\\envs\\DataAnalyticsAndDevelopmentHW1\\lib\\site-packages\\sklearn\\linear_model\\_coordinate_descent.py:472: ConvergenceWarning: Objective did not converge. You might want to increase the number of iterations. Duality gap: 303039088792119.06, tolerance: 217135631807.85266\n",
      "  tol, rng, random, positive)\n",
      "C:\\Users\\lukel\\AppData\\Local\\Continuum\\anaconda3\\envs\\DataAnalyticsAndDevelopmentHW1\\lib\\site-packages\\sklearn\\linear_model\\_coordinate_descent.py:472: ConvergenceWarning: Objective did not converge. You might want to increase the number of iterations. Duality gap: 303039301337240.1, tolerance: 217135631807.85266\n",
      "  tol, rng, random, positive)\n",
      "C:\\Users\\lukel\\AppData\\Local\\Continuum\\anaconda3\\envs\\DataAnalyticsAndDevelopmentHW1\\lib\\site-packages\\sklearn\\linear_model\\_coordinate_descent.py:472: ConvergenceWarning: Objective did not converge. You might want to increase the number of iterations. Duality gap: 303084800411802.4, tolerance: 217135631807.85266\n",
      "  tol, rng, random, positive)\n",
      "C:\\Users\\lukel\\AppData\\Local\\Continuum\\anaconda3\\envs\\DataAnalyticsAndDevelopmentHW1\\lib\\site-packages\\sklearn\\linear_model\\_coordinate_descent.py:472: ConvergenceWarning: Objective did not converge. You might want to increase the number of iterations. Duality gap: 293483398647402.1, tolerance: 210782093959.34027\n",
      "  tol, rng, random, positive)\n",
      "C:\\Users\\lukel\\AppData\\Local\\Continuum\\anaconda3\\envs\\DataAnalyticsAndDevelopmentHW1\\lib\\site-packages\\sklearn\\linear_model\\_coordinate_descent.py:472: ConvergenceWarning: Objective did not converge. You might want to increase the number of iterations. Duality gap: 291496793012885.1, tolerance: 210782093959.34027\n",
      "  tol, rng, random, positive)\n",
      "C:\\Users\\lukel\\AppData\\Local\\Continuum\\anaconda3\\envs\\DataAnalyticsAndDevelopmentHW1\\lib\\site-packages\\sklearn\\linear_model\\_coordinate_descent.py:472: ConvergenceWarning: Objective did not converge. You might want to increase the number of iterations. Duality gap: 291296094632180.9, tolerance: 210782093959.34027\n",
      "  tol, rng, random, positive)\n",
      "C:\\Users\\lukel\\AppData\\Local\\Continuum\\anaconda3\\envs\\DataAnalyticsAndDevelopmentHW1\\lib\\site-packages\\sklearn\\linear_model\\_coordinate_descent.py:472: ConvergenceWarning: Objective did not converge. You might want to increase the number of iterations. Duality gap: 291276218599459.25, tolerance: 210782093959.34027\n",
      "  tol, rng, random, positive)\n"
     ]
    },
    {
     "name": "stderr",
     "output_type": "stream",
     "text": [
      "C:\\Users\\lukel\\AppData\\Local\\Continuum\\anaconda3\\envs\\DataAnalyticsAndDevelopmentHW1\\lib\\site-packages\\sklearn\\linear_model\\_coordinate_descent.py:472: ConvergenceWarning: Objective did not converge. You might want to increase the number of iterations. Duality gap: 291273220892742.3, tolerance: 210782093959.34027\n",
      "  tol, rng, random, positive)\n",
      "C:\\Users\\lukel\\AppData\\Local\\Continuum\\anaconda3\\envs\\DataAnalyticsAndDevelopmentHW1\\lib\\site-packages\\sklearn\\linear_model\\_coordinate_descent.py:472: ConvergenceWarning: Objective did not converge. You might want to increase the number of iterations. Duality gap: 291267632586159.8, tolerance: 210782093959.34027\n",
      "  tol, rng, random, positive)\n",
      "C:\\Users\\lukel\\AppData\\Local\\Continuum\\anaconda3\\envs\\DataAnalyticsAndDevelopmentHW1\\lib\\site-packages\\sklearn\\linear_model\\_coordinate_descent.py:472: ConvergenceWarning: Objective did not converge. You might want to increase the number of iterations. Duality gap: 291298073637034.9, tolerance: 210782093959.34027\n",
      "  tol, rng, random, positive)\n",
      "C:\\Users\\lukel\\AppData\\Local\\Continuum\\anaconda3\\envs\\DataAnalyticsAndDevelopmentHW1\\lib\\site-packages\\sklearn\\linear_model\\_coordinate_descent.py:476: ConvergenceWarning: Objective did not converge. You might want to increase the number of iterations. Duality gap: 367622016922886.25, tolerance: 266184745178.01212\n",
      "  positive)\n",
      "C:\\Users\\lukel\\AppData\\Local\\Continuum\\anaconda3\\envs\\DataAnalyticsAndDevelopmentHW1\\lib\\site-packages\\sklearn\\linear_model\\_coordinate_descent.py:472: ConvergenceWarning: Objective did not converge. You might want to increase the number of iterations. Duality gap: 281041125548681.3, tolerance: 200885820380.99487\n",
      "  tol, rng, random, positive)\n",
      "C:\\Users\\lukel\\AppData\\Local\\Continuum\\anaconda3\\envs\\DataAnalyticsAndDevelopmentHW1\\lib\\site-packages\\sklearn\\linear_model\\_coordinate_descent.py:472: ConvergenceWarning: Objective did not converge. You might want to increase the number of iterations. Duality gap: 279084275977787.16, tolerance: 200885820380.99487\n",
      "  tol, rng, random, positive)\n",
      "C:\\Users\\lukel\\AppData\\Local\\Continuum\\anaconda3\\envs\\DataAnalyticsAndDevelopmentHW1\\lib\\site-packages\\sklearn\\linear_model\\_coordinate_descent.py:472: ConvergenceWarning: Objective did not converge. You might want to increase the number of iterations. Duality gap: 278886665102849.0, tolerance: 200885820380.99487\n",
      "  tol, rng, random, positive)\n",
      "C:\\Users\\lukel\\AppData\\Local\\Continuum\\anaconda3\\envs\\DataAnalyticsAndDevelopmentHW1\\lib\\site-packages\\sklearn\\linear_model\\_coordinate_descent.py:472: ConvergenceWarning: Objective did not converge. You might want to increase the number of iterations. Duality gap: 278866716370463.7, tolerance: 200885820380.99487\n",
      "  tol, rng, random, positive)\n",
      "C:\\Users\\lukel\\AppData\\Local\\Continuum\\anaconda3\\envs\\DataAnalyticsAndDevelopmentHW1\\lib\\site-packages\\sklearn\\linear_model\\_coordinate_descent.py:472: ConvergenceWarning: Objective did not converge. You might want to increase the number of iterations. Duality gap: 278864959135258.56, tolerance: 200885820380.99487\n",
      "  tol, rng, random, positive)\n",
      "C:\\Users\\lukel\\AppData\\Local\\Continuum\\anaconda3\\envs\\DataAnalyticsAndDevelopmentHW1\\lib\\site-packages\\sklearn\\linear_model\\_coordinate_descent.py:472: ConvergenceWarning: Objective did not converge. You might want to increase the number of iterations. Duality gap: 278860276763718.78, tolerance: 200885820380.99487\n",
      "  tol, rng, random, positive)\n",
      "C:\\Users\\lukel\\AppData\\Local\\Continuum\\anaconda3\\envs\\DataAnalyticsAndDevelopmentHW1\\lib\\site-packages\\sklearn\\linear_model\\_coordinate_descent.py:472: ConvergenceWarning: Objective did not converge. You might want to increase the number of iterations. Duality gap: 278840931893878.7, tolerance: 200885820380.99487\n",
      "  tol, rng, random, positive)\n",
      "C:\\Users\\lukel\\AppData\\Local\\Continuum\\anaconda3\\envs\\DataAnalyticsAndDevelopmentHW1\\lib\\site-packages\\sklearn\\linear_model\\_coordinate_descent.py:472: ConvergenceWarning: Objective did not converge. You might want to increase the number of iterations. Duality gap: 276357209931937.3, tolerance: 204528269886.74203\n",
      "  tol, rng, random, positive)\n",
      "C:\\Users\\lukel\\AppData\\Local\\Continuum\\anaconda3\\envs\\DataAnalyticsAndDevelopmentHW1\\lib\\site-packages\\sklearn\\linear_model\\_coordinate_descent.py:472: ConvergenceWarning: Objective did not converge. You might want to increase the number of iterations. Duality gap: 274337924275249.6, tolerance: 204528269886.74203\n",
      "  tol, rng, random, positive)\n",
      "C:\\Users\\lukel\\AppData\\Local\\Continuum\\anaconda3\\envs\\DataAnalyticsAndDevelopmentHW1\\lib\\site-packages\\sklearn\\linear_model\\_coordinate_descent.py:472: ConvergenceWarning: Objective did not converge. You might want to increase the number of iterations. Duality gap: 274134128284364.8, tolerance: 204528269886.74203\n",
      "  tol, rng, random, positive)\n",
      "C:\\Users\\lukel\\AppData\\Local\\Continuum\\anaconda3\\envs\\DataAnalyticsAndDevelopmentHW1\\lib\\site-packages\\sklearn\\linear_model\\_coordinate_descent.py:472: ConvergenceWarning: Objective did not converge. You might want to increase the number of iterations. Duality gap: 274113876350656.94, tolerance: 204528269886.74203\n",
      "  tol, rng, random, positive)\n",
      "C:\\Users\\lukel\\AppData\\Local\\Continuum\\anaconda3\\envs\\DataAnalyticsAndDevelopmentHW1\\lib\\site-packages\\sklearn\\linear_model\\_coordinate_descent.py:472: ConvergenceWarning: Objective did not converge. You might want to increase the number of iterations. Duality gap: 274112046316733.12, tolerance: 204528269886.74203\n",
      "  tol, rng, random, positive)\n",
      "C:\\Users\\lukel\\AppData\\Local\\Continuum\\anaconda3\\envs\\DataAnalyticsAndDevelopmentHW1\\lib\\site-packages\\sklearn\\linear_model\\_coordinate_descent.py:472: ConvergenceWarning: Objective did not converge. You might want to increase the number of iterations. Duality gap: 274112682643481.5, tolerance: 204528269886.74203\n",
      "  tol, rng, random, positive)\n",
      "C:\\Users\\lukel\\AppData\\Local\\Continuum\\anaconda3\\envs\\DataAnalyticsAndDevelopmentHW1\\lib\\site-packages\\sklearn\\linear_model\\_coordinate_descent.py:472: ConvergenceWarning: Objective did not converge. You might want to increase the number of iterations. Duality gap: 274225684498536.94, tolerance: 204528269886.74203\n",
      "  tol, rng, random, positive)\n",
      "C:\\Users\\lukel\\AppData\\Local\\Continuum\\anaconda3\\envs\\DataAnalyticsAndDevelopmentHW1\\lib\\site-packages\\sklearn\\linear_model\\_coordinate_descent.py:472: ConvergenceWarning: Objective did not converge. You might want to increase the number of iterations. Duality gap: 290409922139499.44, tolerance: 210341218356.73538\n",
      "  tol, rng, random, positive)\n",
      "C:\\Users\\lukel\\AppData\\Local\\Continuum\\anaconda3\\envs\\DataAnalyticsAndDevelopmentHW1\\lib\\site-packages\\sklearn\\linear_model\\_coordinate_descent.py:472: ConvergenceWarning: Objective did not converge. You might want to increase the number of iterations. Duality gap: 288391156543273.9, tolerance: 210341218356.73538\n",
      "  tol, rng, random, positive)\n",
      "C:\\Users\\lukel\\AppData\\Local\\Continuum\\anaconda3\\envs\\DataAnalyticsAndDevelopmentHW1\\lib\\site-packages\\sklearn\\linear_model\\_coordinate_descent.py:472: ConvergenceWarning: Objective did not converge. You might want to increase the number of iterations. Duality gap: 288187458606102.6, tolerance: 210341218356.73538\n",
      "  tol, rng, random, positive)\n",
      "C:\\Users\\lukel\\AppData\\Local\\Continuum\\anaconda3\\envs\\DataAnalyticsAndDevelopmentHW1\\lib\\site-packages\\sklearn\\linear_model\\_coordinate_descent.py:472: ConvergenceWarning: Objective did not converge. You might want to increase the number of iterations. Duality gap: 288166972231322.5, tolerance: 210341218356.73538\n",
      "  tol, rng, random, positive)\n",
      "C:\\Users\\lukel\\AppData\\Local\\Continuum\\anaconda3\\envs\\DataAnalyticsAndDevelopmentHW1\\lib\\site-packages\\sklearn\\linear_model\\_coordinate_descent.py:472: ConvergenceWarning: Objective did not converge. You might want to increase the number of iterations. Duality gap: 288163837861220.2, tolerance: 210341218356.73538\n",
      "  tol, rng, random, positive)\n",
      "C:\\Users\\lukel\\AppData\\Local\\Continuum\\anaconda3\\envs\\DataAnalyticsAndDevelopmentHW1\\lib\\site-packages\\sklearn\\linear_model\\_coordinate_descent.py:472: ConvergenceWarning: Objective did not converge. You might want to increase the number of iterations. Duality gap: 288166068116514.6, tolerance: 210341218356.73538\n",
      "  tol, rng, random, positive)\n",
      "C:\\Users\\lukel\\AppData\\Local\\Continuum\\anaconda3\\envs\\DataAnalyticsAndDevelopmentHW1\\lib\\site-packages\\sklearn\\linear_model\\_coordinate_descent.py:472: ConvergenceWarning: Objective did not converge. You might want to increase the number of iterations. Duality gap: 288217583597917.1, tolerance: 210341218356.73538\n",
      "  tol, rng, random, positive)\n",
      "C:\\Users\\lukel\\AppData\\Local\\Continuum\\anaconda3\\envs\\DataAnalyticsAndDevelopmentHW1\\lib\\site-packages\\sklearn\\linear_model\\_coordinate_descent.py:472: ConvergenceWarning: Objective did not converge. You might want to increase the number of iterations. Duality gap: 290075142080802.94, tolerance: 206665369281.4652\n",
      "  tol, rng, random, positive)\n",
      "C:\\Users\\lukel\\AppData\\Local\\Continuum\\anaconda3\\envs\\DataAnalyticsAndDevelopmentHW1\\lib\\site-packages\\sklearn\\linear_model\\_coordinate_descent.py:472: ConvergenceWarning: Objective did not converge. You might want to increase the number of iterations. Duality gap: 287992568644752.1, tolerance: 206665369281.4652\n",
      "  tol, rng, random, positive)\n",
      "C:\\Users\\lukel\\AppData\\Local\\Continuum\\anaconda3\\envs\\DataAnalyticsAndDevelopmentHW1\\lib\\site-packages\\sklearn\\linear_model\\_coordinate_descent.py:472: ConvergenceWarning: Objective did not converge. You might want to increase the number of iterations. Duality gap: 287782362755464.2, tolerance: 206665369281.4652\n",
      "  tol, rng, random, positive)\n",
      "C:\\Users\\lukel\\AppData\\Local\\Continuum\\anaconda3\\envs\\DataAnalyticsAndDevelopmentHW1\\lib\\site-packages\\sklearn\\linear_model\\_coordinate_descent.py:472: ConvergenceWarning: Objective did not converge. You might want to increase the number of iterations. Duality gap: 287761214305319.0, tolerance: 206665369281.4652\n",
      "  tol, rng, random, positive)\n",
      "C:\\Users\\lukel\\AppData\\Local\\Continuum\\anaconda3\\envs\\DataAnalyticsAndDevelopmentHW1\\lib\\site-packages\\sklearn\\linear_model\\_coordinate_descent.py:472: ConvergenceWarning: Objective did not converge. You might want to increase the number of iterations. Duality gap: 287759523591252.3, tolerance: 206665369281.4652\n",
      "  tol, rng, random, positive)\n",
      "C:\\Users\\lukel\\AppData\\Local\\Continuum\\anaconda3\\envs\\DataAnalyticsAndDevelopmentHW1\\lib\\site-packages\\sklearn\\linear_model\\_coordinate_descent.py:472: ConvergenceWarning: Objective did not converge. You might want to increase the number of iterations. Duality gap: 287756138134701.56, tolerance: 206665369281.4652\n",
      "  tol, rng, random, positive)\n",
      "C:\\Users\\lukel\\AppData\\Local\\Continuum\\anaconda3\\envs\\DataAnalyticsAndDevelopmentHW1\\lib\\site-packages\\sklearn\\linear_model\\_coordinate_descent.py:472: ConvergenceWarning: Objective did not converge. You might want to increase the number of iterations. Duality gap: 287880609886541.4, tolerance: 206665369281.4652\n",
      "  tol, rng, random, positive)\n",
      "C:\\Users\\lukel\\AppData\\Local\\Continuum\\anaconda3\\envs\\DataAnalyticsAndDevelopmentHW1\\lib\\site-packages\\sklearn\\linear_model\\_coordinate_descent.py:472: ConvergenceWarning: Objective did not converge. You might want to increase the number of iterations. Duality gap: 276986982598481.06, tolerance: 200327563048.60263\n",
      "  tol, rng, random, positive)\n",
      "C:\\Users\\lukel\\AppData\\Local\\Continuum\\anaconda3\\envs\\DataAnalyticsAndDevelopmentHW1\\lib\\site-packages\\sklearn\\linear_model\\_coordinate_descent.py:472: ConvergenceWarning: Objective did not converge. You might want to increase the number of iterations. Duality gap: 275053823661640.4, tolerance: 200327563048.60263\n",
      "  tol, rng, random, positive)\n",
      "C:\\Users\\lukel\\AppData\\Local\\Continuum\\anaconda3\\envs\\DataAnalyticsAndDevelopmentHW1\\lib\\site-packages\\sklearn\\linear_model\\_coordinate_descent.py:472: ConvergenceWarning: Objective did not converge. You might want to increase the number of iterations. Duality gap: 274858481426722.0, tolerance: 200327563048.60263\n",
      "  tol, rng, random, positive)\n",
      "C:\\Users\\lukel\\AppData\\Local\\Continuum\\anaconda3\\envs\\DataAnalyticsAndDevelopmentHW1\\lib\\site-packages\\sklearn\\linear_model\\_coordinate_descent.py:472: ConvergenceWarning: Objective did not converge. You might want to increase the number of iterations. Duality gap: 274838873736992.0, tolerance: 200327563048.60263\n",
      "  tol, rng, random, positive)\n"
     ]
    },
    {
     "name": "stderr",
     "output_type": "stream",
     "text": [
      "C:\\Users\\lukel\\AppData\\Local\\Continuum\\anaconda3\\envs\\DataAnalyticsAndDevelopmentHW1\\lib\\site-packages\\sklearn\\linear_model\\_coordinate_descent.py:472: ConvergenceWarning: Objective did not converge. You might want to increase the number of iterations. Duality gap: 274836930864649.8, tolerance: 200327563048.60263\n",
      "  tol, rng, random, positive)\n",
      "C:\\Users\\lukel\\AppData\\Local\\Continuum\\anaconda3\\envs\\DataAnalyticsAndDevelopmentHW1\\lib\\site-packages\\sklearn\\linear_model\\_coordinate_descent.py:472: ConvergenceWarning: Objective did not converge. You might want to increase the number of iterations. Duality gap: 274848625279513.78, tolerance: 200327563048.60263\n",
      "  tol, rng, random, positive)\n",
      "C:\\Users\\lukel\\AppData\\Local\\Continuum\\anaconda3\\envs\\DataAnalyticsAndDevelopmentHW1\\lib\\site-packages\\sklearn\\linear_model\\_coordinate_descent.py:472: ConvergenceWarning: Objective did not converge. You might want to increase the number of iterations. Duality gap: 274859843675580.75, tolerance: 200327563048.60263\n",
      "  tol, rng, random, positive)\n",
      "C:\\Users\\lukel\\AppData\\Local\\Continuum\\anaconda3\\envs\\DataAnalyticsAndDevelopmentHW1\\lib\\site-packages\\sklearn\\linear_model\\_coordinate_descent.py:476: ConvergenceWarning: Objective did not converge. You might want to increase the number of iterations. Duality gap: 351593304230981.8, tolerance: 255716056074.62552\n",
      "  positive)\n",
      "C:\\Users\\lukel\\AppData\\Local\\Continuum\\anaconda3\\envs\\DataAnalyticsAndDevelopmentHW1\\lib\\site-packages\\sklearn\\linear_model\\_coordinate_descent.py:472: ConvergenceWarning: Objective did not converge. You might want to increase the number of iterations. Duality gap: 297934304239374.4, tolerance: 212618038990.57425\n",
      "  tol, rng, random, positive)\n",
      "C:\\Users\\lukel\\AppData\\Local\\Continuum\\anaconda3\\envs\\DataAnalyticsAndDevelopmentHW1\\lib\\site-packages\\sklearn\\linear_model\\_coordinate_descent.py:472: ConvergenceWarning: Objective did not converge. You might want to increase the number of iterations. Duality gap: 295950529172845.25, tolerance: 212618038990.57425\n",
      "  tol, rng, random, positive)\n",
      "C:\\Users\\lukel\\AppData\\Local\\Continuum\\anaconda3\\envs\\DataAnalyticsAndDevelopmentHW1\\lib\\site-packages\\sklearn\\linear_model\\_coordinate_descent.py:472: ConvergenceWarning: Objective did not converge. You might want to increase the number of iterations. Duality gap: 295750254096569.3, tolerance: 212618038990.57425\n",
      "  tol, rng, random, positive)\n",
      "C:\\Users\\lukel\\AppData\\Local\\Continuum\\anaconda3\\envs\\DataAnalyticsAndDevelopmentHW1\\lib\\site-packages\\sklearn\\linear_model\\_coordinate_descent.py:472: ConvergenceWarning: Objective did not converge. You might want to increase the number of iterations. Duality gap: 295730239482104.25, tolerance: 212618038990.57425\n",
      "  tol, rng, random, positive)\n",
      "C:\\Users\\lukel\\AppData\\Local\\Continuum\\anaconda3\\envs\\DataAnalyticsAndDevelopmentHW1\\lib\\site-packages\\sklearn\\linear_model\\_coordinate_descent.py:472: ConvergenceWarning: Objective did not converge. You might want to increase the number of iterations. Duality gap: 295726758594783.5, tolerance: 212618038990.57425\n",
      "  tol, rng, random, positive)\n",
      "C:\\Users\\lukel\\AppData\\Local\\Continuum\\anaconda3\\envs\\DataAnalyticsAndDevelopmentHW1\\lib\\site-packages\\sklearn\\linear_model\\_coordinate_descent.py:472: ConvergenceWarning: Objective did not converge. You might want to increase the number of iterations. Duality gap: 295716803808431.94, tolerance: 212618038990.57425\n",
      "  tol, rng, random, positive)\n",
      "C:\\Users\\lukel\\AppData\\Local\\Continuum\\anaconda3\\envs\\DataAnalyticsAndDevelopmentHW1\\lib\\site-packages\\sklearn\\linear_model\\_coordinate_descent.py:472: ConvergenceWarning: Objective did not converge. You might want to increase the number of iterations. Duality gap: 295735086210793.2, tolerance: 212618038990.57425\n",
      "  tol, rng, random, positive)\n",
      "C:\\Users\\lukel\\AppData\\Local\\Continuum\\anaconda3\\envs\\DataAnalyticsAndDevelopmentHW1\\lib\\site-packages\\sklearn\\linear_model\\_coordinate_descent.py:472: ConvergenceWarning: Objective did not converge. You might want to increase the number of iterations. Duality gap: 283851597279295.2, tolerance: 208901642486.1334\n",
      "  tol, rng, random, positive)\n",
      "C:\\Users\\lukel\\AppData\\Local\\Continuum\\anaconda3\\envs\\DataAnalyticsAndDevelopmentHW1\\lib\\site-packages\\sklearn\\linear_model\\_coordinate_descent.py:472: ConvergenceWarning: Objective did not converge. You might want to increase the number of iterations. Duality gap: 281860271200081.9, tolerance: 208901642486.1334\n",
      "  tol, rng, random, positive)\n",
      "C:\\Users\\lukel\\AppData\\Local\\Continuum\\anaconda3\\envs\\DataAnalyticsAndDevelopmentHW1\\lib\\site-packages\\sklearn\\linear_model\\_coordinate_descent.py:472: ConvergenceWarning: Objective did not converge. You might want to increase the number of iterations. Duality gap: 281659302369578.75, tolerance: 208901642486.1334\n",
      "  tol, rng, random, positive)\n",
      "C:\\Users\\lukel\\AppData\\Local\\Continuum\\anaconda3\\envs\\DataAnalyticsAndDevelopmentHW1\\lib\\site-packages\\sklearn\\linear_model\\_coordinate_descent.py:472: ConvergenceWarning: Objective did not converge. You might want to increase the number of iterations. Duality gap: 281639028279092.44, tolerance: 208901642486.1334\n",
      "  tol, rng, random, positive)\n",
      "C:\\Users\\lukel\\AppData\\Local\\Continuum\\anaconda3\\envs\\DataAnalyticsAndDevelopmentHW1\\lib\\site-packages\\sklearn\\linear_model\\_coordinate_descent.py:472: ConvergenceWarning: Objective did not converge. You might want to increase the number of iterations. Duality gap: 281636359311708.2, tolerance: 208901642486.1334\n",
      "  tol, rng, random, positive)\n",
      "C:\\Users\\lukel\\AppData\\Local\\Continuum\\anaconda3\\envs\\DataAnalyticsAndDevelopmentHW1\\lib\\site-packages\\sklearn\\linear_model\\_coordinate_descent.py:472: ConvergenceWarning: Objective did not converge. You might want to increase the number of iterations. Duality gap: 281630019825046.06, tolerance: 208901642486.1334\n",
      "  tol, rng, random, positive)\n",
      "C:\\Users\\lukel\\AppData\\Local\\Continuum\\anaconda3\\envs\\DataAnalyticsAndDevelopmentHW1\\lib\\site-packages\\sklearn\\linear_model\\_coordinate_descent.py:472: ConvergenceWarning: Objective did not converge. You might want to increase the number of iterations. Duality gap: 281794309868008.4, tolerance: 208901642486.1334\n",
      "  tol, rng, random, positive)\n",
      "C:\\Users\\lukel\\AppData\\Local\\Continuum\\anaconda3\\envs\\DataAnalyticsAndDevelopmentHW1\\lib\\site-packages\\sklearn\\linear_model\\_coordinate_descent.py:472: ConvergenceWarning: Objective did not converge. You might want to increase the number of iterations. Duality gap: 299781097609298.75, tolerance: 217691003285.07468\n",
      "  tol, rng, random, positive)\n",
      "C:\\Users\\lukel\\AppData\\Local\\Continuum\\anaconda3\\envs\\DataAnalyticsAndDevelopmentHW1\\lib\\site-packages\\sklearn\\linear_model\\_coordinate_descent.py:472: ConvergenceWarning: Objective did not converge. You might want to increase the number of iterations. Duality gap: 297709886765163.44, tolerance: 217691003285.07468\n",
      "  tol, rng, random, positive)\n",
      "C:\\Users\\lukel\\AppData\\Local\\Continuum\\anaconda3\\envs\\DataAnalyticsAndDevelopmentHW1\\lib\\site-packages\\sklearn\\linear_model\\_coordinate_descent.py:472: ConvergenceWarning: Objective did not converge. You might want to increase the number of iterations. Duality gap: 297500937300934.2, tolerance: 217691003285.07468\n",
      "  tol, rng, random, positive)\n",
      "C:\\Users\\lukel\\AppData\\Local\\Continuum\\anaconda3\\envs\\DataAnalyticsAndDevelopmentHW1\\lib\\site-packages\\sklearn\\linear_model\\_coordinate_descent.py:472: ConvergenceWarning: Objective did not converge. You might want to increase the number of iterations. Duality gap: 297480016336346.4, tolerance: 217691003285.07468\n",
      "  tol, rng, random, positive)\n",
      "C:\\Users\\lukel\\AppData\\Local\\Continuum\\anaconda3\\envs\\DataAnalyticsAndDevelopmentHW1\\lib\\site-packages\\sklearn\\linear_model\\_coordinate_descent.py:472: ConvergenceWarning: Objective did not converge. You might want to increase the number of iterations. Duality gap: 297478586033609.4, tolerance: 217691003285.07468\n",
      "  tol, rng, random, positive)\n",
      "C:\\Users\\lukel\\AppData\\Local\\Continuum\\anaconda3\\envs\\DataAnalyticsAndDevelopmentHW1\\lib\\site-packages\\sklearn\\linear_model\\_coordinate_descent.py:472: ConvergenceWarning: Objective did not converge. You might want to increase the number of iterations. Duality gap: 297475609017881.6, tolerance: 217691003285.07468\n",
      "  tol, rng, random, positive)\n",
      "C:\\Users\\lukel\\AppData\\Local\\Continuum\\anaconda3\\envs\\DataAnalyticsAndDevelopmentHW1\\lib\\site-packages\\sklearn\\linear_model\\_coordinate_descent.py:472: ConvergenceWarning: Objective did not converge. You might want to increase the number of iterations. Duality gap: 297489038487459.06, tolerance: 217691003285.07468\n",
      "  tol, rng, random, positive)\n",
      "C:\\Users\\lukel\\AppData\\Local\\Continuum\\anaconda3\\envs\\DataAnalyticsAndDevelopmentHW1\\lib\\site-packages\\sklearn\\linear_model\\_coordinate_descent.py:472: ConvergenceWarning: Objective did not converge. You might want to increase the number of iterations. Duality gap: 306339383575519.4, tolerance: 218399842736.00458\n",
      "  tol, rng, random, positive)\n",
      "C:\\Users\\lukel\\AppData\\Local\\Continuum\\anaconda3\\envs\\DataAnalyticsAndDevelopmentHW1\\lib\\site-packages\\sklearn\\linear_model\\_coordinate_descent.py:472: ConvergenceWarning: Objective did not converge. You might want to increase the number of iterations. Duality gap: 304232891789387.6, tolerance: 218399842736.00458\n",
      "  tol, rng, random, positive)\n",
      "C:\\Users\\lukel\\AppData\\Local\\Continuum\\anaconda3\\envs\\DataAnalyticsAndDevelopmentHW1\\lib\\site-packages\\sklearn\\linear_model\\_coordinate_descent.py:472: ConvergenceWarning: Objective did not converge. You might want to increase the number of iterations. Duality gap: 304020348767232.6, tolerance: 218399842736.00458\n",
      "  tol, rng, random, positive)\n",
      "C:\\Users\\lukel\\AppData\\Local\\Continuum\\anaconda3\\envs\\DataAnalyticsAndDevelopmentHW1\\lib\\site-packages\\sklearn\\linear_model\\_coordinate_descent.py:472: ConvergenceWarning: Objective did not converge. You might want to increase the number of iterations. Duality gap: 303999077698180.75, tolerance: 218399842736.00458\n",
      "  tol, rng, random, positive)\n",
      "C:\\Users\\lukel\\AppData\\Local\\Continuum\\anaconda3\\envs\\DataAnalyticsAndDevelopmentHW1\\lib\\site-packages\\sklearn\\linear_model\\_coordinate_descent.py:472: ConvergenceWarning: Objective did not converge. You might want to increase the number of iterations. Duality gap: 303996918400498.1, tolerance: 218399842736.00458\n",
      "  tol, rng, random, positive)\n",
      "C:\\Users\\lukel\\AppData\\Local\\Continuum\\anaconda3\\envs\\DataAnalyticsAndDevelopmentHW1\\lib\\site-packages\\sklearn\\linear_model\\_coordinate_descent.py:472: ConvergenceWarning: Objective did not converge. You might want to increase the number of iterations. Duality gap: 304023701970995.2, tolerance: 218399842736.00458\n",
      "  tol, rng, random, positive)\n",
      "C:\\Users\\lukel\\AppData\\Local\\Continuum\\anaconda3\\envs\\DataAnalyticsAndDevelopmentHW1\\lib\\site-packages\\sklearn\\linear_model\\_coordinate_descent.py:472: ConvergenceWarning: Objective did not converge. You might want to increase the number of iterations. Duality gap: 303857807828667.56, tolerance: 218399842736.00458\n",
      "  tol, rng, random, positive)\n",
      "C:\\Users\\lukel\\AppData\\Local\\Continuum\\anaconda3\\envs\\DataAnalyticsAndDevelopmentHW1\\lib\\site-packages\\sklearn\\linear_model\\_coordinate_descent.py:472: ConvergenceWarning: Objective did not converge. You might want to increase the number of iterations. Duality gap: 294407196110354.6, tolerance: 212094211009.69373\n",
      "  tol, rng, random, positive)\n"
     ]
    },
    {
     "name": "stderr",
     "output_type": "stream",
     "text": [
      "C:\\Users\\lukel\\AppData\\Local\\Continuum\\anaconda3\\envs\\DataAnalyticsAndDevelopmentHW1\\lib\\site-packages\\sklearn\\linear_model\\_coordinate_descent.py:472: ConvergenceWarning: Objective did not converge. You might want to increase the number of iterations. Duality gap: 292455030845207.5, tolerance: 212094211009.69373\n",
      "  tol, rng, random, positive)\n",
      "C:\\Users\\lukel\\AppData\\Local\\Continuum\\anaconda3\\envs\\DataAnalyticsAndDevelopmentHW1\\lib\\site-packages\\sklearn\\linear_model\\_coordinate_descent.py:472: ConvergenceWarning: Objective did not converge. You might want to increase the number of iterations. Duality gap: 292257823557085.7, tolerance: 212094211009.69373\n",
      "  tol, rng, random, positive)\n",
      "C:\\Users\\lukel\\AppData\\Local\\Continuum\\anaconda3\\envs\\DataAnalyticsAndDevelopmentHW1\\lib\\site-packages\\sklearn\\linear_model\\_coordinate_descent.py:472: ConvergenceWarning: Objective did not converge. You might want to increase the number of iterations. Duality gap: 292238206528775.06, tolerance: 212094211009.69373\n",
      "  tol, rng, random, positive)\n",
      "C:\\Users\\lukel\\AppData\\Local\\Continuum\\anaconda3\\envs\\DataAnalyticsAndDevelopmentHW1\\lib\\site-packages\\sklearn\\linear_model\\_coordinate_descent.py:472: ConvergenceWarning: Objective did not converge. You might want to increase the number of iterations. Duality gap: 292237283387059.94, tolerance: 212094211009.69373\n",
      "  tol, rng, random, positive)\n",
      "C:\\Users\\lukel\\AppData\\Local\\Continuum\\anaconda3\\envs\\DataAnalyticsAndDevelopmentHW1\\lib\\site-packages\\sklearn\\linear_model\\_coordinate_descent.py:472: ConvergenceWarning: Objective did not converge. You might want to increase the number of iterations. Duality gap: 292249989503067.5, tolerance: 212094211009.69373\n",
      "  tol, rng, random, positive)\n",
      "C:\\Users\\lukel\\AppData\\Local\\Continuum\\anaconda3\\envs\\DataAnalyticsAndDevelopmentHW1\\lib\\site-packages\\sklearn\\linear_model\\_coordinate_descent.py:472: ConvergenceWarning: Objective did not converge. You might want to increase the number of iterations. Duality gap: 292273288874924.94, tolerance: 212094211009.69373\n",
      "  tol, rng, random, positive)\n",
      "C:\\Users\\lukel\\AppData\\Local\\Continuum\\anaconda3\\envs\\DataAnalyticsAndDevelopmentHW1\\lib\\site-packages\\sklearn\\linear_model\\_coordinate_descent.py:476: ConvergenceWarning: Objective did not converge. You might want to increase the number of iterations. Duality gap: 368458665453787.75, tolerance: 267454440763.38077\n",
      "  positive)\n",
      "C:\\Users\\lukel\\AppData\\Local\\Continuum\\anaconda3\\envs\\DataAnalyticsAndDevelopmentHW1\\lib\\site-packages\\sklearn\\linear_model\\_coordinate_descent.py:472: ConvergenceWarning: Objective did not converge. You might want to increase the number of iterations. Duality gap: 296017059465116.25, tolerance: 209715231246.08176\n",
      "  tol, rng, random, positive)\n",
      "C:\\Users\\lukel\\AppData\\Local\\Continuum\\anaconda3\\envs\\DataAnalyticsAndDevelopmentHW1\\lib\\site-packages\\sklearn\\linear_model\\_coordinate_descent.py:472: ConvergenceWarning: Objective did not converge. You might want to increase the number of iterations. Duality gap: 294033299758573.25, tolerance: 209715231246.08176\n",
      "  tol, rng, random, positive)\n",
      "C:\\Users\\lukel\\AppData\\Local\\Continuum\\anaconda3\\envs\\DataAnalyticsAndDevelopmentHW1\\lib\\site-packages\\sklearn\\linear_model\\_coordinate_descent.py:472: ConvergenceWarning: Objective did not converge. You might want to increase the number of iterations. Duality gap: 293833003089105.2, tolerance: 209715231246.08176\n",
      "  tol, rng, random, positive)\n",
      "C:\\Users\\lukel\\AppData\\Local\\Continuum\\anaconda3\\envs\\DataAnalyticsAndDevelopmentHW1\\lib\\site-packages\\sklearn\\linear_model\\_coordinate_descent.py:472: ConvergenceWarning: Objective did not converge. You might want to increase the number of iterations. Duality gap: 293812926182849.44, tolerance: 209715231246.08176\n",
      "  tol, rng, random, positive)\n",
      "C:\\Users\\lukel\\AppData\\Local\\Continuum\\anaconda3\\envs\\DataAnalyticsAndDevelopmentHW1\\lib\\site-packages\\sklearn\\linear_model\\_coordinate_descent.py:472: ConvergenceWarning: Objective did not converge. You might want to increase the number of iterations. Duality gap: 293810789929155.25, tolerance: 209715231246.08176\n",
      "  tol, rng, random, positive)\n",
      "C:\\Users\\lukel\\AppData\\Local\\Continuum\\anaconda3\\envs\\DataAnalyticsAndDevelopmentHW1\\lib\\site-packages\\sklearn\\linear_model\\_coordinate_descent.py:472: ConvergenceWarning: Objective did not converge. You might want to increase the number of iterations. Duality gap: 293796411371265.44, tolerance: 209715231246.08176\n",
      "  tol, rng, random, positive)\n",
      "C:\\Users\\lukel\\AppData\\Local\\Continuum\\anaconda3\\envs\\DataAnalyticsAndDevelopmentHW1\\lib\\site-packages\\sklearn\\linear_model\\_coordinate_descent.py:472: ConvergenceWarning: Objective did not converge. You might want to increase the number of iterations. Duality gap: 293847959502471.56, tolerance: 209715231246.08176\n",
      "  tol, rng, random, positive)\n",
      "C:\\Users\\lukel\\AppData\\Local\\Continuum\\anaconda3\\envs\\DataAnalyticsAndDevelopmentHW1\\lib\\site-packages\\sklearn\\linear_model\\_coordinate_descent.py:472: ConvergenceWarning: Objective did not converge. You might want to increase the number of iterations. Duality gap: 281960362996576.5, tolerance: 205993529995.77597\n",
      "  tol, rng, random, positive)\n",
      "C:\\Users\\lukel\\AppData\\Local\\Continuum\\anaconda3\\envs\\DataAnalyticsAndDevelopmentHW1\\lib\\site-packages\\sklearn\\linear_model\\_coordinate_descent.py:472: ConvergenceWarning: Objective did not converge. You might want to increase the number of iterations. Duality gap: 279966099105672.84, tolerance: 205993529995.77597\n",
      "  tol, rng, random, positive)\n",
      "C:\\Users\\lukel\\AppData\\Local\\Continuum\\anaconda3\\envs\\DataAnalyticsAndDevelopmentHW1\\lib\\site-packages\\sklearn\\linear_model\\_coordinate_descent.py:472: ConvergenceWarning: Objective did not converge. You might want to increase the number of iterations. Duality gap: 279764620181183.84, tolerance: 205993529995.77597\n",
      "  tol, rng, random, positive)\n",
      "C:\\Users\\lukel\\AppData\\Local\\Continuum\\anaconda3\\envs\\DataAnalyticsAndDevelopmentHW1\\lib\\site-packages\\sklearn\\linear_model\\_coordinate_descent.py:472: ConvergenceWarning: Objective did not converge. You might want to increase the number of iterations. Duality gap: 279744462759290.4, tolerance: 205993529995.77597\n",
      "  tol, rng, random, positive)\n",
      "C:\\Users\\lukel\\AppData\\Local\\Continuum\\anaconda3\\envs\\DataAnalyticsAndDevelopmentHW1\\lib\\site-packages\\sklearn\\linear_model\\_coordinate_descent.py:472: ConvergenceWarning: Objective did not converge. You might want to increase the number of iterations. Duality gap: 279742378395590.72, tolerance: 205993529995.77597\n",
      "  tol, rng, random, positive)\n",
      "C:\\Users\\lukel\\AppData\\Local\\Continuum\\anaconda3\\envs\\DataAnalyticsAndDevelopmentHW1\\lib\\site-packages\\sklearn\\linear_model\\_coordinate_descent.py:472: ConvergenceWarning: Objective did not converge. You might want to increase the number of iterations. Duality gap: 279745183688114.75, tolerance: 205993529995.77597\n",
      "  tol, rng, random, positive)\n",
      "C:\\Users\\lukel\\AppData\\Local\\Continuum\\anaconda3\\envs\\DataAnalyticsAndDevelopmentHW1\\lib\\site-packages\\sklearn\\linear_model\\_coordinate_descent.py:472: ConvergenceWarning: Objective did not converge. You might want to increase the number of iterations. Duality gap: 279857118452703.62, tolerance: 205993529995.77597\n",
      "  tol, rng, random, positive)\n",
      "C:\\Users\\lukel\\AppData\\Local\\Continuum\\anaconda3\\envs\\DataAnalyticsAndDevelopmentHW1\\lib\\site-packages\\sklearn\\linear_model\\_coordinate_descent.py:472: ConvergenceWarning: Objective did not converge. You might want to increase the number of iterations. Duality gap: 299781097609298.75, tolerance: 217691003285.07468\n",
      "  tol, rng, random, positive)\n",
      "C:\\Users\\lukel\\AppData\\Local\\Continuum\\anaconda3\\envs\\DataAnalyticsAndDevelopmentHW1\\lib\\site-packages\\sklearn\\linear_model\\_coordinate_descent.py:472: ConvergenceWarning: Objective did not converge. You might want to increase the number of iterations. Duality gap: 297709886765163.44, tolerance: 217691003285.07468\n",
      "  tol, rng, random, positive)\n",
      "C:\\Users\\lukel\\AppData\\Local\\Continuum\\anaconda3\\envs\\DataAnalyticsAndDevelopmentHW1\\lib\\site-packages\\sklearn\\linear_model\\_coordinate_descent.py:472: ConvergenceWarning: Objective did not converge. You might want to increase the number of iterations. Duality gap: 297500937300934.2, tolerance: 217691003285.07468\n",
      "  tol, rng, random, positive)\n",
      "C:\\Users\\lukel\\AppData\\Local\\Continuum\\anaconda3\\envs\\DataAnalyticsAndDevelopmentHW1\\lib\\site-packages\\sklearn\\linear_model\\_coordinate_descent.py:472: ConvergenceWarning: Objective did not converge. You might want to increase the number of iterations. Duality gap: 297480016336346.4, tolerance: 217691003285.07468\n",
      "  tol, rng, random, positive)\n",
      "C:\\Users\\lukel\\AppData\\Local\\Continuum\\anaconda3\\envs\\DataAnalyticsAndDevelopmentHW1\\lib\\site-packages\\sklearn\\linear_model\\_coordinate_descent.py:472: ConvergenceWarning: Objective did not converge. You might want to increase the number of iterations. Duality gap: 297478586033609.4, tolerance: 217691003285.07468\n",
      "  tol, rng, random, positive)\n",
      "C:\\Users\\lukel\\AppData\\Local\\Continuum\\anaconda3\\envs\\DataAnalyticsAndDevelopmentHW1\\lib\\site-packages\\sklearn\\linear_model\\_coordinate_descent.py:472: ConvergenceWarning: Objective did not converge. You might want to increase the number of iterations. Duality gap: 297475609017881.6, tolerance: 217691003285.07468\n",
      "  tol, rng, random, positive)\n",
      "C:\\Users\\lukel\\AppData\\Local\\Continuum\\anaconda3\\envs\\DataAnalyticsAndDevelopmentHW1\\lib\\site-packages\\sklearn\\linear_model\\_coordinate_descent.py:472: ConvergenceWarning: Objective did not converge. You might want to increase the number of iterations. Duality gap: 297489038487459.06, tolerance: 217691003285.07468\n",
      "  tol, rng, random, positive)\n",
      "C:\\Users\\lukel\\AppData\\Local\\Continuum\\anaconda3\\envs\\DataAnalyticsAndDevelopmentHW1\\lib\\site-packages\\sklearn\\linear_model\\_coordinate_descent.py:472: ConvergenceWarning: Objective did not converge. You might want to increase the number of iterations. Duality gap: 304179132698046.0, tolerance: 215494260800.4779\n",
      "  tol, rng, random, positive)\n",
      "C:\\Users\\lukel\\AppData\\Local\\Continuum\\anaconda3\\envs\\DataAnalyticsAndDevelopmentHW1\\lib\\site-packages\\sklearn\\linear_model\\_coordinate_descent.py:472: ConvergenceWarning: Objective did not converge. You might want to increase the number of iterations. Duality gap: 302067150185753.9, tolerance: 215494260800.4779\n",
      "  tol, rng, random, positive)\n",
      "C:\\Users\\lukel\\AppData\\Local\\Continuum\\anaconda3\\envs\\DataAnalyticsAndDevelopmentHW1\\lib\\site-packages\\sklearn\\linear_model\\_coordinate_descent.py:472: ConvergenceWarning: Objective did not converge. You might want to increase the number of iterations. Duality gap: 301853821188234.5, tolerance: 215494260800.4779\n",
      "  tol, rng, random, positive)\n",
      "C:\\Users\\lukel\\AppData\\Local\\Continuum\\anaconda3\\envs\\DataAnalyticsAndDevelopmentHW1\\lib\\site-packages\\sklearn\\linear_model\\_coordinate_descent.py:472: ConvergenceWarning: Objective did not converge. You might want to increase the number of iterations. Duality gap: 301832408940570.6, tolerance: 215494260800.4779\n",
      "  tol, rng, random, positive)\n",
      "C:\\Users\\lukel\\AppData\\Local\\Continuum\\anaconda3\\envs\\DataAnalyticsAndDevelopmentHW1\\lib\\site-packages\\sklearn\\linear_model\\_coordinate_descent.py:472: ConvergenceWarning: Objective did not converge. You might want to increase the number of iterations. Duality gap: 301830872342396.5, tolerance: 215494260800.4779\n",
      "  tol, rng, random, positive)\n",
      "C:\\Users\\lukel\\AppData\\Local\\Continuum\\anaconda3\\envs\\DataAnalyticsAndDevelopmentHW1\\lib\\site-packages\\sklearn\\linear_model\\_coordinate_descent.py:472: ConvergenceWarning: Objective did not converge. You might want to increase the number of iterations. Duality gap: 301838317962890.25, tolerance: 215494260800.4779\n",
      "  tol, rng, random, positive)\n",
      "C:\\Users\\lukel\\AppData\\Local\\Continuum\\anaconda3\\envs\\DataAnalyticsAndDevelopmentHW1\\lib\\site-packages\\sklearn\\linear_model\\_coordinate_descent.py:472: ConvergenceWarning: Objective did not converge. You might want to increase the number of iterations. Duality gap: 301889568073156.75, tolerance: 215494260800.4779\n",
      "  tol, rng, random, positive)\n",
      "C:\\Users\\lukel\\AppData\\Local\\Continuum\\anaconda3\\envs\\DataAnalyticsAndDevelopmentHW1\\lib\\site-packages\\sklearn\\linear_model\\_coordinate_descent.py:472: ConvergenceWarning: Objective did not converge. You might want to increase the number of iterations. Duality gap: 292299053478984.25, tolerance: 209149043386.0015\n",
      "  tol, rng, random, positive)\n"
     ]
    },
    {
     "name": "stderr",
     "output_type": "stream",
     "text": [
      "C:\\Users\\lukel\\AppData\\Local\\Continuum\\anaconda3\\envs\\DataAnalyticsAndDevelopmentHW1\\lib\\site-packages\\sklearn\\linear_model\\_coordinate_descent.py:472: ConvergenceWarning: Objective did not converge. You might want to increase the number of iterations. Duality gap: 290332890392079.8, tolerance: 209149043386.0015\n",
      "  tol, rng, random, positive)\n",
      "C:\\Users\\lukel\\AppData\\Local\\Continuum\\anaconda3\\envs\\DataAnalyticsAndDevelopmentHW1\\lib\\site-packages\\sklearn\\linear_model\\_coordinate_descent.py:472: ConvergenceWarning: Objective did not converge. You might want to increase the number of iterations. Duality gap: 290134260167180.4, tolerance: 209149043386.0015\n",
      "  tol, rng, random, positive)\n",
      "C:\\Users\\lukel\\AppData\\Local\\Continuum\\anaconda3\\envs\\DataAnalyticsAndDevelopmentHW1\\lib\\site-packages\\sklearn\\linear_model\\_coordinate_descent.py:472: ConvergenceWarning: Objective did not converge. You might want to increase the number of iterations. Duality gap: 290114380587383.25, tolerance: 209149043386.0015\n",
      "  tol, rng, random, positive)\n",
      "C:\\Users\\lukel\\AppData\\Local\\Continuum\\anaconda3\\envs\\DataAnalyticsAndDevelopmentHW1\\lib\\site-packages\\sklearn\\linear_model\\_coordinate_descent.py:472: ConvergenceWarning: Objective did not converge. You might want to increase the number of iterations. Duality gap: 290112511204904.1, tolerance: 209149043386.0015\n",
      "  tol, rng, random, positive)\n",
      "C:\\Users\\lukel\\AppData\\Local\\Continuum\\anaconda3\\envs\\DataAnalyticsAndDevelopmentHW1\\lib\\site-packages\\sklearn\\linear_model\\_coordinate_descent.py:472: ConvergenceWarning: Objective did not converge. You might want to increase the number of iterations. Duality gap: 290119060403825.3, tolerance: 209149043386.0015\n",
      "  tol, rng, random, positive)\n",
      "C:\\Users\\lukel\\AppData\\Local\\Continuum\\anaconda3\\envs\\DataAnalyticsAndDevelopmentHW1\\lib\\site-packages\\sklearn\\linear_model\\_coordinate_descent.py:472: ConvergenceWarning: Objective did not converge. You might want to increase the number of iterations. Duality gap: 290117819394345.4, tolerance: 209149043386.0015\n",
      "  tol, rng, random, positive)\n",
      "C:\\Users\\lukel\\AppData\\Local\\Continuum\\anaconda3\\envs\\DataAnalyticsAndDevelopmentHW1\\lib\\site-packages\\sklearn\\linear_model\\_coordinate_descent.py:476: ConvergenceWarning: Objective did not converge. You might want to increase the number of iterations. Duality gap: 366474456221297.25, tolerance: 264544178382.88953\n",
      "  positive)\n",
      "C:\\Users\\lukel\\AppData\\Local\\Continuum\\anaconda3\\envs\\DataAnalyticsAndDevelopmentHW1\\lib\\site-packages\\sklearn\\linear_model\\_coordinate_descent.py:472: ConvergenceWarning: Objective did not converge. You might want to increase the number of iterations. Duality gap: 298617783292934.6, tolerance: 209984162089.92395\n",
      "  tol, rng, random, positive)\n",
      "C:\\Users\\lukel\\AppData\\Local\\Continuum\\anaconda3\\envs\\DataAnalyticsAndDevelopmentHW1\\lib\\site-packages\\sklearn\\linear_model\\_coordinate_descent.py:472: ConvergenceWarning: Objective did not converge. You might want to increase the number of iterations. Duality gap: 296611350461810.7, tolerance: 209984162089.92395\n",
      "  tol, rng, random, positive)\n",
      "C:\\Users\\lukel\\AppData\\Local\\Continuum\\anaconda3\\envs\\DataAnalyticsAndDevelopmentHW1\\lib\\site-packages\\sklearn\\linear_model\\_coordinate_descent.py:472: ConvergenceWarning: Objective did not converge. You might want to increase the number of iterations. Duality gap: 296408741446414.44, tolerance: 209984162089.92395\n",
      "  tol, rng, random, positive)\n",
      "C:\\Users\\lukel\\AppData\\Local\\Continuum\\anaconda3\\envs\\DataAnalyticsAndDevelopmentHW1\\lib\\site-packages\\sklearn\\linear_model\\_coordinate_descent.py:472: ConvergenceWarning: Objective did not converge. You might want to increase the number of iterations. Duality gap: 296388532952611.8, tolerance: 209984162089.92395\n",
      "  tol, rng, random, positive)\n",
      "C:\\Users\\lukel\\AppData\\Local\\Continuum\\anaconda3\\envs\\DataAnalyticsAndDevelopmentHW1\\lib\\site-packages\\sklearn\\linear_model\\_coordinate_descent.py:472: ConvergenceWarning: Objective did not converge. You might want to increase the number of iterations. Duality gap: 296385970817523.1, tolerance: 209984162089.92395\n",
      "  tol, rng, random, positive)\n",
      "C:\\Users\\lukel\\AppData\\Local\\Continuum\\anaconda3\\envs\\DataAnalyticsAndDevelopmentHW1\\lib\\site-packages\\sklearn\\linear_model\\_coordinate_descent.py:472: ConvergenceWarning: Objective did not converge. You might want to increase the number of iterations. Duality gap: 296386550804294.44, tolerance: 209984162089.92395\n",
      "  tol, rng, random, positive)\n",
      "C:\\Users\\lukel\\AppData\\Local\\Continuum\\anaconda3\\envs\\DataAnalyticsAndDevelopmentHW1\\lib\\site-packages\\sklearn\\linear_model\\_coordinate_descent.py:472: ConvergenceWarning: Objective did not converge. You might want to increase the number of iterations. Duality gap: 296397987772278.5, tolerance: 209984162089.92395\n",
      "  tol, rng, random, positive)\n",
      "C:\\Users\\lukel\\AppData\\Local\\Continuum\\anaconda3\\envs\\DataAnalyticsAndDevelopmentHW1\\lib\\site-packages\\sklearn\\linear_model\\_coordinate_descent.py:472: ConvergenceWarning: Objective did not converge. You might want to increase the number of iterations. Duality gap: 284832481933717.3, tolerance: 206258601761.4009\n",
      "  tol, rng, random, positive)\n",
      "C:\\Users\\lukel\\AppData\\Local\\Continuum\\anaconda3\\envs\\DataAnalyticsAndDevelopmentHW1\\lib\\site-packages\\sklearn\\linear_model\\_coordinate_descent.py:472: ConvergenceWarning: Objective did not converge. You might want to increase the number of iterations. Duality gap: 282818479068275.25, tolerance: 206258601761.4009\n",
      "  tol, rng, random, positive)\n",
      "C:\\Users\\lukel\\AppData\\Local\\Continuum\\anaconda3\\envs\\DataAnalyticsAndDevelopmentHW1\\lib\\site-packages\\sklearn\\linear_model\\_coordinate_descent.py:472: ConvergenceWarning: Objective did not converge. You might want to increase the number of iterations. Duality gap: 282615000147369.9, tolerance: 206258601761.4009\n",
      "  tol, rng, random, positive)\n",
      "C:\\Users\\lukel\\AppData\\Local\\Continuum\\anaconda3\\envs\\DataAnalyticsAndDevelopmentHW1\\lib\\site-packages\\sklearn\\linear_model\\_coordinate_descent.py:472: ConvergenceWarning: Objective did not converge. You might want to increase the number of iterations. Duality gap: 282594740682775.4, tolerance: 206258601761.4009\n",
      "  tol, rng, random, positive)\n",
      "C:\\Users\\lukel\\AppData\\Local\\Continuum\\anaconda3\\envs\\DataAnalyticsAndDevelopmentHW1\\lib\\site-packages\\sklearn\\linear_model\\_coordinate_descent.py:472: ConvergenceWarning: Objective did not converge. You might want to increase the number of iterations. Duality gap: 282593200696921.9, tolerance: 206258601761.4009\n",
      "  tol, rng, random, positive)\n",
      "C:\\Users\\lukel\\AppData\\Local\\Continuum\\anaconda3\\envs\\DataAnalyticsAndDevelopmentHW1\\lib\\site-packages\\sklearn\\linear_model\\_coordinate_descent.py:472: ConvergenceWarning: Objective did not converge. You might want to increase the number of iterations. Duality gap: 282592631410689.6, tolerance: 206258601761.4009\n",
      "  tol, rng, random, positive)\n",
      "C:\\Users\\lukel\\AppData\\Local\\Continuum\\anaconda3\\envs\\DataAnalyticsAndDevelopmentHW1\\lib\\site-packages\\sklearn\\linear_model\\_coordinate_descent.py:472: ConvergenceWarning: Objective did not converge. You might want to increase the number of iterations. Duality gap: 282641882817948.0, tolerance: 206258601761.4009\n",
      "  tol, rng, random, positive)\n",
      "C:\\Users\\lukel\\AppData\\Local\\Continuum\\anaconda3\\envs\\DataAnalyticsAndDevelopmentHW1\\lib\\site-packages\\sklearn\\linear_model\\_coordinate_descent.py:472: ConvergenceWarning: Objective did not converge. You might want to increase the number of iterations. Duality gap: 303214809263437.0, tolerance: 217612031722.159\n",
      "  tol, rng, random, positive)\n",
      "C:\\Users\\lukel\\AppData\\Local\\Continuum\\anaconda3\\envs\\DataAnalyticsAndDevelopmentHW1\\lib\\site-packages\\sklearn\\linear_model\\_coordinate_descent.py:472: ConvergenceWarning: Objective did not converge. You might want to increase the number of iterations. Duality gap: 301138815280483.1, tolerance: 217612031722.159\n",
      "  tol, rng, random, positive)\n",
      "C:\\Users\\lukel\\AppData\\Local\\Continuum\\anaconda3\\envs\\DataAnalyticsAndDevelopmentHW1\\lib\\site-packages\\sklearn\\linear_model\\_coordinate_descent.py:472: ConvergenceWarning: Objective did not converge. You might want to increase the number of iterations. Duality gap: 300929339042296.2, tolerance: 217612031722.159\n",
      "  tol, rng, random, positive)\n",
      "C:\\Users\\lukel\\AppData\\Local\\Continuum\\anaconda3\\envs\\DataAnalyticsAndDevelopmentHW1\\lib\\site-packages\\sklearn\\linear_model\\_coordinate_descent.py:472: ConvergenceWarning: Objective did not converge. You might want to increase the number of iterations. Duality gap: 300908441235715.6, tolerance: 217612031722.159\n",
      "  tol, rng, random, positive)\n",
      "C:\\Users\\lukel\\AppData\\Local\\Continuum\\anaconda3\\envs\\DataAnalyticsAndDevelopmentHW1\\lib\\site-packages\\sklearn\\linear_model\\_coordinate_descent.py:472: ConvergenceWarning: Objective did not converge. You might want to increase the number of iterations. Duality gap: 300906413538144.94, tolerance: 217612031722.159\n",
      "  tol, rng, random, positive)\n",
      "C:\\Users\\lukel\\AppData\\Local\\Continuum\\anaconda3\\envs\\DataAnalyticsAndDevelopmentHW1\\lib\\site-packages\\sklearn\\linear_model\\_coordinate_descent.py:472: ConvergenceWarning: Objective did not converge. You might want to increase the number of iterations. Duality gap: 300893758078052.0, tolerance: 217612031722.159\n",
      "  tol, rng, random, positive)\n",
      "C:\\Users\\lukel\\AppData\\Local\\Continuum\\anaconda3\\envs\\DataAnalyticsAndDevelopmentHW1\\lib\\site-packages\\sklearn\\linear_model\\_coordinate_descent.py:472: ConvergenceWarning: Objective did not converge. You might want to increase the number of iterations. Duality gap: 301176164709737.56, tolerance: 217612031722.159\n",
      "  tol, rng, random, positive)\n",
      "C:\\Users\\lukel\\AppData\\Local\\Continuum\\anaconda3\\envs\\DataAnalyticsAndDevelopmentHW1\\lib\\site-packages\\sklearn\\linear_model\\_coordinate_descent.py:472: ConvergenceWarning: Objective did not converge. You might want to increase the number of iterations. Duality gap: 303495054175157.56, tolerance: 215853922288.5802\n",
      "  tol, rng, random, positive)\n",
      "C:\\Users\\lukel\\AppData\\Local\\Continuum\\anaconda3\\envs\\DataAnalyticsAndDevelopmentHW1\\lib\\site-packages\\sklearn\\linear_model\\_coordinate_descent.py:472: ConvergenceWarning: Objective did not converge. You might want to increase the number of iterations. Duality gap: 301365722150782.25, tolerance: 215853922288.5802\n",
      "  tol, rng, random, positive)\n",
      "C:\\Users\\lukel\\AppData\\Local\\Continuum\\anaconda3\\envs\\DataAnalyticsAndDevelopmentHW1\\lib\\site-packages\\sklearn\\linear_model\\_coordinate_descent.py:472: ConvergenceWarning: Objective did not converge. You might want to increase the number of iterations. Duality gap: 301150914041437.75, tolerance: 215853922288.5802\n",
      "  tol, rng, random, positive)\n",
      "C:\\Users\\lukel\\AppData\\Local\\Continuum\\anaconda3\\envs\\DataAnalyticsAndDevelopmentHW1\\lib\\site-packages\\sklearn\\linear_model\\_coordinate_descent.py:472: ConvergenceWarning: Objective did not converge. You might want to increase the number of iterations. Duality gap: 301129208729688.0, tolerance: 215853922288.5802\n",
      "  tol, rng, random, positive)\n",
      "C:\\Users\\lukel\\AppData\\Local\\Continuum\\anaconda3\\envs\\DataAnalyticsAndDevelopmentHW1\\lib\\site-packages\\sklearn\\linear_model\\_coordinate_descent.py:472: ConvergenceWarning: Objective did not converge. You might want to increase the number of iterations. Duality gap: 301127395997645.3, tolerance: 215853922288.5802\n",
      "  tol, rng, random, positive)\n",
      "C:\\Users\\lukel\\AppData\\Local\\Continuum\\anaconda3\\envs\\DataAnalyticsAndDevelopmentHW1\\lib\\site-packages\\sklearn\\linear_model\\_coordinate_descent.py:472: ConvergenceWarning: Objective did not converge. You might want to increase the number of iterations. Duality gap: 301134514041599.06, tolerance: 215853922288.5802\n",
      "  tol, rng, random, positive)\n",
      "C:\\Users\\lukel\\AppData\\Local\\Continuum\\anaconda3\\envs\\DataAnalyticsAndDevelopmentHW1\\lib\\site-packages\\sklearn\\linear_model\\_coordinate_descent.py:472: ConvergenceWarning: Objective did not converge. You might want to increase the number of iterations. Duality gap: 301109168137146.6, tolerance: 215853922288.5802\n",
      "  tol, rng, random, positive)\n",
      "C:\\Users\\lukel\\AppData\\Local\\Continuum\\anaconda3\\envs\\DataAnalyticsAndDevelopmentHW1\\lib\\site-packages\\sklearn\\linear_model\\_coordinate_descent.py:472: ConvergenceWarning: Objective did not converge. You might want to increase the number of iterations. Duality gap: 294966002524790.0, tolerance: 209387158695.20868\n",
      "  tol, rng, random, positive)\n"
     ]
    },
    {
     "name": "stderr",
     "output_type": "stream",
     "text": [
      "C:\\Users\\lukel\\AppData\\Local\\Continuum\\anaconda3\\envs\\DataAnalyticsAndDevelopmentHW1\\lib\\site-packages\\sklearn\\linear_model\\_coordinate_descent.py:472: ConvergenceWarning: Objective did not converge. You might want to increase the number of iterations. Duality gap: 292981782586890.5, tolerance: 209387158695.20868\n",
      "  tol, rng, random, positive)\n",
      "C:\\Users\\lukel\\AppData\\Local\\Continuum\\anaconda3\\envs\\DataAnalyticsAndDevelopmentHW1\\lib\\site-packages\\sklearn\\linear_model\\_coordinate_descent.py:472: ConvergenceWarning: Objective did not converge. You might want to increase the number of iterations. Duality gap: 292781310407117.0, tolerance: 209387158695.20868\n",
      "  tol, rng, random, positive)\n",
      "C:\\Users\\lukel\\AppData\\Local\\Continuum\\anaconda3\\envs\\DataAnalyticsAndDevelopmentHW1\\lib\\site-packages\\sklearn\\linear_model\\_coordinate_descent.py:472: ConvergenceWarning: Objective did not converge. You might want to increase the number of iterations. Duality gap: 292761188348314.9, tolerance: 209387158695.20868\n",
      "  tol, rng, random, positive)\n",
      "C:\\Users\\lukel\\AppData\\Local\\Continuum\\anaconda3\\envs\\DataAnalyticsAndDevelopmentHW1\\lib\\site-packages\\sklearn\\linear_model\\_coordinate_descent.py:472: ConvergenceWarning: Objective did not converge. You might want to increase the number of iterations. Duality gap: 292759475542449.5, tolerance: 209387158695.20868\n",
      "  tol, rng, random, positive)\n",
      "C:\\Users\\lukel\\AppData\\Local\\Continuum\\anaconda3\\envs\\DataAnalyticsAndDevelopmentHW1\\lib\\site-packages\\sklearn\\linear_model\\_coordinate_descent.py:472: ConvergenceWarning: Objective did not converge. You might want to increase the number of iterations. Duality gap: 292761588058408.4, tolerance: 209387158695.20868\n",
      "  tol, rng, random, positive)\n",
      "C:\\Users\\lukel\\AppData\\Local\\Continuum\\anaconda3\\envs\\DataAnalyticsAndDevelopmentHW1\\lib\\site-packages\\sklearn\\linear_model\\_coordinate_descent.py:472: ConvergenceWarning: Objective did not converge. You might want to increase the number of iterations. Duality gap: 292711502683318.2, tolerance: 209387158695.20868\n",
      "  tol, rng, random, positive)\n",
      "C:\\Users\\lukel\\AppData\\Local\\Continuum\\anaconda3\\envs\\DataAnalyticsAndDevelopmentHW1\\lib\\site-packages\\sklearn\\linear_model\\_coordinate_descent.py:476: ConvergenceWarning: Objective did not converge. You might want to increase the number of iterations. Duality gap: 369133669735498.4, tolerance: 264808570575.3959\n",
      "  positive)\n",
      "C:\\Users\\lukel\\AppData\\Local\\Continuum\\anaconda3\\envs\\DataAnalyticsAndDevelopmentHW1\\lib\\site-packages\\sklearn\\linear_model\\_coordinate_descent.py:472: ConvergenceWarning: Objective did not converge. You might want to increase the number of iterations. Duality gap: 295359819206022.9, tolerance: 208086494752.23676\n",
      "  tol, rng, random, positive)\n",
      "C:\\Users\\lukel\\AppData\\Local\\Continuum\\anaconda3\\envs\\DataAnalyticsAndDevelopmentHW1\\lib\\site-packages\\sklearn\\linear_model\\_coordinate_descent.py:472: ConvergenceWarning: Objective did not converge. You might want to increase the number of iterations. Duality gap: 293338747763591.6, tolerance: 208086494752.23676\n",
      "  tol, rng, random, positive)\n",
      "C:\\Users\\lukel\\AppData\\Local\\Continuum\\anaconda3\\envs\\DataAnalyticsAndDevelopmentHW1\\lib\\site-packages\\sklearn\\linear_model\\_coordinate_descent.py:472: ConvergenceWarning: Objective did not converge. You might want to increase the number of iterations. Duality gap: 293134645498956.0, tolerance: 208086494752.23676\n",
      "  tol, rng, random, positive)\n",
      "C:\\Users\\lukel\\AppData\\Local\\Continuum\\anaconda3\\envs\\DataAnalyticsAndDevelopmentHW1\\lib\\site-packages\\sklearn\\linear_model\\_coordinate_descent.py:472: ConvergenceWarning: Objective did not converge. You might want to increase the number of iterations. Duality gap: 293114355957676.94, tolerance: 208086494752.23676\n",
      "  tol, rng, random, positive)\n",
      "C:\\Users\\lukel\\AppData\\Local\\Continuum\\anaconda3\\envs\\DataAnalyticsAndDevelopmentHW1\\lib\\site-packages\\sklearn\\linear_model\\_coordinate_descent.py:472: ConvergenceWarning: Objective did not converge. You might want to increase the number of iterations. Duality gap: 293111996392874.1, tolerance: 208086494752.23676\n",
      "  tol, rng, random, positive)\n",
      "C:\\Users\\lukel\\AppData\\Local\\Continuum\\anaconda3\\envs\\DataAnalyticsAndDevelopmentHW1\\lib\\site-packages\\sklearn\\linear_model\\_coordinate_descent.py:472: ConvergenceWarning: Objective did not converge. You might want to increase the number of iterations. Duality gap: 293105491910456.56, tolerance: 208086494752.23676\n",
      "  tol, rng, random, positive)\n",
      "C:\\Users\\lukel\\AppData\\Local\\Continuum\\anaconda3\\envs\\DataAnalyticsAndDevelopmentHW1\\lib\\site-packages\\sklearn\\linear_model\\_coordinate_descent.py:472: ConvergenceWarning: Objective did not converge. You might want to increase the number of iterations. Duality gap: 293056087580323.75, tolerance: 208086494752.23676\n",
      "  tol, rng, random, positive)\n",
      "C:\\Users\\lukel\\AppData\\Local\\Continuum\\anaconda3\\envs\\DataAnalyticsAndDevelopmentHW1\\lib\\site-packages\\sklearn\\linear_model\\_coordinate_descent.py:472: ConvergenceWarning: Objective did not converge. You might want to increase the number of iterations. Duality gap: 281647637433559.5, tolerance: 204361282013.6184\n",
      "  tol, rng, random, positive)\n",
      "C:\\Users\\lukel\\AppData\\Local\\Continuum\\anaconda3\\envs\\DataAnalyticsAndDevelopmentHW1\\lib\\site-packages\\sklearn\\linear_model\\_coordinate_descent.py:472: ConvergenceWarning: Objective did not converge. You might want to increase the number of iterations. Duality gap: 279618683827051.62, tolerance: 204361282013.6184\n",
      "  tol, rng, random, positive)\n",
      "C:\\Users\\lukel\\AppData\\Local\\Continuum\\anaconda3\\envs\\DataAnalyticsAndDevelopmentHW1\\lib\\site-packages\\sklearn\\linear_model\\_coordinate_descent.py:472: ConvergenceWarning: Objective did not converge. You might want to increase the number of iterations. Duality gap: 279413790274798.5, tolerance: 204361282013.6184\n",
      "  tol, rng, random, positive)\n",
      "C:\\Users\\lukel\\AppData\\Local\\Continuum\\anaconda3\\envs\\DataAnalyticsAndDevelopmentHW1\\lib\\site-packages\\sklearn\\linear_model\\_coordinate_descent.py:472: ConvergenceWarning: Objective did not converge. You might want to increase the number of iterations. Duality gap: 279393334266603.03, tolerance: 204361282013.6184\n",
      "  tol, rng, random, positive)\n",
      "C:\\Users\\lukel\\AppData\\Local\\Continuum\\anaconda3\\envs\\DataAnalyticsAndDevelopmentHW1\\lib\\site-packages\\sklearn\\linear_model\\_coordinate_descent.py:472: ConvergenceWarning: Objective did not converge. You might want to increase the number of iterations. Duality gap: 279391488375421.5, tolerance: 204361282013.6184\n",
      "  tol, rng, random, positive)\n",
      "C:\\Users\\lukel\\AppData\\Local\\Continuum\\anaconda3\\envs\\DataAnalyticsAndDevelopmentHW1\\lib\\site-packages\\sklearn\\linear_model\\_coordinate_descent.py:472: ConvergenceWarning: Objective did not converge. You might want to increase the number of iterations. Duality gap: 279396675673138.25, tolerance: 204361282013.6184\n",
      "  tol, rng, random, positive)\n",
      "C:\\Users\\lukel\\AppData\\Local\\Continuum\\anaconda3\\envs\\DataAnalyticsAndDevelopmentHW1\\lib\\site-packages\\sklearn\\linear_model\\_coordinate_descent.py:472: ConvergenceWarning: Objective did not converge. You might want to increase the number of iterations. Duality gap: 279468735177354.7, tolerance: 204361282013.6184\n",
      "  tol, rng, random, positive)\n",
      "C:\\Users\\lukel\\AppData\\Local\\Continuum\\anaconda3\\envs\\DataAnalyticsAndDevelopmentHW1\\lib\\site-packages\\sklearn\\linear_model\\_coordinate_descent.py:472: ConvergenceWarning: Objective did not converge. You might want to increase the number of iterations. Duality gap: 299889038869924.25, tolerance: 215713259100.58417\n",
      "  tol, rng, random, positive)\n",
      "C:\\Users\\lukel\\AppData\\Local\\Continuum\\anaconda3\\envs\\DataAnalyticsAndDevelopmentHW1\\lib\\site-packages\\sklearn\\linear_model\\_coordinate_descent.py:472: ConvergenceWarning: Objective did not converge. You might want to increase the number of iterations. Duality gap: 297795031470642.6, tolerance: 215713259100.58417\n",
      "  tol, rng, random, positive)\n",
      "C:\\Users\\lukel\\AppData\\Local\\Continuum\\anaconda3\\envs\\DataAnalyticsAndDevelopmentHW1\\lib\\site-packages\\sklearn\\linear_model\\_coordinate_descent.py:472: ConvergenceWarning: Objective did not converge. You might want to increase the number of iterations. Duality gap: 297583694184341.6, tolerance: 215713259100.58417\n",
      "  tol, rng, random, positive)\n",
      "C:\\Users\\lukel\\AppData\\Local\\Continuum\\anaconda3\\envs\\DataAnalyticsAndDevelopmentHW1\\lib\\site-packages\\sklearn\\linear_model\\_coordinate_descent.py:472: ConvergenceWarning: Objective did not converge. You might want to increase the number of iterations. Duality gap: 297562500402634.7, tolerance: 215713259100.58417\n",
      "  tol, rng, random, positive)\n",
      "C:\\Users\\lukel\\AppData\\Local\\Continuum\\anaconda3\\envs\\DataAnalyticsAndDevelopmentHW1\\lib\\site-packages\\sklearn\\linear_model\\_coordinate_descent.py:472: ConvergenceWarning: Objective did not converge. You might want to increase the number of iterations. Duality gap: 297559974779155.1, tolerance: 215713259100.58417\n",
      "  tol, rng, random, positive)\n",
      "C:\\Users\\lukel\\AppData\\Local\\Continuum\\anaconda3\\envs\\DataAnalyticsAndDevelopmentHW1\\lib\\site-packages\\sklearn\\linear_model\\_coordinate_descent.py:472: ConvergenceWarning: Objective did not converge. You might want to increase the number of iterations. Duality gap: 297570223039580.0, tolerance: 215713259100.58417\n",
      "  tol, rng, random, positive)\n",
      "C:\\Users\\lukel\\AppData\\Local\\Continuum\\anaconda3\\envs\\DataAnalyticsAndDevelopmentHW1\\lib\\site-packages\\sklearn\\linear_model\\_coordinate_descent.py:472: ConvergenceWarning: Objective did not converge. You might want to increase the number of iterations. Duality gap: 297374052869597.94, tolerance: 215713259100.58417\n",
      "  tol, rng, random, positive)\n",
      "C:\\Users\\lukel\\AppData\\Local\\Continuum\\anaconda3\\envs\\DataAnalyticsAndDevelopmentHW1\\lib\\site-packages\\sklearn\\linear_model\\_coordinate_descent.py:472: ConvergenceWarning: Objective did not converge. You might want to increase the number of iterations. Duality gap: 303495054175157.56, tolerance: 215853922288.5802\n",
      "  tol, rng, random, positive)\n",
      "C:\\Users\\lukel\\AppData\\Local\\Continuum\\anaconda3\\envs\\DataAnalyticsAndDevelopmentHW1\\lib\\site-packages\\sklearn\\linear_model\\_coordinate_descent.py:472: ConvergenceWarning: Objective did not converge. You might want to increase the number of iterations. Duality gap: 301365722150782.25, tolerance: 215853922288.5802\n",
      "  tol, rng, random, positive)\n",
      "C:\\Users\\lukel\\AppData\\Local\\Continuum\\anaconda3\\envs\\DataAnalyticsAndDevelopmentHW1\\lib\\site-packages\\sklearn\\linear_model\\_coordinate_descent.py:472: ConvergenceWarning: Objective did not converge. You might want to increase the number of iterations. Duality gap: 301150914041437.75, tolerance: 215853922288.5802\n",
      "  tol, rng, random, positive)\n",
      "C:\\Users\\lukel\\AppData\\Local\\Continuum\\anaconda3\\envs\\DataAnalyticsAndDevelopmentHW1\\lib\\site-packages\\sklearn\\linear_model\\_coordinate_descent.py:472: ConvergenceWarning: Objective did not converge. You might want to increase the number of iterations. Duality gap: 301129208729688.0, tolerance: 215853922288.5802\n",
      "  tol, rng, random, positive)\n",
      "C:\\Users\\lukel\\AppData\\Local\\Continuum\\anaconda3\\envs\\DataAnalyticsAndDevelopmentHW1\\lib\\site-packages\\sklearn\\linear_model\\_coordinate_descent.py:472: ConvergenceWarning: Objective did not converge. You might want to increase the number of iterations. Duality gap: 301127395997645.3, tolerance: 215853922288.5802\n",
      "  tol, rng, random, positive)\n",
      "C:\\Users\\lukel\\AppData\\Local\\Continuum\\anaconda3\\envs\\DataAnalyticsAndDevelopmentHW1\\lib\\site-packages\\sklearn\\linear_model\\_coordinate_descent.py:472: ConvergenceWarning: Objective did not converge. You might want to increase the number of iterations. Duality gap: 301134514041599.06, tolerance: 215853922288.5802\n",
      "  tol, rng, random, positive)\n",
      "C:\\Users\\lukel\\AppData\\Local\\Continuum\\anaconda3\\envs\\DataAnalyticsAndDevelopmentHW1\\lib\\site-packages\\sklearn\\linear_model\\_coordinate_descent.py:472: ConvergenceWarning: Objective did not converge. You might want to increase the number of iterations. Duality gap: 301109168137146.6, tolerance: 215853922288.5802\n",
      "  tol, rng, random, positive)\n",
      "C:\\Users\\lukel\\AppData\\Local\\Continuum\\anaconda3\\envs\\DataAnalyticsAndDevelopmentHW1\\lib\\site-packages\\sklearn\\linear_model\\_coordinate_descent.py:472: ConvergenceWarning: Objective did not converge. You might want to increase the number of iterations. Duality gap: 291712987029439.0, tolerance: 207492266924.71667\n",
      "  tol, rng, random, positive)\n"
     ]
    },
    {
     "name": "stderr",
     "output_type": "stream",
     "text": [
      "C:\\Users\\lukel\\AppData\\Local\\Continuum\\anaconda3\\envs\\DataAnalyticsAndDevelopmentHW1\\lib\\site-packages\\sklearn\\linear_model\\_coordinate_descent.py:472: ConvergenceWarning: Objective did not converge. You might want to increase the number of iterations. Duality gap: 289715657790233.9, tolerance: 207492266924.71667\n",
      "  tol, rng, random, positive)\n",
      "C:\\Users\\lukel\\AppData\\Local\\Continuum\\anaconda3\\envs\\DataAnalyticsAndDevelopmentHW1\\lib\\site-packages\\sklearn\\linear_model\\_coordinate_descent.py:472: ConvergenceWarning: Objective did not converge. You might want to increase the number of iterations. Duality gap: 289513825678511.3, tolerance: 207492266924.71667\n",
      "  tol, rng, random, positive)\n",
      "C:\\Users\\lukel\\AppData\\Local\\Continuum\\anaconda3\\envs\\DataAnalyticsAndDevelopmentHW1\\lib\\site-packages\\sklearn\\linear_model\\_coordinate_descent.py:472: ConvergenceWarning: Objective did not converge. You might want to increase the number of iterations. Duality gap: 289493684410181.1, tolerance: 207492266924.71667\n",
      "  tol, rng, random, positive)\n",
      "C:\\Users\\lukel\\AppData\\Local\\Continuum\\anaconda3\\envs\\DataAnalyticsAndDevelopmentHW1\\lib\\site-packages\\sklearn\\linear_model\\_coordinate_descent.py:472: ConvergenceWarning: Objective did not converge. You might want to increase the number of iterations. Duality gap: 289491347849550.06, tolerance: 207492266924.71667\n",
      "  tol, rng, random, positive)\n",
      "C:\\Users\\lukel\\AppData\\Local\\Continuum\\anaconda3\\envs\\DataAnalyticsAndDevelopmentHW1\\lib\\site-packages\\sklearn\\linear_model\\_coordinate_descent.py:472: ConvergenceWarning: Objective did not converge. You might want to increase the number of iterations. Duality gap: 289495842167272.1, tolerance: 207492266924.71667\n",
      "  tol, rng, random, positive)\n",
      "C:\\Users\\lukel\\AppData\\Local\\Continuum\\anaconda3\\envs\\DataAnalyticsAndDevelopmentHW1\\lib\\site-packages\\sklearn\\linear_model\\_coordinate_descent.py:472: ConvergenceWarning: Objective did not converge. You might want to increase the number of iterations. Duality gap: 289554317283765.0, tolerance: 207492266924.71667\n",
      "  tol, rng, random, positive)\n",
      "C:\\Users\\lukel\\AppData\\Local\\Continuum\\anaconda3\\envs\\DataAnalyticsAndDevelopmentHW1\\lib\\site-packages\\sklearn\\linear_model\\_coordinate_descent.py:476: ConvergenceWarning: Objective did not converge. You might want to increase the number of iterations. Duality gap: 365807753233170.9, tolerance: 262911281512.12582\n",
      "  positive)\n",
      "C:\\Users\\lukel\\AppData\\Local\\Continuum\\anaconda3\\envs\\DataAnalyticsAndDevelopmentHW1\\lib\\site-packages\\sklearn\\linear_model\\_coordinate_descent.py:472: ConvergenceWarning: Objective did not converge. You might want to increase the number of iterations. Duality gap: 293982356143129.25, tolerance: 207328909650.47745\n",
      "  tol, rng, random, positive)\n",
      "C:\\Users\\lukel\\AppData\\Local\\Continuum\\anaconda3\\envs\\DataAnalyticsAndDevelopmentHW1\\lib\\site-packages\\sklearn\\linear_model\\_coordinate_descent.py:472: ConvergenceWarning: Objective did not converge. You might want to increase the number of iterations. Duality gap: 291968847508059.75, tolerance: 207328909650.47745\n",
      "  tol, rng, random, positive)\n",
      "C:\\Users\\lukel\\AppData\\Local\\Continuum\\anaconda3\\envs\\DataAnalyticsAndDevelopmentHW1\\lib\\site-packages\\sklearn\\linear_model\\_coordinate_descent.py:472: ConvergenceWarning: Objective did not converge. You might want to increase the number of iterations. Duality gap: 291765533255118.7, tolerance: 207328909650.47745\n",
      "  tol, rng, random, positive)\n",
      "C:\\Users\\lukel\\AppData\\Local\\Continuum\\anaconda3\\envs\\DataAnalyticsAndDevelopmentHW1\\lib\\site-packages\\sklearn\\linear_model\\_coordinate_descent.py:472: ConvergenceWarning: Objective did not converge. You might want to increase the number of iterations. Duality gap: 291745127234961.6, tolerance: 207328909650.47745\n",
      "  tol, rng, random, positive)\n",
      "C:\\Users\\lukel\\AppData\\Local\\Continuum\\anaconda3\\envs\\DataAnalyticsAndDevelopmentHW1\\lib\\site-packages\\sklearn\\linear_model\\_coordinate_descent.py:472: ConvergenceWarning: Objective did not converge. You might want to increase the number of iterations. Duality gap: 291742645968306.7, tolerance: 207328909650.47745\n",
      "  tol, rng, random, positive)\n",
      "C:\\Users\\lukel\\AppData\\Local\\Continuum\\anaconda3\\envs\\DataAnalyticsAndDevelopmentHW1\\lib\\site-packages\\sklearn\\linear_model\\_coordinate_descent.py:472: ConvergenceWarning: Objective did not converge. You might want to increase the number of iterations. Duality gap: 291741027067189.5, tolerance: 207328909650.47745\n",
      "  tol, rng, random, positive)\n",
      "C:\\Users\\lukel\\AppData\\Local\\Continuum\\anaconda3\\envs\\DataAnalyticsAndDevelopmentHW1\\lib\\site-packages\\sklearn\\linear_model\\_coordinate_descent.py:472: ConvergenceWarning: Objective did not converge. You might want to increase the number of iterations. Duality gap: 291745012070229.06, tolerance: 207328909650.47745\n",
      "  tol, rng, random, positive)\n",
      "C:\\Users\\lukel\\AppData\\Local\\Continuum\\anaconda3\\envs\\DataAnalyticsAndDevelopmentHW1\\lib\\site-packages\\sklearn\\linear_model\\_coordinate_descent.py:472: ConvergenceWarning: Objective did not converge. You might want to increase the number of iterations. Duality gap: 280259410549958.84, tolerance: 203601102154.91452\n",
      "  tol, rng, random, positive)\n",
      "C:\\Users\\lukel\\AppData\\Local\\Continuum\\anaconda3\\envs\\DataAnalyticsAndDevelopmentHW1\\lib\\site-packages\\sklearn\\linear_model\\_coordinate_descent.py:472: ConvergenceWarning: Objective did not converge. You might want to increase the number of iterations. Duality gap: 278235334739892.8, tolerance: 203601102154.91452\n",
      "  tol, rng, random, positive)\n",
      "C:\\Users\\lukel\\AppData\\Local\\Continuum\\anaconda3\\envs\\DataAnalyticsAndDevelopmentHW1\\lib\\site-packages\\sklearn\\linear_model\\_coordinate_descent.py:472: ConvergenceWarning: Objective did not converge. You might want to increase the number of iterations. Duality gap: 278030812242990.3, tolerance: 203601102154.91452\n",
      "  tol, rng, random, positive)\n",
      "C:\\Users\\lukel\\AppData\\Local\\Continuum\\anaconda3\\envs\\DataAnalyticsAndDevelopmentHW1\\lib\\site-packages\\sklearn\\linear_model\\_coordinate_descent.py:472: ConvergenceWarning: Objective did not converge. You might want to increase the number of iterations. Duality gap: 278010322231165.75, tolerance: 203601102154.91452\n",
      "  tol, rng, random, positive)\n",
      "C:\\Users\\lukel\\AppData\\Local\\Continuum\\anaconda3\\envs\\DataAnalyticsAndDevelopmentHW1\\lib\\site-packages\\sklearn\\linear_model\\_coordinate_descent.py:472: ConvergenceWarning: Objective did not converge. You might want to increase the number of iterations. Duality gap: 278007586911755.3, tolerance: 203601102154.91452\n",
      "  tol, rng, random, positive)\n",
      "C:\\Users\\lukel\\AppData\\Local\\Continuum\\anaconda3\\envs\\DataAnalyticsAndDevelopmentHW1\\lib\\site-packages\\sklearn\\linear_model\\_coordinate_descent.py:472: ConvergenceWarning: Objective did not converge. You might want to increase the number of iterations. Duality gap: 278008181170278.94, tolerance: 203601102154.91452\n",
      "  tol, rng, random, positive)\n",
      "C:\\Users\\lukel\\AppData\\Local\\Continuum\\anaconda3\\envs\\DataAnalyticsAndDevelopmentHW1\\lib\\site-packages\\sklearn\\linear_model\\_coordinate_descent.py:472: ConvergenceWarning: Objective did not converge. You might want to increase the number of iterations. Duality gap: 278023090617790.38, tolerance: 203601102154.91452\n",
      "  tol, rng, random, positive)\n",
      "C:\\Users\\lukel\\AppData\\Local\\Continuum\\anaconda3\\envs\\DataAnalyticsAndDevelopmentHW1\\lib\\site-packages\\sklearn\\linear_model\\_coordinate_descent.py:472: ConvergenceWarning: Objective did not converge. You might want to increase the number of iterations. Duality gap: 298692640454403.6, tolerance: 214963924984.50668\n",
      "  tol, rng, random, positive)\n",
      "C:\\Users\\lukel\\AppData\\Local\\Continuum\\anaconda3\\envs\\DataAnalyticsAndDevelopmentHW1\\lib\\site-packages\\sklearn\\linear_model\\_coordinate_descent.py:472: ConvergenceWarning: Objective did not converge. You might want to increase the number of iterations. Duality gap: 296607897985743.56, tolerance: 214963924984.50668\n",
      "  tol, rng, random, positive)\n",
      "C:\\Users\\lukel\\AppData\\Local\\Continuum\\anaconda3\\envs\\DataAnalyticsAndDevelopmentHW1\\lib\\site-packages\\sklearn\\linear_model\\_coordinate_descent.py:472: ConvergenceWarning: Objective did not converge. You might want to increase the number of iterations. Duality gap: 296397509046130.25, tolerance: 214963924984.50668\n",
      "  tol, rng, random, positive)\n",
      "C:\\Users\\lukel\\AppData\\Local\\Continuum\\anaconda3\\envs\\DataAnalyticsAndDevelopmentHW1\\lib\\site-packages\\sklearn\\linear_model\\_coordinate_descent.py:472: ConvergenceWarning: Objective did not converge. You might want to increase the number of iterations. Duality gap: 296376676596260.94, tolerance: 214963924984.50668\n",
      "  tol, rng, random, positive)\n",
      "C:\\Users\\lukel\\AppData\\Local\\Continuum\\anaconda3\\envs\\DataAnalyticsAndDevelopmentHW1\\lib\\site-packages\\sklearn\\linear_model\\_coordinate_descent.py:472: ConvergenceWarning: Objective did not converge. You might want to increase the number of iterations. Duality gap: 296376788527888.75, tolerance: 214963924984.50668\n",
      "  tol, rng, random, positive)\n",
      "C:\\Users\\lukel\\AppData\\Local\\Continuum\\anaconda3\\envs\\DataAnalyticsAndDevelopmentHW1\\lib\\site-packages\\sklearn\\linear_model\\_coordinate_descent.py:472: ConvergenceWarning: Objective did not converge. You might want to increase the number of iterations. Duality gap: 296363054527669.8, tolerance: 214963924984.50668\n",
      "  tol, rng, random, positive)\n",
      "C:\\Users\\lukel\\AppData\\Local\\Continuum\\anaconda3\\envs\\DataAnalyticsAndDevelopmentHW1\\lib\\site-packages\\sklearn\\linear_model\\_coordinate_descent.py:472: ConvergenceWarning: Objective did not converge. You might want to increase the number of iterations. Duality gap: 296358401561122.94, tolerance: 214963924984.50668\n",
      "  tol, rng, random, positive)\n",
      "C:\\Users\\lukel\\AppData\\Local\\Continuum\\anaconda3\\envs\\DataAnalyticsAndDevelopmentHW1\\lib\\site-packages\\sklearn\\linear_model\\_coordinate_descent.py:472: ConvergenceWarning: Objective did not converge. You might want to increase the number of iterations. Duality gap: 298955962399928.6, tolerance: 211877018540.0558\n",
      "  tol, rng, random, positive)\n",
      "C:\\Users\\lukel\\AppData\\Local\\Continuum\\anaconda3\\envs\\DataAnalyticsAndDevelopmentHW1\\lib\\site-packages\\sklearn\\linear_model\\_coordinate_descent.py:472: ConvergenceWarning: Objective did not converge. You might want to increase the number of iterations. Duality gap: 296861434064515.44, tolerance: 211877018540.0558\n",
      "  tol, rng, random, positive)\n",
      "C:\\Users\\lukel\\AppData\\Local\\Continuum\\anaconda3\\envs\\DataAnalyticsAndDevelopmentHW1\\lib\\site-packages\\sklearn\\linear_model\\_coordinate_descent.py:472: ConvergenceWarning: Objective did not converge. You might want to increase the number of iterations. Duality gap: 296649876133975.56, tolerance: 211877018540.0558\n",
      "  tol, rng, random, positive)\n",
      "C:\\Users\\lukel\\AppData\\Local\\Continuum\\anaconda3\\envs\\DataAnalyticsAndDevelopmentHW1\\lib\\site-packages\\sklearn\\linear_model\\_coordinate_descent.py:472: ConvergenceWarning: Objective did not converge. You might want to increase the number of iterations. Duality gap: 296628773510493.2, tolerance: 211877018540.0558\n",
      "  tol, rng, random, positive)\n",
      "C:\\Users\\lukel\\AppData\\Local\\Continuum\\anaconda3\\envs\\DataAnalyticsAndDevelopmentHW1\\lib\\site-packages\\sklearn\\linear_model\\_coordinate_descent.py:472: ConvergenceWarning: Objective did not converge. You might want to increase the number of iterations. Duality gap: 296626234981185.7, tolerance: 211877018540.0558\n",
      "  tol, rng, random, positive)\n",
      "C:\\Users\\lukel\\AppData\\Local\\Continuum\\anaconda3\\envs\\DataAnalyticsAndDevelopmentHW1\\lib\\site-packages\\sklearn\\linear_model\\_coordinate_descent.py:472: ConvergenceWarning: Objective did not converge. You might want to increase the number of iterations. Duality gap: 296624741509689.9, tolerance: 211877018540.0558\n",
      "  tol, rng, random, positive)\n",
      "C:\\Users\\lukel\\AppData\\Local\\Continuum\\anaconda3\\envs\\DataAnalyticsAndDevelopmentHW1\\lib\\site-packages\\sklearn\\linear_model\\_coordinate_descent.py:472: ConvergenceWarning: Objective did not converge. You might want to increase the number of iterations. Duality gap: 296582922083518.56, tolerance: 211877018540.0558\n",
      "  tol, rng, random, positive)\n",
      "C:\\Users\\lukel\\AppData\\Local\\Continuum\\anaconda3\\envs\\DataAnalyticsAndDevelopmentHW1\\lib\\site-packages\\sklearn\\linear_model\\_coordinate_descent.py:472: ConvergenceWarning: Objective did not converge. You might want to increase the number of iterations. Duality gap: 295343163686142.6, tolerance: 210730183104.08142\n",
      "  tol, rng, random, positive)\n"
     ]
    },
    {
     "name": "stderr",
     "output_type": "stream",
     "text": [
      "C:\\Users\\lukel\\AppData\\Local\\Continuum\\anaconda3\\envs\\DataAnalyticsAndDevelopmentHW1\\lib\\site-packages\\sklearn\\linear_model\\_coordinate_descent.py:472: ConvergenceWarning: Objective did not converge. You might want to increase the number of iterations. Duality gap: 293319362701061.75, tolerance: 210730183104.08142\n",
      "  tol, rng, random, positive)\n",
      "C:\\Users\\lukel\\AppData\\Local\\Continuum\\anaconda3\\envs\\DataAnalyticsAndDevelopmentHW1\\lib\\site-packages\\sklearn\\linear_model\\_coordinate_descent.py:472: ConvergenceWarning: Objective did not converge. You might want to increase the number of iterations. Duality gap: 293114919386968.25, tolerance: 210730183104.08142\n",
      "  tol, rng, random, positive)\n",
      "C:\\Users\\lukel\\AppData\\Local\\Continuum\\anaconda3\\envs\\DataAnalyticsAndDevelopmentHW1\\lib\\site-packages\\sklearn\\linear_model\\_coordinate_descent.py:472: ConvergenceWarning: Objective did not converge. You might want to increase the number of iterations. Duality gap: 293094501453896.3, tolerance: 210730183104.08142\n",
      "  tol, rng, random, positive)\n",
      "C:\\Users\\lukel\\AppData\\Local\\Continuum\\anaconda3\\envs\\DataAnalyticsAndDevelopmentHW1\\lib\\site-packages\\sklearn\\linear_model\\_coordinate_descent.py:472: ConvergenceWarning: Objective did not converge. You might want to increase the number of iterations. Duality gap: 293092223541559.3, tolerance: 210730183104.08142\n",
      "  tol, rng, random, positive)\n",
      "C:\\Users\\lukel\\AppData\\Local\\Continuum\\anaconda3\\envs\\DataAnalyticsAndDevelopmentHW1\\lib\\site-packages\\sklearn\\linear_model\\_coordinate_descent.py:472: ConvergenceWarning: Objective did not converge. You might want to increase the number of iterations. Duality gap: 293095379821711.6, tolerance: 210730183104.08142\n",
      "  tol, rng, random, positive)\n",
      "C:\\Users\\lukel\\AppData\\Local\\Continuum\\anaconda3\\envs\\DataAnalyticsAndDevelopmentHW1\\lib\\site-packages\\sklearn\\linear_model\\_coordinate_descent.py:472: ConvergenceWarning: Objective did not converge. You might want to increase the number of iterations. Duality gap: 293169082418695.8, tolerance: 210730183104.08142\n",
      "  tol, rng, random, positive)\n",
      "C:\\Users\\lukel\\AppData\\Local\\Continuum\\anaconda3\\envs\\DataAnalyticsAndDevelopmentHW1\\lib\\site-packages\\sklearn\\linear_model\\_coordinate_descent.py:476: ConvergenceWarning: Objective did not converge. You might want to increase the number of iterations. Duality gap: 364497439483467.9, tolerance: 262151018418.36417\n",
      "  positive)\n",
      "C:\\Users\\lukel\\AppData\\Local\\Continuum\\anaconda3\\envs\\DataAnalyticsAndDevelopmentHW1\\lib\\site-packages\\sklearn\\linear_model\\_coordinate_descent.py:472: ConvergenceWarning: Objective did not converge. You might want to increase the number of iterations. Duality gap: 291055677049909.0, tolerance: 205861801729.2716\n",
      "  tol, rng, random, positive)\n",
      "C:\\Users\\lukel\\AppData\\Local\\Continuum\\anaconda3\\envs\\DataAnalyticsAndDevelopmentHW1\\lib\\site-packages\\sklearn\\linear_model\\_coordinate_descent.py:472: ConvergenceWarning: Objective did not converge. You might want to increase the number of iterations. Duality gap: 289181388464742.6, tolerance: 205861801729.2716\n",
      "  tol, rng, random, positive)\n",
      "C:\\Users\\lukel\\AppData\\Local\\Continuum\\anaconda3\\envs\\DataAnalyticsAndDevelopmentHW1\\lib\\site-packages\\sklearn\\linear_model\\_coordinate_descent.py:472: ConvergenceWarning: Objective did not converge. You might want to increase the number of iterations. Duality gap: 288991885869701.5, tolerance: 205861801729.2716\n",
      "  tol, rng, random, positive)\n",
      "C:\\Users\\lukel\\AppData\\Local\\Continuum\\anaconda3\\envs\\DataAnalyticsAndDevelopmentHW1\\lib\\site-packages\\sklearn\\linear_model\\_coordinate_descent.py:472: ConvergenceWarning: Objective did not converge. You might want to increase the number of iterations. Duality gap: 288972995876545.0, tolerance: 205861801729.2716\n",
      "  tol, rng, random, positive)\n",
      "C:\\Users\\lukel\\AppData\\Local\\Continuum\\anaconda3\\envs\\DataAnalyticsAndDevelopmentHW1\\lib\\site-packages\\sklearn\\linear_model\\_coordinate_descent.py:472: ConvergenceWarning: Objective did not converge. You might want to increase the number of iterations. Duality gap: 288971428679999.5, tolerance: 205861801729.2716\n",
      "  tol, rng, random, positive)\n",
      "C:\\Users\\lukel\\AppData\\Local\\Continuum\\anaconda3\\envs\\DataAnalyticsAndDevelopmentHW1\\lib\\site-packages\\sklearn\\linear_model\\_coordinate_descent.py:472: ConvergenceWarning: Objective did not converge. You might want to increase the number of iterations. Duality gap: 288966685178871.9, tolerance: 205861801729.2716\n",
      "  tol, rng, random, positive)\n",
      "C:\\Users\\lukel\\AppData\\Local\\Continuum\\anaconda3\\envs\\DataAnalyticsAndDevelopmentHW1\\lib\\site-packages\\sklearn\\linear_model\\_coordinate_descent.py:472: ConvergenceWarning: Objective did not converge. You might want to increase the number of iterations. Duality gap: 288949637496986.4, tolerance: 205861801729.2716\n",
      "  tol, rng, random, positive)\n",
      "C:\\Users\\lukel\\AppData\\Local\\Continuum\\anaconda3\\envs\\DataAnalyticsAndDevelopmentHW1\\lib\\site-packages\\sklearn\\linear_model\\_coordinate_descent.py:472: ConvergenceWarning: Objective did not converge. You might want to increase the number of iterations. Duality gap: 277335501176448.88, tolerance: 202110140182.92502\n",
      "  tol, rng, random, positive)\n",
      "C:\\Users\\lukel\\AppData\\Local\\Continuum\\anaconda3\\envs\\DataAnalyticsAndDevelopmentHW1\\lib\\site-packages\\sklearn\\linear_model\\_coordinate_descent.py:472: ConvergenceWarning: Objective did not converge. You might want to increase the number of iterations. Duality gap: 275441015723104.97, tolerance: 202110140182.92502\n",
      "  tol, rng, random, positive)\n",
      "C:\\Users\\lukel\\AppData\\Local\\Continuum\\anaconda3\\envs\\DataAnalyticsAndDevelopmentHW1\\lib\\site-packages\\sklearn\\linear_model\\_coordinate_descent.py:472: ConvergenceWarning: Objective did not converge. You might want to increase the number of iterations. Duality gap: 275249542528537.66, tolerance: 202110140182.92502\n",
      "  tol, rng, random, positive)\n",
      "C:\\Users\\lukel\\AppData\\Local\\Continuum\\anaconda3\\envs\\DataAnalyticsAndDevelopmentHW1\\lib\\site-packages\\sklearn\\linear_model\\_coordinate_descent.py:472: ConvergenceWarning: Objective did not converge. You might want to increase the number of iterations. Duality gap: 275230374775019.0, tolerance: 202110140182.92502\n",
      "  tol, rng, random, positive)\n",
      "C:\\Users\\lukel\\AppData\\Local\\Continuum\\anaconda3\\envs\\DataAnalyticsAndDevelopmentHW1\\lib\\site-packages\\sklearn\\linear_model\\_coordinate_descent.py:472: ConvergenceWarning: Objective did not converge. You might want to increase the number of iterations. Duality gap: 275228415102083.44, tolerance: 202110140182.92502\n",
      "  tol, rng, random, positive)\n",
      "C:\\Users\\lukel\\AppData\\Local\\Continuum\\anaconda3\\envs\\DataAnalyticsAndDevelopmentHW1\\lib\\site-packages\\sklearn\\linear_model\\_coordinate_descent.py:472: ConvergenceWarning: Objective did not converge. You might want to increase the number of iterations. Duality gap: 275235813830757.72, tolerance: 202110140182.92502\n",
      "  tol, rng, random, positive)\n",
      "C:\\Users\\lukel\\AppData\\Local\\Continuum\\anaconda3\\envs\\DataAnalyticsAndDevelopmentHW1\\lib\\site-packages\\sklearn\\linear_model\\_coordinate_descent.py:472: ConvergenceWarning: Objective did not converge. You might want to increase the number of iterations. Duality gap: 275133921108164.66, tolerance: 202110140182.92502\n",
      "  tol, rng, random, positive)\n",
      "C:\\Users\\lukel\\AppData\\Local\\Continuum\\anaconda3\\envs\\DataAnalyticsAndDevelopmentHW1\\lib\\site-packages\\sklearn\\linear_model\\_coordinate_descent.py:472: ConvergenceWarning: Objective did not converge. You might want to increase the number of iterations. Duality gap: 296109659052371.1, tolerance: 213572674875.02216\n",
      "  tol, rng, random, positive)\n",
      "C:\\Users\\lukel\\AppData\\Local\\Continuum\\anaconda3\\envs\\DataAnalyticsAndDevelopmentHW1\\lib\\site-packages\\sklearn\\linear_model\\_coordinate_descent.py:472: ConvergenceWarning: Objective did not converge. You might want to increase the number of iterations. Duality gap: 294167254889199.1, tolerance: 213572674875.02216\n",
      "  tol, rng, random, positive)\n",
      "C:\\Users\\lukel\\AppData\\Local\\Continuum\\anaconda3\\envs\\DataAnalyticsAndDevelopmentHW1\\lib\\site-packages\\sklearn\\linear_model\\_coordinate_descent.py:472: ConvergenceWarning: Objective did not converge. You might want to increase the number of iterations. Duality gap: 293971002263078.94, tolerance: 213572674875.02216\n",
      "  tol, rng, random, positive)\n",
      "C:\\Users\\lukel\\AppData\\Local\\Continuum\\anaconda3\\envs\\DataAnalyticsAndDevelopmentHW1\\lib\\site-packages\\sklearn\\linear_model\\_coordinate_descent.py:472: ConvergenceWarning: Objective did not converge. You might want to increase the number of iterations. Duality gap: 293950937479020.94, tolerance: 213572674875.02216\n",
      "  tol, rng, random, positive)\n",
      "C:\\Users\\lukel\\AppData\\Local\\Continuum\\anaconda3\\envs\\DataAnalyticsAndDevelopmentHW1\\lib\\site-packages\\sklearn\\linear_model\\_coordinate_descent.py:472: ConvergenceWarning: Objective did not converge. You might want to increase the number of iterations. Duality gap: 293951185461595.44, tolerance: 213572674875.02216\n",
      "  tol, rng, random, positive)\n",
      "C:\\Users\\lukel\\AppData\\Local\\Continuum\\anaconda3\\envs\\DataAnalyticsAndDevelopmentHW1\\lib\\site-packages\\sklearn\\linear_model\\_coordinate_descent.py:472: ConvergenceWarning: Objective did not converge. You might want to increase the number of iterations. Duality gap: 293936782513411.75, tolerance: 213572674875.02216\n",
      "  tol, rng, random, positive)\n",
      "C:\\Users\\lukel\\AppData\\Local\\Continuum\\anaconda3\\envs\\DataAnalyticsAndDevelopmentHW1\\lib\\site-packages\\sklearn\\linear_model\\_coordinate_descent.py:472: ConvergenceWarning: Objective did not converge. You might want to increase the number of iterations. Duality gap: 293998791756784.1, tolerance: 213572674875.02216\n",
      "  tol, rng, random, positive)\n",
      "C:\\Users\\lukel\\AppData\\Local\\Continuum\\anaconda3\\envs\\DataAnalyticsAndDevelopmentHW1\\lib\\site-packages\\sklearn\\linear_model\\_coordinate_descent.py:472: ConvergenceWarning: Objective did not converge. You might want to increase the number of iterations. Duality gap: 296640713738466.7, tolerance: 210402478333.711\n",
      "  tol, rng, random, positive)\n",
      "C:\\Users\\lukel\\AppData\\Local\\Continuum\\anaconda3\\envs\\DataAnalyticsAndDevelopmentHW1\\lib\\site-packages\\sklearn\\linear_model\\_coordinate_descent.py:472: ConvergenceWarning: Objective did not converge. You might want to increase the number of iterations. Duality gap: 294681600053354.6, tolerance: 210402478333.711\n",
      "  tol, rng, random, positive)\n",
      "C:\\Users\\lukel\\AppData\\Local\\Continuum\\anaconda3\\envs\\DataAnalyticsAndDevelopmentHW1\\lib\\site-packages\\sklearn\\linear_model\\_coordinate_descent.py:472: ConvergenceWarning: Objective did not converge. You might want to increase the number of iterations. Duality gap: 294483680044773.8, tolerance: 210402478333.711\n",
      "  tol, rng, random, positive)\n",
      "C:\\Users\\lukel\\AppData\\Local\\Continuum\\anaconda3\\envs\\DataAnalyticsAndDevelopmentHW1\\lib\\site-packages\\sklearn\\linear_model\\_coordinate_descent.py:472: ConvergenceWarning: Objective did not converge. You might want to increase the number of iterations. Duality gap: 294463892475696.0, tolerance: 210402478333.711\n",
      "  tol, rng, random, positive)\n",
      "C:\\Users\\lukel\\AppData\\Local\\Continuum\\anaconda3\\envs\\DataAnalyticsAndDevelopmentHW1\\lib\\site-packages\\sklearn\\linear_model\\_coordinate_descent.py:472: ConvergenceWarning: Objective did not converge. You might want to increase the number of iterations. Duality gap: 294462859431644.1, tolerance: 210402478333.711\n",
      "  tol, rng, random, positive)\n",
      "C:\\Users\\lukel\\AppData\\Local\\Continuum\\anaconda3\\envs\\DataAnalyticsAndDevelopmentHW1\\lib\\site-packages\\sklearn\\linear_model\\_coordinate_descent.py:472: ConvergenceWarning: Objective did not converge. You might want to increase the number of iterations. Duality gap: 294461821657379.4, tolerance: 210402478333.711\n",
      "  tol, rng, random, positive)\n",
      "C:\\Users\\lukel\\AppData\\Local\\Continuum\\anaconda3\\envs\\DataAnalyticsAndDevelopmentHW1\\lib\\site-packages\\sklearn\\linear_model\\_coordinate_descent.py:472: ConvergenceWarning: Objective did not converge. You might want to increase the number of iterations. Duality gap: 294410709057103.75, tolerance: 210402478333.711\n",
      "  tol, rng, random, positive)\n",
      "C:\\Users\\lukel\\AppData\\Local\\Continuum\\anaconda3\\envs\\DataAnalyticsAndDevelopmentHW1\\lib\\site-packages\\sklearn\\linear_model\\_coordinate_descent.py:472: ConvergenceWarning: Objective did not converge. You might want to increase the number of iterations. Duality gap: 295343163686142.6, tolerance: 210730183104.08142\n",
      "  tol, rng, random, positive)\n",
      "C:\\Users\\lukel\\AppData\\Local\\Continuum\\anaconda3\\envs\\DataAnalyticsAndDevelopmentHW1\\lib\\site-packages\\sklearn\\linear_model\\_coordinate_descent.py:472: ConvergenceWarning: Objective did not converge. You might want to increase the number of iterations. Duality gap: 293319362701061.75, tolerance: 210730183104.08142\n",
      "  tol, rng, random, positive)\n",
      "C:\\Users\\lukel\\AppData\\Local\\Continuum\\anaconda3\\envs\\DataAnalyticsAndDevelopmentHW1\\lib\\site-packages\\sklearn\\linear_model\\_coordinate_descent.py:472: ConvergenceWarning: Objective did not converge. You might want to increase the number of iterations. Duality gap: 293114919386968.25, tolerance: 210730183104.08142\n",
      "  tol, rng, random, positive)\n",
      "C:\\Users\\lukel\\AppData\\Local\\Continuum\\anaconda3\\envs\\DataAnalyticsAndDevelopmentHW1\\lib\\site-packages\\sklearn\\linear_model\\_coordinate_descent.py:472: ConvergenceWarning: Objective did not converge. You might want to increase the number of iterations. Duality gap: 293094501453896.3, tolerance: 210730183104.08142\n",
      "  tol, rng, random, positive)\n",
      "C:\\Users\\lukel\\AppData\\Local\\Continuum\\anaconda3\\envs\\DataAnalyticsAndDevelopmentHW1\\lib\\site-packages\\sklearn\\linear_model\\_coordinate_descent.py:472: ConvergenceWarning: Objective did not converge. You might want to increase the number of iterations. Duality gap: 293092223541559.3, tolerance: 210730183104.08142\n",
      "  tol, rng, random, positive)\n",
      "C:\\Users\\lukel\\AppData\\Local\\Continuum\\anaconda3\\envs\\DataAnalyticsAndDevelopmentHW1\\lib\\site-packages\\sklearn\\linear_model\\_coordinate_descent.py:472: ConvergenceWarning: Objective did not converge. You might want to increase the number of iterations. Duality gap: 293095379821711.6, tolerance: 210730183104.08142\n",
      "  tol, rng, random, positive)\n",
      "C:\\Users\\lukel\\AppData\\Local\\Continuum\\anaconda3\\envs\\DataAnalyticsAndDevelopmentHW1\\lib\\site-packages\\sklearn\\linear_model\\_coordinate_descent.py:472: ConvergenceWarning: Objective did not converge. You might want to increase the number of iterations. Duality gap: 293169082418695.8, tolerance: 210730183104.08142\n",
      "  tol, rng, random, positive)\n"
     ]
    },
    {
     "name": "stderr",
     "output_type": "stream",
     "text": [
      "C:\\Users\\lukel\\AppData\\Local\\Continuum\\anaconda3\\envs\\DataAnalyticsAndDevelopmentHW1\\lib\\site-packages\\sklearn\\linear_model\\_coordinate_descent.py:476: ConvergenceWarning: Objective did not converge. You might want to increase the number of iterations. Duality gap: 361801503001468.94, tolerance: 260675069806.91736\n",
      "  positive)\n"
     ]
    },
    {
     "name": "stdout",
     "output_type": "stream",
     "text": [
      "Root Mean Squared Error (Lasso):  203418.22857312454\n"
     ]
    },
    {
     "name": "stderr",
     "output_type": "stream",
     "text": [
      "C:\\Users\\lukel\\AppData\\Local\\Continuum\\anaconda3\\envs\\DataAnalyticsAndDevelopmentHW1\\lib\\site-packages\\sklearn\\linear_model\\_coordinate_descent.py:476: ConvergenceWarning: Objective did not converge. You might want to increase the number of iterations. Duality gap: 398498086557827.06, tolerance: 260004851035.958\n",
      "  positive)\n",
      "C:\\Users\\lukel\\AppData\\Local\\Continuum\\anaconda3\\envs\\DataAnalyticsAndDevelopmentHW1\\lib\\site-packages\\sklearn\\linear_model\\_coordinate_descent.py:476: ConvergenceWarning: Objective did not converge. You might want to increase the number of iterations. Duality gap: 394263044506721.94, tolerance: 257092287072.88525\n",
      "  positive)\n",
      "C:\\Users\\lukel\\AppData\\Local\\Continuum\\anaconda3\\envs\\DataAnalyticsAndDevelopmentHW1\\lib\\site-packages\\sklearn\\linear_model\\_coordinate_descent.py:476: ConvergenceWarning: Objective did not converge. You might want to increase the number of iterations. Duality gap: 407055016206543.44, tolerance: 266184745178.01212\n",
      "  positive)\n",
      "C:\\Users\\lukel\\AppData\\Local\\Continuum\\anaconda3\\envs\\DataAnalyticsAndDevelopmentHW1\\lib\\site-packages\\sklearn\\linear_model\\_coordinate_descent.py:476: ConvergenceWarning: Objective did not converge. You might want to increase the number of iterations. Duality gap: 391441179162601.06, tolerance: 255716056074.62552\n",
      "  positive)\n",
      "C:\\Users\\lukel\\AppData\\Local\\Continuum\\anaconda3\\envs\\DataAnalyticsAndDevelopmentHW1\\lib\\site-packages\\sklearn\\linear_model\\_coordinate_descent.py:476: ConvergenceWarning: Objective did not converge. You might want to increase the number of iterations. Duality gap: 408492839398686.2, tolerance: 267454440763.38077\n",
      "  positive)\n",
      "C:\\Users\\lukel\\AppData\\Local\\Continuum\\anaconda3\\envs\\DataAnalyticsAndDevelopmentHW1\\lib\\site-packages\\sklearn\\linear_model\\_coordinate_descent.py:476: ConvergenceWarning: Objective did not converge. You might want to increase the number of iterations. Duality gap: 406342450352655.7, tolerance: 264544178382.88953\n",
      "  positive)\n",
      "C:\\Users\\lukel\\AppData\\Local\\Continuum\\anaconda3\\envs\\DataAnalyticsAndDevelopmentHW1\\lib\\site-packages\\sklearn\\linear_model\\_coordinate_descent.py:476: ConvergenceWarning: Objective did not converge. You might want to increase the number of iterations. Duality gap: 408111410810118.9, tolerance: 264808570575.3959\n",
      "  positive)\n",
      "C:\\Users\\lukel\\AppData\\Local\\Continuum\\anaconda3\\envs\\DataAnalyticsAndDevelopmentHW1\\lib\\site-packages\\sklearn\\linear_model\\_coordinate_descent.py:476: ConvergenceWarning: Objective did not converge. You might want to increase the number of iterations. Duality gap: 404744134456663.56, tolerance: 262911281512.12582\n",
      "  positive)\n",
      "C:\\Users\\lukel\\AppData\\Local\\Continuum\\anaconda3\\envs\\DataAnalyticsAndDevelopmentHW1\\lib\\site-packages\\sklearn\\linear_model\\_coordinate_descent.py:476: ConvergenceWarning: Objective did not converge. You might want to increase the number of iterations. Duality gap: 402603782841969.7, tolerance: 262151018418.36417\n",
      "  positive)\n",
      "C:\\Users\\lukel\\AppData\\Local\\Continuum\\anaconda3\\envs\\DataAnalyticsAndDevelopmentHW1\\lib\\site-packages\\sklearn\\linear_model\\_coordinate_descent.py:476: ConvergenceWarning: Objective did not converge. You might want to increase the number of iterations. Duality gap: 398525912098443.44, tolerance: 260675069806.91736\n",
      "  positive)\n"
     ]
    },
    {
     "name": "stdout",
     "output_type": "stream",
     "text": [
      "Root Mean Squared Error (ElasticNet):  203442.40673916912\n",
      "Root Mean Squared Error (Ridge):  203594.53990046313\n"
     ]
    }
   ],
   "source": [
    "from sklearn.linear_model import LassoCV, RidgeCV, ElasticNet\n",
    "from sklearn.model_selection import cross_val_score\n",
    "\n",
    "\n",
    "#Implementation of LassoCV\n",
    "lasso = LassoCV(alphas=[0.0001, 0.001, 0.01, 0.1, 1, 10, 100])\n",
    "print(\"Root Mean Squared Error (Lasso): \", np.sqrt(-cross_val_score(lasso, X, y, cv=10, scoring='neg_mean_squared_error')).mean())\n",
    "#Implementation of ElasticNet\n",
    "elastic = ElasticNet(alpha=0.001)\n",
    "print(\"Root Mean Squared Error (ElasticNet): \", np.sqrt(-cross_val_score(elastic, X, y, cv=10, scoring='neg_mean_squared_error')).mean())\n",
    "#Implementation of RidgeCV\n",
    "ridge = RidgeCV(alphas=[0.0001, 0.001, 0.01, 0.1, 1, 10, 100])\n",
    "print(\"Root Mean Squared Error (Ridge): \", np.sqrt(-cross_val_score(ridge, X, y, cv=10, scoring='neg_mean_squared_error')).mean())"
   ]
  },
  {
   "cell_type": "markdown",
   "metadata": {},
   "source": [
    "Results from the above cell says that:\n",
    "Root Mean Squared Error (Lasso):  203418.22857312454\n",
    "Root Mean Squared Error (ElasticNet):  203442.40673916912\n",
    "Root Mean Squared Error (Ridge):  203594.53990046313"
   ]
  },
  {
   "cell_type": "markdown",
   "metadata": {},
   "source": [
    "## split data into training vs testing datasets"
   ]
  },
  {
   "cell_type": "code",
   "execution_count": 20,
   "metadata": {},
   "outputs": [
    {
     "name": "stdout",
     "output_type": "stream",
     "text": [
      "17291\n",
      "4322\n"
     ]
    }
   ],
   "source": [
    "# two options for spliting\n",
    "# (1) your own code (2) use sklearn lib.\n",
    "\n",
    "# This is option (1)\n",
    "import numpy as np\n",
    "def split_train_test(data, test_ratio):\n",
    "    shuffled_indices = np.random.permutation(len(data))\n",
    "    test_set_size = int(len(data) * test_ratio)\n",
    "    test_indices = shuffled_indices[:test_set_size]\n",
    "    train_indices = shuffled_indices[test_set_size:]\n",
    "    return data.iloc[train_indices], data.iloc[test_indices]\n",
    "# call the function \n",
    "train_set, test_set = split_train_test(data, 0.2)\n",
    "\n",
    "print(len(train_set))\n",
    "print(len(test_set))"
   ]
  },
  {
   "cell_type": "code",
   "execution_count": 21,
   "metadata": {},
   "outputs": [
    {
     "name": "stdout",
     "output_type": "stream",
     "text": [
      "Requirement already satisfied: sklearn in c:\\users\\lukel\\appdata\\local\\continuum\\anaconda3\\envs\\dataanalyticsanddevelopmenthw1\\lib\\site-packages (0.0)\n",
      "Requirement already satisfied: scikit-learn in c:\\users\\lukel\\appdata\\local\\continuum\\anaconda3\\envs\\dataanalyticsanddevelopmenthw1\\lib\\site-packages (from sklearn) (0.22.1)\n",
      "Requirement already satisfied: joblib>=0.11 in c:\\users\\lukel\\appdata\\local\\continuum\\anaconda3\\envs\\dataanalyticsanddevelopmenthw1\\lib\\site-packages (from scikit-learn->sklearn) (0.14.1)\n",
      "Requirement already satisfied: numpy>=1.11.0 in c:\\users\\lukel\\appdata\\local\\continuum\\anaconda3\\envs\\dataanalyticsanddevelopmenthw1\\lib\\site-packages (from scikit-learn->sklearn) (1.18.1)\n",
      "Requirement already satisfied: scipy>=0.17.0 in c:\\users\\lukel\\appdata\\local\\continuum\\anaconda3\\envs\\dataanalyticsanddevelopmenthw1\\lib\\site-packages (from scikit-learn->sklearn) (1.4.1)\n"
     ]
    }
   ],
   "source": [
    "# install sklearn the first time or if haven't already\n",
    "#sklearn is already installed\n",
    "!pip install sklearn"
   ]
  },
  {
   "cell_type": "code",
   "execution_count": 22,
   "metadata": {},
   "outputs": [],
   "source": [
    "# import the function\n",
    "from sklearn.model_selection import train_test_split\n",
    "\n",
    "train_set, test_set = train_test_split(data, test_size=0.2, random_state=42)"
   ]
  },
  {
   "cell_type": "code",
   "execution_count": 23,
   "metadata": {},
   "outputs": [
    {
     "name": "stdout",
     "output_type": "stream",
     "text": [
      "17290\n",
      "4323\n"
     ]
    }
   ],
   "source": [
    "print(len(train_set))\n",
    "print(len(test_set))"
   ]
  },
  {
   "cell_type": "markdown",
   "metadata": {},
   "source": [
    "## stratified sampling (prefer) vs ramdom sampling\n",
    " - create new col named as income_cat"
   ]
  },
  {
   "cell_type": "code",
   "execution_count": 24,
   "metadata": {},
   "outputs": [],
   "source": [
    "# use several bins for income: here bin # = 5\n",
    "data[\"price_cat\"] = pd.cut(data[\"price\"], bins=[0., 1.5, 3.0, 4.5, 6., np.inf], labels=[1, 2, 3, 4, 5])"
   ]
  },
  {
   "cell_type": "code",
   "execution_count": 25,
   "metadata": {},
   "outputs": [
    {
     "data": {
      "text/plain": [
       "<matplotlib.axes._subplots.AxesSubplot at 0x1f1e9d27808>"
      ]
     },
     "execution_count": 25,
     "metadata": {},
     "output_type": "execute_result"
    },
    {
     "data": {
      "image/png": "[encoded data removed]",
      "text/plain": [
       "<Figure size 432x288 with 1 Axes>"
      ]
     },
     "metadata": {
      "needs_background": "light"
     },
     "output_type": "display_data"
    }
   ],
   "source": [
    "# check distribution\n",
    "data[\"price_cat\"].hist()"
   ]
  },
  {
   "cell_type": "code",
   "execution_count": 26,
   "metadata": {},
   "outputs": [],
   "source": [
    "# split the data again using stratified sampling in order to keep the data samples proportional\n",
    "\n",
    "from sklearn.model_selection import StratifiedShuffleSplit\n",
    "split = StratifiedShuffleSplit(n_splits=1, test_size=0.2, random_state=42)\n",
    "for train_index, test_index in split.split(data, data[\"price_cat\"]):\n",
    "    strat_train_set = data.loc[train_index]\n",
    "    strat_test_set = data.loc[test_index]"
   ]
  },
  {
   "cell_type": "code",
   "execution_count": 27,
   "metadata": {},
   "outputs": [
    {
     "data": {
      "text/plain": [
       "5    1.0\n",
       "4    0.0\n",
       "3    0.0\n",
       "2    0.0\n",
       "1    0.0\n",
       "Name: price_cat, dtype: float64"
      ]
     },
     "execution_count": 27,
     "metadata": {},
     "output_type": "execute_result"
    }
   ],
   "source": [
    "# check the distribution of test data in each bin (group)\n",
    "strat_test_set[\"price_cat\"].value_counts() / len(strat_test_set)"
   ]
  },
  {
   "cell_type": "code",
   "execution_count": 28,
   "metadata": {},
   "outputs": [],
   "source": [
    "# get rid of the category col for data consistence\n",
    "for set_ in (strat_train_set, strat_test_set):\n",
    "    set_.drop(\"price_cat\", axis=1, inplace=True)"
   ]
  },
  {
   "cell_type": "code",
   "execution_count": 29,
   "metadata": {},
   "outputs": [],
   "source": [
    "# take traing set only for ML later\n",
    "data = strat_train_set.copy()"
   ]
  },
  {
   "cell_type": "markdown",
   "metadata": {},
   "source": [
    "## Vizualization"
   ]
  },
  {
   "cell_type": "code",
   "execution_count": 30,
   "metadata": {},
   "outputs": [
    {
     "data": {
      "text/plain": [
       "<matplotlib.axes._subplots.AxesSubplot at 0x1f1e9dc2288>"
      ]
     },
     "execution_count": 30,
     "metadata": {},
     "output_type": "execute_result"
    },
    {
     "data": {
      "image/png": "[encoded data removed]",
      "text/plain": [
       "<Figure size 432x288 with 1 Axes>"
      ]
     },
     "metadata": {
      "needs_background": "light"
     },
     "output_type": "display_data"
    }
   ],
   "source": [
    "# simple scater\n",
    "data.plot(kind=\"scatter\", x=\"long\", y=\"lat\")\n",
    "# Washington"
   ]
  },
  {
   "cell_type": "code",
   "execution_count": 31,
   "metadata": {},
   "outputs": [
    {
     "data": {
      "text/plain": [
       "<matplotlib.axes._subplots.AxesSubplot at 0x1f1e95daa08>"
      ]
     },
     "execution_count": 31,
     "metadata": {},
     "output_type": "execute_result"
    },
    {
     "data": {
      "image/png": "[encoded data removed]",
      "text/plain": [
       "<Figure size 432x288 with 1 Axes>"
      ]
     },
     "metadata": {
      "needs_background": "light"
     },
     "output_type": "display_data"
    }
   ],
   "source": [
    "# transparency: alpha in the (0, 1)\n",
    "data.plot(kind=\"scatter\", x=\"long\", y=\"lat\", alpha=0.2) # transparent: alpha"
   ]
  },
  {
   "cell_type": "code",
   "execution_count": 32,
   "metadata": {},
   "outputs": [
    {
     "data": {
      "text/plain": [
       "<matplotlib.legend.Legend at 0x1f1e884bc08>"
      ]
     },
     "execution_count": 32,
     "metadata": {},
     "output_type": "execute_result"
    },
    {
     "data": {
      "image/png": "[encoded data removed]",
      "text/plain": [
       "<Figure size 720x504 with 2 Axes>"
      ]
     },
     "metadata": {
      "needs_background": "light"
     },
     "output_type": "display_data"
    }
   ],
   "source": [
    "# Next : heatmap-like\n",
    "# The radius of each circle represents the district’s population (option s), \n",
    "# The color represents the price (option c). \n",
    "# We will use a predefined color map (option cmap) called jet, which ranges from blue (low values) to red (high prices)\n",
    "\n",
    "data.plot(kind=\"scatter\", x=\"long\", y=\"lat\", alpha=0.4,\n",
    "s=data[\"bathrooms\"]/100, label=\"bathrooms\", figsize=(10,7),\n",
    "c=\"price\", cmap=plt.get_cmap(\"jet\"), colorbar=True,\n",
    ")\n",
    "plt.legend()"
   ]
  },
  {
   "cell_type": "code",
   "execution_count": 33,
   "metadata": {
    "scrolled": true
   },
   "outputs": [
    {
     "name": "stdout",
     "output_type": "stream",
     "text": [
      "Requirement already satisfied: xgboost in c:\\users\\lukel\\appdata\\local\\continuum\\anaconda3\\envs\\dataanalyticsanddevelopmenthw1\\lib\\site-packages (0.90)\n",
      "Requirement already satisfied: scipy in c:\\users\\lukel\\appdata\\local\\continuum\\anaconda3\\envs\\dataanalyticsanddevelopmenthw1\\lib\\site-packages (from xgboost) (1.4.1)\n",
      "Requirement already satisfied: numpy in c:\\users\\lukel\\appdata\\local\\continuum\\anaconda3\\envs\\dataanalyticsanddevelopmenthw1\\lib\\site-packages (from xgboost) (1.18.1)\n"
     ]
    }
   ],
   "source": [
    "!pip install xgboost"
   ]
  },
  {
   "cell_type": "code",
   "execution_count": 34,
   "metadata": {},
   "outputs": [
    {
     "name": "stdout",
     "output_type": "stream",
     "text": [
      "Root Mean Squared Error (Xgboost):  123218.42198419607\n"
     ]
    },
    {
     "data": {
      "text/plain": [
       "Text(0.5, 1.0, 'xgboost')"
      ]
     },
     "execution_count": 34,
     "metadata": {},
     "output_type": "execute_result"
    },
    {
     "data": {
      "image/png": "[encoded data removed]",
      "text/plain": [
       "<Figure size 432x288 with 1 Axes>"
      ]
     },
     "metadata": {
      "needs_background": "light"
     },
     "output_type": "display_data"
    }
   ],
   "source": [
    "#Implementation of xgboost\n",
    "import xgboost as xgb\n",
    "regr = xgb.XGBRegressor(colsample_bytree=0.2, gamma=0.0, learning_rate=0.01, max_depth=4, min_child_weight=1.5, n_estimators=7200,                                                                 reg_alpha=0.9, reg_lambda=0.6, subsample=0.2, seed=42, silent=1)\n",
    "regr.fit(X_train, y_train)\n",
    "y_pred = regr.predict(X_test)\n",
    "print(\"Root Mean Squared Error (Xgboost): \", np.sqrt(metrics.mean_squared_error(y_test, y_pred)))\n",
    "plt.scatter(y_test, y_pred)\n",
    "plt.xlabel(\"Prices\")\n",
    "plt.ylabel(\"Predicted prices\")\n",
    "plt.title(\"xgboost\")"
   ]
  },
  {
   "cell_type": "code",
   "execution_count": null,
   "metadata": {},
   "outputs": [],
   "source": []
  },
  {
   "cell_type": "code",
   "execution_count": null,
   "metadata": {},
   "outputs": [],
   "source": []
  },
  {
   "cell_type": "markdown",
   "metadata": {},
   "source": [
    "# STEP 1. Preparing the Data for Machine Learning Algorithms"
   ]
  },
  {
   "cell_type": "markdown",
   "metadata": {},
   "source": [
    "### 1.1 Data Cleaning:   missing values\n",
    " **fill out by median**"
   ]
  },
  {
   "cell_type": "code",
   "execution_count": 81,
   "metadata": {},
   "outputs": [],
   "source": [
    "# X for training, drop the dependant variable (y = median_house_value)\n",
    "data = strat_train_set.drop(\"price\", axis=1)\n",
    "data = strat_train_set.drop(\"id\", axis=1)\n",
    "\n",
    "#  the y is considered as label ( y = median_house_value)\n",
    "data_labels = strat_train_set[\"price\"].copy()\n"
   ]
  },
  {
   "cell_type": "code",
   "execution_count": 82,
   "metadata": {},
   "outputs": [],
   "source": [
    "# You can use sklearn tool\n",
    "from sklearn.impute import SimpleImputer\n",
    "imputer = SimpleImputer(strategy=\"median\")"
   ]
  },
  {
   "cell_type": "code",
   "execution_count": 83,
   "metadata": {},
   "outputs": [],
   "source": [
    "# Since the median can only be computed on numerical attributes, \n",
    "# you need to create a copy of the data without the text attribute\n",
    "\n",
    "# numerical data only"
   ]
  },
  {
   "cell_type": "code",
   "execution_count": 84,
   "metadata": {},
   "outputs": [
    {
     "data": {
      "text/plain": [
       "SimpleImputer(add_indicator=False, copy=True, fill_value=None,\n",
       "              missing_values=nan, strategy='median', verbose=0)"
      ]
     },
     "execution_count": 84,
     "metadata": {},
     "output_type": "execute_result"
    }
   ],
   "source": [
    "imputer.fit(data)\n",
    "\n",
    "# now you will have the median values for all "
   ]
  },
  {
   "cell_type": "code",
   "execution_count": 85,
   "metadata": {},
   "outputs": [
    {
     "data": {
      "text/plain": [
       "array([ 4.50000e+05,  3.00000e+00,  2.25000e+00,  1.92000e+03,\n",
       "        7.64200e+03,  0.00000e+00,  0.00000e+00,  3.00000e+00,\n",
       "        7.00000e+00,  1.56000e+03,  0.00000e+00,  1.97400e+03,\n",
       "        0.00000e+00,  4.75716e+01, -1.22230e+02,  1.84000e+03,\n",
       "        7.62250e+03])"
      ]
     },
     "execution_count": 85,
     "metadata": {},
     "output_type": "execute_result"
    }
   ],
   "source": [
    "# use .statistics_ to check them\n",
    "imputer.statistics_"
   ]
  },
  {
   "cell_type": "code",
   "execution_count": 86,
   "metadata": {},
   "outputs": [
    {
     "data": {
      "text/plain": [
       "array([ 4.50000e+05,  3.00000e+00,  2.25000e+00,  1.92000e+03,\n",
       "        7.64200e+03,  0.00000e+00,  0.00000e+00,  3.00000e+00,\n",
       "        7.00000e+00,  1.56000e+03,  0.00000e+00,  1.97400e+03,\n",
       "        0.00000e+00,  4.75716e+01, -1.22230e+02,  1.84000e+03,\n",
       "        7.62250e+03])"
      ]
     },
     "execution_count": 86,
     "metadata": {},
     "output_type": "execute_result"
    }
   ],
   "source": [
    "# verification use datafram function\n",
    "data.median()\n",
    "\n",
    "data.median().values\n",
    "\n"
   ]
  },
  {
   "cell_type": "code",
   "execution_count": 87,
   "metadata": {},
   "outputs": [],
   "source": [
    "#  use this “trained” imputer to transform the training set by replacing missing values with the learned medians:\n",
    "X = imputer.transform(data)\n",
    "\n",
    "# The result is a plain NumPy array containing the transformed features. "
   ]
  },
  {
   "cell_type": "code",
   "execution_count": 88,
   "metadata": {},
   "outputs": [
    {
     "data": {
      "text/html": [
       "<div>\n",
       "<style scoped>\n",
       "    .dataframe tbody tr th:only-of-type {\n",
       "        vertical-align: middle;\n",
       "    }\n",
       "\n",
       "    .dataframe tbody tr th {\n",
       "        vertical-align: top;\n",
       "    }\n",
       "\n",
       "    .dataframe thead th {\n",
       "        text-align: right;\n",
       "    }\n",
       "</style>\n",
       "<table border=\"1\" class=\"dataframe\">\n",
       "  <thead>\n",
       "    <tr style=\"text-align: right;\">\n",
       "      <th></th>\n",
       "      <th>price</th>\n",
       "      <th>bedrooms</th>\n",
       "      <th>bathrooms</th>\n",
       "      <th>sqft_living</th>\n",
       "      <th>sqft_lot</th>\n",
       "      <th>waterfront</th>\n",
       "      <th>view</th>\n",
       "      <th>condition</th>\n",
       "      <th>grade</th>\n",
       "      <th>sqft_above</th>\n",
       "      <th>sqft_basement</th>\n",
       "      <th>yr_built</th>\n",
       "      <th>yr_renovated</th>\n",
       "      <th>lat</th>\n",
       "      <th>long</th>\n",
       "      <th>sqft_living15</th>\n",
       "      <th>sqft_lot15</th>\n",
       "    </tr>\n",
       "  </thead>\n",
       "  <tbody>\n",
       "    <tr>\n",
       "      <th>10711</th>\n",
       "      <td>335000.0</td>\n",
       "      <td>3.0</td>\n",
       "      <td>2.00</td>\n",
       "      <td>1340.0</td>\n",
       "      <td>1951.0</td>\n",
       "      <td>0.0</td>\n",
       "      <td>0.0</td>\n",
       "      <td>3.0</td>\n",
       "      <td>6.0</td>\n",
       "      <td>670.0</td>\n",
       "      <td>670.0</td>\n",
       "      <td>1915.0</td>\n",
       "      <td>0.0</td>\n",
       "      <td>47.5763</td>\n",
       "      <td>-122.309</td>\n",
       "      <td>1520.0</td>\n",
       "      <td>2248.0</td>\n",
       "    </tr>\n",
       "    <tr>\n",
       "      <th>2868</th>\n",
       "      <td>763101.0</td>\n",
       "      <td>3.0</td>\n",
       "      <td>1.75</td>\n",
       "      <td>1990.0</td>\n",
       "      <td>5560.0</td>\n",
       "      <td>0.0</td>\n",
       "      <td>0.0</td>\n",
       "      <td>4.0</td>\n",
       "      <td>7.0</td>\n",
       "      <td>1100.0</td>\n",
       "      <td>890.0</td>\n",
       "      <td>1939.0</td>\n",
       "      <td>0.0</td>\n",
       "      <td>47.6640</td>\n",
       "      <td>-122.287</td>\n",
       "      <td>1460.0</td>\n",
       "      <td>3706.0</td>\n",
       "    </tr>\n",
       "    <tr>\n",
       "      <th>532</th>\n",
       "      <td>970000.0</td>\n",
       "      <td>4.0</td>\n",
       "      <td>3.25</td>\n",
       "      <td>4740.0</td>\n",
       "      <td>76230.0</td>\n",
       "      <td>0.0</td>\n",
       "      <td>0.0</td>\n",
       "      <td>3.0</td>\n",
       "      <td>10.0</td>\n",
       "      <td>4740.0</td>\n",
       "      <td>0.0</td>\n",
       "      <td>1987.0</td>\n",
       "      <td>0.0</td>\n",
       "      <td>47.5931</td>\n",
       "      <td>-122.071</td>\n",
       "      <td>3340.0</td>\n",
       "      <td>49206.0</td>\n",
       "    </tr>\n",
       "    <tr>\n",
       "      <th>18912</th>\n",
       "      <td>1920000.0</td>\n",
       "      <td>4.0</td>\n",
       "      <td>2.50</td>\n",
       "      <td>3070.0</td>\n",
       "      <td>34412.0</td>\n",
       "      <td>0.0</td>\n",
       "      <td>3.0</td>\n",
       "      <td>4.0</td>\n",
       "      <td>9.0</td>\n",
       "      <td>2070.0</td>\n",
       "      <td>1000.0</td>\n",
       "      <td>1950.0</td>\n",
       "      <td>0.0</td>\n",
       "      <td>47.6400</td>\n",
       "      <td>-122.240</td>\n",
       "      <td>3780.0</td>\n",
       "      <td>27940.0</td>\n",
       "    </tr>\n",
       "    <tr>\n",
       "      <th>21379</th>\n",
       "      <td>391000.0</td>\n",
       "      <td>3.0</td>\n",
       "      <td>2.50</td>\n",
       "      <td>1800.0</td>\n",
       "      <td>1120.0</td>\n",
       "      <td>0.0</td>\n",
       "      <td>0.0</td>\n",
       "      <td>3.0</td>\n",
       "      <td>8.0</td>\n",
       "      <td>1800.0</td>\n",
       "      <td>0.0</td>\n",
       "      <td>2011.0</td>\n",
       "      <td>0.0</td>\n",
       "      <td>47.5436</td>\n",
       "      <td>-122.369</td>\n",
       "      <td>1800.0</td>\n",
       "      <td>2380.0</td>\n",
       "    </tr>\n",
       "    <tr>\n",
       "      <th>...</th>\n",
       "      <td>...</td>\n",
       "      <td>...</td>\n",
       "      <td>...</td>\n",
       "      <td>...</td>\n",
       "      <td>...</td>\n",
       "      <td>...</td>\n",
       "      <td>...</td>\n",
       "      <td>...</td>\n",
       "      <td>...</td>\n",
       "      <td>...</td>\n",
       "      <td>...</td>\n",
       "      <td>...</td>\n",
       "      <td>...</td>\n",
       "      <td>...</td>\n",
       "      <td>...</td>\n",
       "      <td>...</td>\n",
       "      <td>...</td>\n",
       "    </tr>\n",
       "    <tr>\n",
       "      <th>15214</th>\n",
       "      <td>175000.0</td>\n",
       "      <td>3.0</td>\n",
       "      <td>1.00</td>\n",
       "      <td>1070.0</td>\n",
       "      <td>6164.0</td>\n",
       "      <td>0.0</td>\n",
       "      <td>0.0</td>\n",
       "      <td>3.0</td>\n",
       "      <td>7.0</td>\n",
       "      <td>1070.0</td>\n",
       "      <td>0.0</td>\n",
       "      <td>1967.0</td>\n",
       "      <td>0.0</td>\n",
       "      <td>47.3377</td>\n",
       "      <td>-122.291</td>\n",
       "      <td>1320.0</td>\n",
       "      <td>7920.0</td>\n",
       "    </tr>\n",
       "    <tr>\n",
       "      <th>1048</th>\n",
       "      <td>515000.0</td>\n",
       "      <td>3.0</td>\n",
       "      <td>2.25</td>\n",
       "      <td>1920.0</td>\n",
       "      <td>11500.0</td>\n",
       "      <td>0.0</td>\n",
       "      <td>0.0</td>\n",
       "      <td>3.0</td>\n",
       "      <td>8.0</td>\n",
       "      <td>1920.0</td>\n",
       "      <td>0.0</td>\n",
       "      <td>1972.0</td>\n",
       "      <td>2000.0</td>\n",
       "      <td>47.5498</td>\n",
       "      <td>-122.188</td>\n",
       "      <td>2260.0</td>\n",
       "      <td>8866.0</td>\n",
       "    </tr>\n",
       "    <tr>\n",
       "      <th>382</th>\n",
       "      <td>389000.0</td>\n",
       "      <td>4.0</td>\n",
       "      <td>2.25</td>\n",
       "      <td>2130.0</td>\n",
       "      <td>5337.0</td>\n",
       "      <td>0.0</td>\n",
       "      <td>0.0</td>\n",
       "      <td>3.0</td>\n",
       "      <td>7.0</td>\n",
       "      <td>2130.0</td>\n",
       "      <td>0.0</td>\n",
       "      <td>2001.0</td>\n",
       "      <td>0.0</td>\n",
       "      <td>47.7237</td>\n",
       "      <td>-121.959</td>\n",
       "      <td>2300.0</td>\n",
       "      <td>6930.0</td>\n",
       "    </tr>\n",
       "    <tr>\n",
       "      <th>1280</th>\n",
       "      <td>445000.0</td>\n",
       "      <td>3.0</td>\n",
       "      <td>2.50</td>\n",
       "      <td>2470.0</td>\n",
       "      <td>4565.0</td>\n",
       "      <td>0.0</td>\n",
       "      <td>0.0</td>\n",
       "      <td>3.0</td>\n",
       "      <td>7.0</td>\n",
       "      <td>2470.0</td>\n",
       "      <td>0.0</td>\n",
       "      <td>2005.0</td>\n",
       "      <td>0.0</td>\n",
       "      <td>47.5140</td>\n",
       "      <td>-122.189</td>\n",
       "      <td>2470.0</td>\n",
       "      <td>5064.0</td>\n",
       "    </tr>\n",
       "    <tr>\n",
       "      <th>12140</th>\n",
       "      <td>450000.0</td>\n",
       "      <td>4.0</td>\n",
       "      <td>1.75</td>\n",
       "      <td>2160.0</td>\n",
       "      <td>4333.0</td>\n",
       "      <td>0.0</td>\n",
       "      <td>0.0</td>\n",
       "      <td>4.0</td>\n",
       "      <td>8.0</td>\n",
       "      <td>1260.0</td>\n",
       "      <td>900.0</td>\n",
       "      <td>1942.0</td>\n",
       "      <td>0.0</td>\n",
       "      <td>47.6893</td>\n",
       "      <td>-122.388</td>\n",
       "      <td>1670.0</td>\n",
       "      <td>4426.0</td>\n",
       "    </tr>\n",
       "  </tbody>\n",
       "</table>\n",
       "<p>17290 rows × 17 columns</p>\n",
       "</div>"
      ],
      "text/plain": [
       "           price  bedrooms  bathrooms  sqft_living  sqft_lot  waterfront  \\\n",
       "10711   335000.0       3.0       2.00       1340.0    1951.0         0.0   \n",
       "2868    763101.0       3.0       1.75       1990.0    5560.0         0.0   \n",
       "532     970000.0       4.0       3.25       4740.0   76230.0         0.0   \n",
       "18912  1920000.0       4.0       2.50       3070.0   34412.0         0.0   \n",
       "21379   391000.0       3.0       2.50       1800.0    1120.0         0.0   \n",
       "...          ...       ...        ...          ...       ...         ...   \n",
       "15214   175000.0       3.0       1.00       1070.0    6164.0         0.0   \n",
       "1048    515000.0       3.0       2.25       1920.0   11500.0         0.0   \n",
       "382     389000.0       4.0       2.25       2130.0    5337.0         0.0   \n",
       "1280    445000.0       3.0       2.50       2470.0    4565.0         0.0   \n",
       "12140   450000.0       4.0       1.75       2160.0    4333.0         0.0   \n",
       "\n",
       "       view  condition  grade  sqft_above  sqft_basement  yr_built  \\\n",
       "10711   0.0        3.0    6.0       670.0          670.0    1915.0   \n",
       "2868    0.0        4.0    7.0      1100.0          890.0    1939.0   \n",
       "532     0.0        3.0   10.0      4740.0            0.0    1987.0   \n",
       "18912   3.0        4.0    9.0      2070.0         1000.0    1950.0   \n",
       "21379   0.0        3.0    8.0      1800.0            0.0    2011.0   \n",
       "...     ...        ...    ...         ...            ...       ...   \n",
       "15214   0.0        3.0    7.0      1070.0            0.0    1967.0   \n",
       "1048    0.0        3.0    8.0      1920.0            0.0    1972.0   \n",
       "382     0.0        3.0    7.0      2130.0            0.0    2001.0   \n",
       "1280    0.0        3.0    7.0      2470.0            0.0    2005.0   \n",
       "12140   0.0        4.0    8.0      1260.0          900.0    1942.0   \n",
       "\n",
       "       yr_renovated      lat     long  sqft_living15  sqft_lot15  \n",
       "10711           0.0  47.5763 -122.309         1520.0      2248.0  \n",
       "2868            0.0  47.6640 -122.287         1460.0      3706.0  \n",
       "532             0.0  47.5931 -122.071         3340.0     49206.0  \n",
       "18912           0.0  47.6400 -122.240         3780.0     27940.0  \n",
       "21379           0.0  47.5436 -122.369         1800.0      2380.0  \n",
       "...             ...      ...      ...            ...         ...  \n",
       "15214           0.0  47.3377 -122.291         1320.0      7920.0  \n",
       "1048         2000.0  47.5498 -122.188         2260.0      8866.0  \n",
       "382             0.0  47.7237 -121.959         2300.0      6930.0  \n",
       "1280            0.0  47.5140 -122.189         2470.0      5064.0  \n",
       "12140           0.0  47.6893 -122.388         1670.0      4426.0  \n",
       "\n",
       "[17290 rows x 17 columns]"
      ]
     },
     "execution_count": 88,
     "metadata": {},
     "output_type": "execute_result"
    }
   ],
   "source": [
    "# Put it back into a pandas DataFrame, it’s simple:\n",
    "housing_tr = pd.DataFrame(X, columns=data.columns,index=data.index)\n",
    "housing_tr"
   ]
  },
  {
   "cell_type": "markdown",
   "metadata": {},
   "source": [
    "### 1.2 Handling Text and Categorical Attributes"
   ]
  },
  {
   "cell_type": "code",
   "execution_count": 89,
   "metadata": {},
   "outputs": [
    {
     "data": {
      "text/plain": [
       "(17290, 17)"
      ]
     },
     "execution_count": 89,
     "metadata": {},
     "output_type": "execute_result"
    }
   ],
   "source": [
    "data.shape # THE LABEL IS IN THIS DATA"
   ]
  },
  {
   "cell_type": "markdown",
   "metadata": {},
   "source": [
    "## 1.3  Feature Selection:"
   ]
  },
  {
   "cell_type": "markdown",
   "metadata": {},
   "source": [
    "# Next Step. Select and Train Model\n",
    " - regression: for continuous values"
   ]
  },
  {
   "cell_type": "markdown",
   "metadata": {},
   "source": [
    "## something is not total consistent with book code:\n",
    "   -  we should do the split by now\n",
    "   \n",
    "   - the reason is that we need to keep the test/train with same scale and features\n",
    "  \n",
    "   - otherwise, we should do the same for the testing data (feature selection and scaling )\n",
    "\n",
    "### for now, forget about the earlier spliting"
   ]
  },
  {
   "cell_type": "markdown",
   "metadata": {},
   "source": [
    "## 2.0 Spliting data into training and testing (80/20)"
   ]
  },
  {
   "cell_type": "code",
   "execution_count": 90,
   "metadata": {
    "scrolled": true
   },
   "outputs": [
    {
     "data": {
      "text/html": [
       "<div>\n",
       "<style scoped>\n",
       "    .dataframe tbody tr th:only-of-type {\n",
       "        vertical-align: middle;\n",
       "    }\n",
       "\n",
       "    .dataframe tbody tr th {\n",
       "        vertical-align: top;\n",
       "    }\n",
       "\n",
       "    .dataframe thead th {\n",
       "        text-align: right;\n",
       "    }\n",
       "</style>\n",
       "<table border=\"1\" class=\"dataframe\">\n",
       "  <thead>\n",
       "    <tr style=\"text-align: right;\">\n",
       "      <th></th>\n",
       "      <th>price</th>\n",
       "      <th>bedrooms</th>\n",
       "      <th>bathrooms</th>\n",
       "      <th>sqft_living</th>\n",
       "      <th>sqft_lot</th>\n",
       "      <th>waterfront</th>\n",
       "      <th>view</th>\n",
       "      <th>condition</th>\n",
       "      <th>grade</th>\n",
       "      <th>sqft_above</th>\n",
       "      <th>sqft_basement</th>\n",
       "      <th>yr_built</th>\n",
       "      <th>yr_renovated</th>\n",
       "      <th>lat</th>\n",
       "      <th>long</th>\n",
       "      <th>sqft_living15</th>\n",
       "      <th>sqft_lot15</th>\n",
       "    </tr>\n",
       "  </thead>\n",
       "  <tbody>\n",
       "    <tr>\n",
       "      <th>10711</th>\n",
       "      <td>335000.0</td>\n",
       "      <td>3</td>\n",
       "      <td>2.00</td>\n",
       "      <td>1340</td>\n",
       "      <td>1951</td>\n",
       "      <td>0</td>\n",
       "      <td>0</td>\n",
       "      <td>3</td>\n",
       "      <td>6</td>\n",
       "      <td>670</td>\n",
       "      <td>670</td>\n",
       "      <td>1915</td>\n",
       "      <td>0</td>\n",
       "      <td>47.5763</td>\n",
       "      <td>-122.309</td>\n",
       "      <td>1520</td>\n",
       "      <td>2248</td>\n",
       "    </tr>\n",
       "    <tr>\n",
       "      <th>2868</th>\n",
       "      <td>763101.0</td>\n",
       "      <td>3</td>\n",
       "      <td>1.75</td>\n",
       "      <td>1990</td>\n",
       "      <td>5560</td>\n",
       "      <td>0</td>\n",
       "      <td>0</td>\n",
       "      <td>4</td>\n",
       "      <td>7</td>\n",
       "      <td>1100</td>\n",
       "      <td>890</td>\n",
       "      <td>1939</td>\n",
       "      <td>0</td>\n",
       "      <td>47.6640</td>\n",
       "      <td>-122.287</td>\n",
       "      <td>1460</td>\n",
       "      <td>3706</td>\n",
       "    </tr>\n",
       "    <tr>\n",
       "      <th>532</th>\n",
       "      <td>970000.0</td>\n",
       "      <td>4</td>\n",
       "      <td>3.25</td>\n",
       "      <td>4740</td>\n",
       "      <td>76230</td>\n",
       "      <td>0</td>\n",
       "      <td>0</td>\n",
       "      <td>3</td>\n",
       "      <td>10</td>\n",
       "      <td>4740</td>\n",
       "      <td>0</td>\n",
       "      <td>1987</td>\n",
       "      <td>0</td>\n",
       "      <td>47.5931</td>\n",
       "      <td>-122.071</td>\n",
       "      <td>3340</td>\n",
       "      <td>49206</td>\n",
       "    </tr>\n",
       "    <tr>\n",
       "      <th>18912</th>\n",
       "      <td>1920000.0</td>\n",
       "      <td>4</td>\n",
       "      <td>2.50</td>\n",
       "      <td>3070</td>\n",
       "      <td>34412</td>\n",
       "      <td>0</td>\n",
       "      <td>3</td>\n",
       "      <td>4</td>\n",
       "      <td>9</td>\n",
       "      <td>2070</td>\n",
       "      <td>1000</td>\n",
       "      <td>1950</td>\n",
       "      <td>0</td>\n",
       "      <td>47.6400</td>\n",
       "      <td>-122.240</td>\n",
       "      <td>3780</td>\n",
       "      <td>27940</td>\n",
       "    </tr>\n",
       "    <tr>\n",
       "      <th>21379</th>\n",
       "      <td>391000.0</td>\n",
       "      <td>3</td>\n",
       "      <td>2.50</td>\n",
       "      <td>1800</td>\n",
       "      <td>1120</td>\n",
       "      <td>0</td>\n",
       "      <td>0</td>\n",
       "      <td>3</td>\n",
       "      <td>8</td>\n",
       "      <td>1800</td>\n",
       "      <td>0</td>\n",
       "      <td>2011</td>\n",
       "      <td>0</td>\n",
       "      <td>47.5436</td>\n",
       "      <td>-122.369</td>\n",
       "      <td>1800</td>\n",
       "      <td>2380</td>\n",
       "    </tr>\n",
       "  </tbody>\n",
       "</table>\n",
       "</div>"
      ],
      "text/plain": [
       "           price  bedrooms  bathrooms  sqft_living  sqft_lot  waterfront  \\\n",
       "10711   335000.0         3       2.00         1340      1951           0   \n",
       "2868    763101.0         3       1.75         1990      5560           0   \n",
       "532     970000.0         4       3.25         4740     76230           0   \n",
       "18912  1920000.0         4       2.50         3070     34412           0   \n",
       "21379   391000.0         3       2.50         1800      1120           0   \n",
       "\n",
       "       view  condition  grade  sqft_above  sqft_basement  yr_built  \\\n",
       "10711     0          3      6         670            670      1915   \n",
       "2868      0          4      7        1100            890      1939   \n",
       "532       0          3     10        4740              0      1987   \n",
       "18912     3          4      9        2070           1000      1950   \n",
       "21379     0          3      8        1800              0      2011   \n",
       "\n",
       "       yr_renovated      lat     long  sqft_living15  sqft_lot15  \n",
       "10711             0  47.5763 -122.309           1520        2248  \n",
       "2868              0  47.6640 -122.287           1460        3706  \n",
       "532               0  47.5931 -122.071           3340       49206  \n",
       "18912             0  47.6400 -122.240           3780       27940  \n",
       "21379             0  47.5436 -122.369           1800        2380  "
      ]
     },
     "execution_count": 90,
     "metadata": {},
     "output_type": "execute_result"
    }
   ],
   "source": [
    "X_prepared = data\n",
    "X_prepared.head()"
   ]
  },
  {
   "cell_type": "code",
   "execution_count": null,
   "metadata": {},
   "outputs": [],
   "source": []
  },
  {
   "cell_type": "code",
   "execution_count": 91,
   "metadata": {},
   "outputs": [
    {
     "name": "stdout",
     "output_type": "stream",
     "text": [
      "(13832, 17) (3458, 17) (13832,) (3458,)\n"
     ]
    }
   ],
   "source": [
    "# take some data from the scaled data for test now\n",
    "from sklearn.model_selection import train_test_split\n",
    "\n",
    "X_train, X_test, y_train, y_test = train_test_split(X_prepared, data_labels, test_size=0.2)\n",
    "print(X_train.shape, X_test.shape, y_train.shape, y_test.shape)"
   ]
  },
  {
   "cell_type": "markdown",
   "metadata": {},
   "source": [
    "## 2.1. For different models:  Training and Evaluating on the Training Set "
   ]
  },
  {
   "cell_type": "markdown",
   "metadata": {},
   "source": [
    "# K-NN Model"
   ]
  },
  {
   "cell_type": "code",
   "execution_count": 108,
   "metadata": {},
   "outputs": [
    {
     "name": "stdout",
     "output_type": "stream",
     "text": [
      "Predictions: [ 998000.  345000.  740000. ... 1085000.  299999.  535000.]\n",
      "Real Price: [999000.0, 346150.0, 740000.0, 325000.0, 355000.0, 430000.0, 320000.0, 369950.0, 402500.0, 765000.0, 700000.0, 790000.0, 380000.0, 492500.0, 675000.0, 978000.0, 689000.0, 950000.0, 450000.0, 580000.0, 165000.0, 685000.0, 305000.0, 342000.0, 550000.0, 725000.0, 320000.0, 1230000.0, 290000.0, 374950.0, 315000.0, 1007500.0, 229000.0, 570000.0, 557500.0, 723000.0, 290000.0, 170000.0, 499950.0, 360000.0, 189000.0, 183000.0, 284950.0, 209950.0, 1247000.0, 260000.0, 625000.0, 362000.0, 430000.0, 200000.0, 1100000.0, 264000.0, 220000.0, 616000.0, 750000.0, 84000.0, 160000.0, 747000.0, 207000.0, 667000.0, 410000.0, 178500.0, 297000.0, 495000.0, 970000.0, 895000.0, 1410000.0, 582000.0, 495000.0, 1839900.0, 330000.0, 260000.0, 115000.0, 535000.0, 459000.0, 312000.0, 319950.0, 245000.0, 1695000.0, 220000.0, 327500.0, 265000.0, 340000.0, 633634.0, 1017100.0, 1130000.0, 460000.0, 321000.0, 480000.0, 312000.0, 365000.0, 170000.0, 522000.0, 253400.0, 310000.0, 308000.0, 713900.0, 360000.0, 952500.0, 360000.0, 2479000.0, 391000.0, 395000.0, 519500.0, 257000.0, 528000.0, 616000.0, 239950.0, 425000.0, 464000.0, 229950.0, 387500.0, 680000.0, 375000.0, 415000.0, 585000.0, 795000.0, 780000.0, 610000.0, 410000.0, 763000.0, 398000.0, 691000.0, 340000.0, 479000.0, 272000.0, 252500.0, 530000.0, 750000.0, 326100.0, 184500.0, 650000.0, 525000.0, 325000.0, 550000.0, 445000.0, 390000.0, 1000000.0, 539000.0, 308000.0, 770000.0, 340000.0, 339950.0, 675000.0, 130000.0, 760000.0, 500000.0, 450000.0, 160000.0, 285000.0, 255000.0, 950000.0, 707000.0, 420000.0, 620000.0, 455000.0, 950968.0, 250000.0, 518000.0, 438000.0, 485000.0, 285000.0, 480000.0, 436000.0, 698000.0, 404000.0, 590000.0, 3850000.0, 575000.0, 851500.0, 388000.0, 488000.0, 741500.0, 325000.0, 479000.0, 450000.0, 355000.0, 569900.0, 418500.0, 592500.0, 500000.0, 490000.0, 825000.0, 340000.0, 290000.0, 317000.0, 345000.0, 380000.0, 257000.0, 311100.0, 499000.0, 336000.0, 254922.0, 1000000.0, 300000.0, 649950.0, 1820000.0, 990000.0, 500000.0, 515000.0, 545000.0, 392137.0, 1348000.0, 395000.0, 298000.0, 383000.0, 433000.0, 295000.0, 430000.0, 371000.0, 820000.0, 699950.0, 234000.0, 580000.0, 344200.0, 183000.0, 442500.0, 827000.0, 240000.0, 216000.0, 299500.0, 604000.0, 3710000.0, 620000.0, 375000.0, 950000.0, 779950.0, 370000.0, 507250.0, 324500.0, 280000.0, 370000.0, 537000.0, 575000.0, 540000.0, 267500.0, 400000.0, 739000.0, 300000.0, 827235.0, 750000.0, 300000.0, 306000.0, 440000.0, 540000.0, 495000.0, 475000.0, 739000.0, 320000.0, 1802750.0, 780000.0, 660000.0, 250000.0, 309000.0, 268000.0, 279000.0, 425000.0, 470000.0, 510000.0, 755000.0, 315000.0, 677000.0, 1000000.0, 1600000.0, 420000.0, 315000.0, 448500.0, 515000.0, 803000.0, 1250000.0, 323000.0, 669000.0, 372000.0, 440000.0, 310000.0, 306888.0, 505000.0, 1237500.0, 490000.0, 265000.0, 498000.0, 153000.0, 330000.0, 415000.0, 365000.0, 565000.0, 630000.0, 1340000.0, 400000.0, 221347.0, 435000.0, 220000.0, 525000.0, 475000.0, 900000.0, 740000.0, 254000.0, 890000.0, 420000.0, 460000.0, 695000.0, 464000.0, 320000.0, 522000.0, 305000.0, 712000.0, 305000.0, 325000.0, 575000.0, 263000.0, 572000.0, 650000.0, 438000.0, 470000.0, 480000.0, 726000.0, 240000.0, 407000.0, 522500.0, 294000.0, 700000.0, 360000.0, 160797.0, 585000.0, 242500.0, 565000.0, 385000.0, 235000.0, 325000.0, 305000.0, 700000.0, 839000.0, 385000.0, 790000.0, 455000.0, 219950.0, 1184000.0, 234500.0, 545000.0, 426000.0, 110000.0, 625000.0, 550000.0, 705000.0, 605000.0, 555000.0, 1400000.0, 403500.0, 429950.0, 672800.0, 375000.0, 300000.0, 318000.0, 1275000.0, 565000.0, 1578000.0, 648000.0, 399950.0, 458500.0, 500000.0, 600000.0, 215000.0, 554600.0, 433000.0, 750000.0, 1085000.0, 330000.0, 680000.0, 438500.0, 650000.0, 310000.0, 775000.0, 495000.0, 870000.0, 609000.0, 485000.0, 259500.0, 807500.0, 440000.0, 580000.0, 252000.0, 450000.0, 165050.0, 435000.0, 515000.0, 209000.0, 499000.0, 625000.0, 587000.0, 540000.0, 600000.0, 982000.0, 349900.0, 989990.0, 415000.0, 589450.0, 526500.0, 535000.0, 650000.0, 515000.0, 208950.0, 818900.0, 535000.0, 562200.0, 754950.0, 830000.0, 300000.0, 205000.0, 440000.0, 355200.0, 299000.0, 490000.0, 765000.0, 300000.0, 400000.0, 632500.0, 349950.0, 290750.0, 165000.0, 334950.0, 810000.0, 435000.0, 475000.0, 200000.0, 653000.0, 199500.0, 380000.0, 583500.0, 600000.0, 499000.0, 339888.0, 499000.0, 283000.0, 699000.0, 1220000.0, 390000.0, 265000.0, 325000.0, 1135250.0, 250000.0, 179950.0, 326500.0, 441500.0, 420000.0, 449950.0, 699000.0, 787000.0, 152500.0, 261500.0, 675000.0, 605000.0, 260000.0, 440000.0, 245000.0, 210000.0, 920000.0, 650000.0, 535000.0, 383000.0, 199000.0, 350000.0, 835000.0, 240415.0, 311000.0, 1600000.0, 405000.0, 250000.0, 314000.0, 279900.0, 420000.0, 300000.0, 960000.0, 688000.0, 383000.0, 1100000.0, 2575000.0, 1525000.0, 327000.0, 260000.0, 1850000.0, 623500.0, 255000.0, 621500.0, 200000.0, 1058800.0, 492000.0, 246000.0, 450000.0, 718000.0, 259950.0, 493000.0, 245000.0, 500000.0, 530000.0, 797000.0, 170000.0, 660000.0, 662500.0, 559000.0, 1062500.0, 425000.0, 476000.0, 730100.0, 680000.0, 950000.0, 267000.0, 485000.0, 624950.0, 525000.0, 450000.0, 180000.0, 535000.0, 549000.0, 1225000.0, 272000.0, 397500.0, 832600.0, 443000.0, 310000.0, 275000.0, 997950.0, 325000.0, 815000.0, 497000.0, 350000.0, 870000.0, 440000.0, 482000.0, 751305.0, 380500.0, 620000.0, 1125000.0, 395000.0, 262500.0, 810000.0, 1640000.0, 816000.0, 607010.0, 362000.0, 294000.0, 539950.0, 640000.0, 630000.0, 622000.0, 605000.0, 497300.0, 632000.0, 686000.0, 395000.0, 545000.0, 489000.0, 337000.0, 317500.0, 1060000.0, 913000.0, 974350.0, 302000.0, 432000.0, 311500.0, 663000.0, 1200000.0, 488000.0, 294000.0, 756100.0, 520000.0, 315500.0, 439990.0, 780000.0, 1200000.0, 175000.0, 634800.0, 499950.0, 450000.0, 240000.0, 525000.0, 286000.0, 825000.0, 379000.0, 212000.0, 285000.0, 320000.0, 499000.0, 255000.0, 185000.0, 1225000.0, 719000.0, 530000.0, 259500.0, 310000.0, 455000.0, 860000.0, 915000.0, 421500.0, 475000.0, 709950.0, 288000.0, 425000.0, 453000.0, 247500.0, 605000.0, 411500.0, 150000.0, 582800.0, 925000.0, 390000.0, 245000.0, 413100.0, 335000.0, 432000.0, 435000.0, 334950.0, 569950.0, 436300.0, 330000.0, 393000.0, 260000.0, 1775000.0, 805000.0, 400000.0, 507950.0, 494950.0, 110000.0, 511100.0, 539000.0, 960000.0, 425996.0, 426000.0, 568000.0, 365000.0, 200000.0, 290000.0, 513000.0, 950000.0, 460000.0, 335000.0, 767250.0, 225000.0, 487028.0, 360000.0, 1300000.0, 263000.0, 722500.0, 675000.0, 155000.0, 367000.0, 1485000.0, 412500.0, 260000.0, 910000.0, 422250.0, 556000.0, 331000.0, 245000.0, 854000.0, 365000.0, 380000.0, 287000.0, 472000.0, 438600.0, 1015000.0, 935100.0, 465000.0, 787500.0, 1150000.0, 510000.0, 572000.0, 419950.0, 2298000.0, 665000.0, 387500.0, 1850000.0, 275000.0, 445000.0, 295000.0, 300000.0, 695000.0, 344950.0, 450000.0, 160000.0, 280500.0, 230000.0, 350000.0, 560000.0, 1045000.0, 353000.0, 545000.0, 760000.0, 498000.0, 555750.0, 1250000.0, 1013050.0, 487600.0, 240000.0, 349500.0, 415000.0, 391500.0, 352900.0, 450000.0, 675000.0, 565000.0, 870000.0, 340000.0, 589000.0, 460000.0, 490000.0, 649000.0, 1544500.0, 1865000.0, 950000.0, 710000.0, 425000.0, 613000.0, 517500.0, 625000.0, 249900.0, 475000.0, 715500.0, 225000.0, 545000.0, 199950.0, 213000.0, 1450000.0, 682000.0, 306000.0, 355000.0, 650000.0, 185000.0, 392000.0, 160000.0, 390000.0, 640000.0, 565000.0, 329900.0, 655000.0, 515000.0, 275000.0, 529000.0, 249900.0, 770000.0, 470000.0, 244950.0, 575000.0, 500000.0, 950000.0, 297000.0, 289950.0, 1384000.0, 785000.0, 245000.0, 230000.0, 865000.0, 455000.0, 760005.0, 249000.0, 910000.0, 240000.0, 285000.0, 361000.0, 1365000.0, 185000.0, 210000.0, 181000.0, 404000.0, 1288000.0, 392000.0, 419000.0, 555000.0, 698000.0, 647000.0, 435000.0, 639000.0, 345000.0, 949880.0, 257700.0, 400000.0, 599000.0, 685000.0, 296500.0, 625000.0, 260000.0, 372977.0, 540000.0, 295950.0, 528000.0, 288000.0, 332000.0, 425000.0, 1000000.0, 340000.0, 250000.0, 235000.0, 1900000.0, 215000.0, 360000.0, 550000.0, 556000.0, 778000.0, 515000.0, 450000.0, 239950.0, 1650000.0, 210000.0, 319950.0, 458000.0, 650000.0, 148900.0, 345000.0, 748000.0, 494900.0, 346500.0, 2193000.0, 230000.0, 593777.0, 780000.0, 172500.0, 3000000.0, 462500.0, 260000.0, 585000.0, 492500.0, 596000.0, 789500.0, 445000.0, 299000.0, 280000.0, 474900.0, 200000.0, 1648000.0, 771150.0, 885000.0, 275000.0, 420000.0, 690000.0, 800000.0, 715000.0, 529500.0, 215000.0, 445000.0, 459950.0, 680000.0, 1680000.0, 410000.0, 710000.0, 397500.0, 330000.0, 612125.0, 238000.0, 920000.0, 410000.0, 749950.0, 986000.0, 1650000.0, 749995.0, 295000.0, 185000.0, 475000.0, 227000.0, 221000.0, 2500000.0, 540000.0, 439000.0, 805000.0, 425000.0, 390000.0, 460000.0, 680000.0, 460000.0, 415000.0, 330000.0, 446000.0, 690000.0, 340000.0, 495000.0, 199000.0, 1014250.0, 375000.0, 323000.0, 218000.0, 176000.0, 945000.0, 248000.0, 245000.0, 475000.0, 459900.0, 300000.0, 610000.0, 539000.0, 374500.0, 335000.0, 750000.0, 314950.0, 575000.0, 936000.0, 292000.0, 653000.0, 589000.0, 595000.0, 276750.0, 324950.0, 998000.0, 365000.0, 826000.0, 717000.0, 282500.0, 795127.0, 595000.0, 433500.0, 366000.0, 442000.0, 530000.0, 785000.0, 465000.0, 289950.0, 410000.0, 365000.0, 685000.0, 335000.0, 314950.0, 235000.0, 995000.0, 700000.0, 475000.0, 635000.0, 462000.0, 323000.0, 630000.0, 785000.0, 650000.0, 215000.0, 475000.0, 800000.0, 158000.0, 340000.0, 550000.0, 364250.0, 459500.0, 431000.0, 520000.0, 336000.0, 737000.0, 604950.0, 280000.0, 210000.0, 291000.0, 570000.0, 795000.0, 470000.0, 415000.0, 322000.0, 375000.0, 568000.0, 450000.0, 689500.0, 410000.0, 809950.0, 515000.0, 160134.0, 360000.0, 1102030.0, 285000.0, 232000.0, 585000.0, 280000.0, 278000.0, 348500.0, 450000.0, 525000.0, 250000.0, 581000.0, 849000.0, 685000.0, 254999.0, 416500.0, 155000.0, 1881580.0, 325000.0, 284700.0, 845000.0, 569950.0, 800000.0, 388000.0, 560000.0, 765000.0, 380000.0, 285000.0, 546200.0, 485000.0, 620000.0, 738515.0, 810000.0, 350500.0, 319000.0, 170000.0, 680000.0, 1174660.0, 724950.0, 660000.0, 380000.0, 1955000.0, 499000.0, 960000.0, 353750.0, 361550.0, 605000.0, 510000.0, 495000.0, 770000.0, 315000.0, 320000.0, 470000.0, 785000.0, 239999.0, 467000.0, 291000.0, 285000.0, 719000.0, 332000.0, 811000.0, 260000.0, 526000.0, 720168.0, 145000.0, 330000.0, 630000.0, 599950.0, 375000.0, 453000.0, 350000.0, 265000.0, 530000.0, 525000.0, 605000.0, 3345000.0, 675000.0, 390000.0, 316000.0, 1530000.0, 585000.0, 499900.0, 589000.0, 600000.0, 115000.0, 327000.0, 280300.0, 520000.0, 396000.0, 347000.0, 492650.0, 699900.0, 810000.0, 261000.0, 651500.0, 226000.0, 630000.0, 280400.0, 330000.0, 952000.0, 960000.0, 349000.0, 568000.0, 688000.0, 613500.0, 529950.0, 450000.0, 203000.0, 335000.0, 742000.0, 825000.0, 2250000.0, 1600000.0, 926300.0, 565000.0, 319000.0, 267000.0, 199950.0, 274000.0, 320000.0, 564000.0, 288000.0, 510000.0, 247200.0, 390000.0, 575000.0, 282000.0, 7700000.0, 285000.0, 545000.0, 390000.0, 503000.0, 424950.0, 270000.0, 350000.0, 570000.0, 635000.0, 590000.0, 566000.0, 107000.0, 295000.0, 510000.0, 325000.0, 465000.0, 459950.0, 640000.0, 469500.0, 536500.0, 217000.0, 554820.0, 110000.0, 280000.0, 474950.0, 622500.0, 690000.0, 190000.0, 665000.0, 370000.0, 796000.0, 191000.0, 360000.0, 330000.0, 665000.0, 487500.0, 750000.0, 715000.0, 333000.0, 370000.0, 672500.0, 320600.0, 325000.0, 780000.0, 770000.0, 900000.0, 235000.0, 340000.0, 555000.0, 316000.0, 600000.0, 295000.0, 888000.0, 182000.0, 277000.0, 536000.0, 151100.0, 265000.0, 319900.0, 1330000.0, 657000.0, 459800.0, 326000.0, 805000.0, 604000.0, 474000.0, 500000.0, 806000.0, 263000.0, 572000.0, 425000.0, 335000.0, 550000.0, 225000.0, 379950.0, 530000.0, 380000.0, 915000.0, 625000.0, 664000.0, 570000.0, 2575000.0, 185000.0, 643000.0, 617450.0, 280000.0, 352500.0, 805000.0, 595000.0, 499000.0, 440000.0, 189950.0, 605000.0, 581000.0, 303000.0, 570000.0, 725000.0, 585000.0, 652100.0, 330000.0, 340000.0, 565000.0, 672000.0, 635000.0, 331500.0, 475000.0, 198000.0, 749400.0, 195000.0, 341000.0, 280005.0, 659000.0, 346000.0, 235000.0, 430000.0, 212000.0, 290000.0, 560000.0, 930000.0, 347000.0, 285000.0, 740000.0, 280000.0, 570000.0, 180000.0, 365000.0, 689888.0, 475000.0, 270000.0, 360000.0, 712000.0, 287000.0, 736000.0, 365000.0, 295000.0, 625000.0, 808000.0, 609950.0, 367000.0, 207000.0, 257500.0, 436000.0, 338000.0, 325000.0, 875000.0, 883000.0, 250000.0, 210000.0, 968933.0, 550000.0, 820000.0, 553000.0, 815000.0, 219950.0, 620000.0, 602000.0, 352000.0, 172040.0, 780000.0, 225500.0, 240000.0, 548000.0, 335000.0, 561000.0, 475000.0, 535000.0, 1011000.0, 653000.0, 495000.0, 429000.0, 349950.0, 860000.0, 1258000.0, 169000.0, 288400.0, 315000.0, 415000.0, 539000.0, 449999.0, 375000.0, 500000.0, 425000.0, 423000.0, 526000.0, 461550.0, 329000.0, 467000.0, 895000.0, 525888.0, 205000.0, 339999.0, 305000.0, 729999.0, 931088.0, 792000.0, 385000.0, 500000.0, 247000.0, 1065000.0, 372000.0, 315000.0, 520000.0, 458950.0, 365000.0, 215500.0, 240000.0, 2546000.0, 319000.0, 1020000.0, 580000.0, 779950.0, 364950.0, 645000.0, 667500.0, 241000.0, 450000.0, 381156.0, 330000.0, 470000.0, 1851000.0, 267500.0, 550000.0, 424000.0, 225000.0, 474000.0, 1399950.0, 698000.0, 366000.0, 299000.0, 421500.0, 328500.0, 215000.0, 750000.0, 365000.0, 379770.0, 696500.0, 1349000.0, 350000.0, 280000.0, 348000.0, 615500.0, 464600.0, 509900.0, 570000.0, 545400.0, 785000.0, 346290.0, 849950.0, 260000.0, 310000.0, 250000.0, 234000.0, 547000.0, 266000.0, 446500.0, 610000.0, 292000.0, 279000.0, 151000.0, 206000.0, 315000.0, 2700000.0, 367000.0, 925000.0, 315450.0, 375000.0, 245000.0, 292000.0, 419950.0, 755000.0, 257500.0, 995000.0, 686000.0, 275000.0, 262500.0, 190000.0, 125000.0, 331000.0, 598992.0, 300000.0, 450000.0, 230000.0, 393000.0, 740000.0, 289950.0, 740000.0, 1880000.0, 936000.0, 440000.0, 1080000.0, 560000.0, 253779.0, 504750.0, 670000.0, 589500.0, 260600.0, 399000.0, 124000.0, 475000.0, 525000.0, 368000.0, 860000.0, 635000.0, 1675000.0, 590000.0, 332500.0, 1650000.0, 275000.0, 1135000.0, 1375000.0, 4208000.0, 317000.0, 1600000.0, 569500.0, 550000.0, 550000.0, 530000.0, 213675.0, 654000.0, 688500.0, 503000.0, 342400.0, 353000.0, 355000.0, 477000.0, 299000.0, 421200.0, 543200.0, 800000.0, 675000.0, 762300.0, 537000.0, 261000.0, 255000.0, 390000.0, 305000.0, 387500.0, 333500.0, 325000.0, 593500.0, 484259.0, 619990.0, 425000.0, 450000.0, 225000.0, 610000.0, 250000.0, 683500.0, 600000.0, 353000.0, 302000.0, 825050.0, 567500.0, 395000.0, 785000.0, 321000.0, 525000.0, 1050000.0, 350000.0, 245000.0, 437500.0, 299000.0, 1100000.0, 221000.0, 425000.0, 535000.0, 410500.0, 485000.0, 1085000.0, 500000.0, 489200.0, 799900.0, 625000.0, 195000.0, 517500.0, 375000.0, 639900.0, 380000.0, 298000.0, 238000.0, 2450000.0, 269950.0, 845000.0, 382880.0, 260000.0, 418000.0, 240000.0, 825000.0, 350000.0, 299950.0, 975000.0, 2250000.0, 3600000.0, 219000.0, 302100.0, 399950.0, 600000.0, 350000.0, 445500.0, 635000.0, 405000.0, 268000.0, 2650000.0, 443000.0, 1688000.0, 253200.0, 395000.0, 507500.0, 387500.0, 730000.0, 585000.0, 1130000.0, 520000.0, 339500.0, 320000.0, 259875.0, 352000.0, 695000.0, 332000.0, 475000.0, 470000.0, 375900.0, 1698890.0, 843500.0, 500000.0, 475000.0, 430000.0, 512031.0, 478500.0, 1145000.0, 705000.0, 433190.0, 485000.0, 288000.0, 515000.0, 900000.0, 625000.0, 415000.0, 348000.0, 429000.0, 310000.0, 400000.0, 428750.0, 590000.0, 302000.0, 520000.0, 254000.0, 289950.0, 899000.0, 289950.0, 648000.0, 277554.0, 278000.0, 975000.0, 783000.0, 274800.0, 845000.0, 293000.0, 357250.0, 390000.0, 731000.0, 885000.0, 342450.0, 320000.0, 475000.0, 425000.0, 760500.0, 419000.0, 1680000.0, 475000.0, 1468000.0, 257200.0, 430000.0, 527950.0, 279950.0, 234000.0, 452000.0, 970000.0, 287000.0, 372000.0, 923990.0, 400000.0, 328950.0, 200000.0, 740000.0, 775000.0, 347500.0, 275000.0, 395000.0, 380950.0, 800000.0, 367500.0, 800000.0, 1072000.0, 355000.0, 1475000.0, 445000.0, 560000.0, 780000.0, 570000.0, 447000.0, 360000.0, 427000.0, 246600.0, 1049000.0, 330000.0, 540000.0, 349000.0, 1200000.0, 185000.0, 380000.0, 660000.0, 159995.0, 435000.0, 640000.0, 539950.0, 2795000.0, 261000.0, 390500.0, 535000.0, 750000.0, 452000.0, 2196000.0, 548800.0, 325000.0, 415000.0, 384205.0, 456000.0, 269000.0, 325000.0, 295000.0, 730000.0, 330000.0, 650000.0, 450000.0, 215000.0, 451000.0, 622500.0, 1950000.0, 857000.0, 335606.0, 284000.0, 746000.0, 1255000.0, 830000.0, 370000.0, 438000.0, 122000.0, 575000.0, 253500.0, 265000.0, 1824100.0, 195000.0, 480000.0, 165000.0, 179900.0, 485000.0, 250000.0, 319900.0, 491300.0, 880000.0, 834800.0, 560000.0, 396500.0, 736000.0, 159000.0, 210000.0, 535000.0, 523950.0, 315000.0, 276000.0, 2500000.0, 310000.0, 515000.0, 475000.0, 546940.0, 930000.0, 750000.0, 650000.0, 1550000.0, 373000.0, 435000.0, 430000.0, 420000.0, 315000.0, 580000.0, 267000.0, 310000.0, 415000.0, 1220000.0, 300000.0, 734200.0, 530000.0, 785000.0, 410000.0, 299900.0, 310000.0, 615000.0, 272450.0, 564450.0, 240000.0, 521000.0, 385000.0, 525000.0, 280927.0, 315000.0, 500000.0, 251750.0, 635200.0, 375000.0, 875000.0, 1168000.0, 645500.0, 359900.0, 1164000.0, 307500.0, 746000.0, 1028000.0, 425000.0, 879950.0, 625000.0, 552000.0, 400000.0, 1060000.0, 407500.0, 355000.0, 657500.0, 440000.0, 517950.0, 475000.0, 310000.0, 580000.0, 815000.0, 219950.0, 370000.0, 430000.0, 330000.0, 815000.0, 1900000.0, 483000.0, 489000.0, 607000.0, 487000.0, 215000.0, 320000.0, 255000.0, 975000.0, 352500.0, 470000.0, 390000.0, 745000.0, 459000.0, 420000.0, 587000.0, 545000.0, 405500.0, 524950.0, 720000.0, 818500.0, 398750.0, 921800.0, 600000.0, 530000.0, 516000.0, 304999.0, 427500.0, 614905.0, 233000.0, 389950.0, 246000.0, 179900.0, 408000.0, 808000.0, 253500.0, 264900.0, 519500.0, 543000.0, 362500.0, 250000.0, 264950.0, 595000.0, 635000.0, 397000.0, 1800000.0, 650000.0, 199950.0, 1400000.0, 991500.0, 1300000.0, 555000.0, 326250.0, 535000.0, 725995.0, 650000.0, 358000.0, 382000.0, 775000.0, 423500.0, 950000.0, 463000.0, 891500.0, 198400.0, 750000.0, 306000.0, 895000.0, 395000.0, 480000.0, 265000.0, 355000.0, 535000.0, 770000.0, 985000.0, 720000.0, 247000.0, 446000.0, 385000.0, 445000.0, 298450.0, 350000.0, 270000.0, 361500.0, 895000.0, 280000.0, 279900.0, 397990.0, 230000.0, 566950.0, 740000.0, 370000.0, 490000.0, 580000.0, 530000.0, 252000.0, 242025.0, 330000.0, 610000.0, 246950.0, 340000.0, 690000.0, 1365000.0, 385000.0, 219500.0, 384435.0, 790000.0, 537000.0, 1620000.0, 245000.0, 485500.0, 515000.0, 245000.0, 505000.0, 221900.0, 510000.0, 80000.0, 675000.0, 315000.0, 336500.0, 305000.0, 757500.0, 510000.0, 299000.0, 428040.0, 270000.0, 189900.0, 580000.0, 299000.0, 893880.0, 860000.0, 430000.0, 382000.0, 225000.0, 2885000.0, 750000.0, 510000.0, 1475000.0, 175000.0, 508450.0, 448500.0, 288000.0, 295000.0, 380000.0, 219950.0, 427500.0, 655000.0, 299990.0, 325000.0, 650000.0, 301500.0, 885000.0, 840000.0, 369300.0, 396000.0, 223000.0, 639950.0, 577288.0, 270000.0, 1080000.0, 390000.0, 185900.0, 555000.0, 935000.0, 702000.0, 243000.0, 625000.0, 482000.0, 237500.0, 1010000.0, 799000.0, 245500.0, 542300.0, 469500.0, 246500.0, 900000.0, 339900.0, 261000.0, 515000.0, 745000.0, 516000.0, 655000.0, 750000.0, 654950.0, 229500.0, 225000.0, 555000.0, 1050000.0, 317500.0, 371000.0, 390000.0, 380000.0, 442500.0, 205000.0, 482000.0, 310000.0, 634950.0, 188200.0, 282000.0, 350000.0, 560000.0, 700000.0, 1240000.0, 300000.0, 524225.0, 373000.0, 375000.0, 350000.0, 580000.0, 500000.0, 285000.0, 850000.0, 495200.0, 1385000.0, 397900.0, 298800.0, 707000.0, 550000.0, 850000.0, 445000.0, 651000.0, 822500.0, 1365000.0, 370000.0, 413000.0, 470500.0, 700000.0, 375000.0, 382000.0, 310000.0, 352000.0, 649950.0, 410988.0, 225000.0, 855000.0, 600000.0, 485000.0, 516500.0, 649950.0, 399950.0, 324000.0, 550285.0, 592500.0, 262500.0, 500000.0, 199990.0, 419190.0, 333490.0, 218000.0, 533000.0, 1100000.0, 401000.0, 315000.0, 205000.0, 379900.0, 1033890.0, 529000.0, 472800.0, 209900.0, 356999.0, 850000.0, 515000.0, 340000.0, 629950.0, 725000.0, 355000.0, 1650000.0, 429900.0, 650000.0, 475000.0, 725000.0, 658100.0, 299995.0, 905000.0, 450000.0, 670000.0, 600000.0, 590000.0, 540000.0, 312500.0, 431000.0, 320000.0, 620000.0, 440000.0, 620000.0, 340000.0, 523000.0, 262500.0, 933000.0, 659500.0, 482975.0, 1285000.0, 570000.0, 580000.0, 660000.0, 367400.0, 170000.0, 550000.0, 910000.0, 740000.0, 1150000.0, 630000.0, 845000.0, 263500.0, 250000.0, 229000.0, 375000.0, 875000.0, 289950.0, 400000.0, 405600.0, 660000.0, 310000.0, 300000.0, 290000.0, 419000.0, 174950.0, 685000.0, 304000.0, 1100000.0, 260000.0, 480000.0, 420000.0, 249000.0, 240000.0, 429000.0, 250000.0, 531000.0, 620000.0, 570000.0, 579000.0, 499950.0, 415000.0, 585000.0, 268000.0, 905000.0, 445000.0, 245700.0, 225000.0, 660000.0, 1387000.0, 640000.0, 340500.0, 850000.0, 795000.0, 405000.0, 447055.0, 1150000.0, 245000.0, 235000.0, 364808.0, 490000.0, 290000.0, 495000.0, 775000.0, 344000.0, 450000.0, 369000.0, 350000.0, 562500.0, 375000.0, 266000.0, 599000.0, 560000.0, 506000.0, 478000.0, 975000.0, 498000.0, 527500.0, 210500.0, 305000.0, 813500.0, 798000.0, 369000.0, 645000.0, 1264000.0, 319950.0, 390000.0, 886000.0, 265000.0, 729953.0, 329950.0, 240000.0, 118125.0, 525000.0, 721000.0, 449000.0, 250000.0, 420000.0, 437500.0, 650000.0, 856500.0, 440000.0, 605000.0, 245000.0, 160000.0, 490000.0, 375000.0, 675000.0, 733500.0, 710000.0, 370000.0, 385000.0, 278000.0, 710000.0, 460000.0, 275000.0, 1500000.0, 374900.0, 180000.0, 905000.0, 380000.0, 419700.0, 1698000.0, 440000.0, 1075000.0, 346950.0, 209950.0, 457000.0, 405000.0, 125000.0, 508800.0, 800500.0, 405000.0, 554950.0, 286000.0, 685000.0, 483000.0, 1160000.0, 1160000.0, 954500.0, 645000.0, 469000.0, 450000.0, 450000.0, 999000.0, 339000.0, 575000.0, 430000.0, 445000.0, 333000.0, 349990.0, 275000.0, 790000.0, 390000.0, 669000.0, 210000.0, 555000.0, 558000.0, 310000.0, 795000.0, 301350.0, 250000.0, 390000.0, 630000.0, 613000.0, 235000.0, 285000.0, 4500000.0, 560000.0, 319000.0, 385000.0, 465000.0, 655000.0, 266000.0, 499000.0, 911100.0, 339950.0, 465000.0, 677000.0, 950000.0, 1250000.0, 267000.0, 500000.0, 440000.0, 375900.0, 650000.0, 660000.0, 809000.0, 917500.0, 333000.0, 350000.0, 570000.0, 643500.0, 526500.0, 1100000.0, 535500.0, 446950.0, 580000.0, 410000.0, 1925000.0, 400000.0, 305000.0, 430000.0, 640000.0, 400000.0, 376500.0, 615000.0, 195000.0, 200000.0, 880000.0, 206990.0, 140000.0, 322500.0, 250000.0, 951000.0, 695000.0, 375000.0, 610000.0, 640000.0, 235500.0, 716000.0, 240000.0, 270000.0, 372500.0, 565000.0, 222200.0, 760000.0, 130000.0, 287000.0, 705000.0, 439000.0, 930000.0, 2574000.0, 335000.0, 406000.0, 490000.0, 525000.0, 440000.0, 561000.0, 200000.0, 534950.0, 315500.0, 350000.0, 565000.0, 665000.0, 362500.0, 272000.0, 471000.0, 330000.0, 357000.0, 994000.0, 474000.0, 219950.0, 402395.0, 775000.0, 960000.0, 1065000.0, 499000.0, 248000.0, 435000.0, 432100.0, 484950.0, 768000.0, 315000.0, 387000.0, 1900000.0, 279950.0, 324900.0, 858450.0, 480000.0, 905000.0, 415000.0, 455000.0, 1245000.0, 460000.0, 712000.0, 605125.0, 252500.0, 218000.0, 403000.0, 579000.0, 308000.0, 479950.0, 284900.0, 360000.0, 653000.0, 550000.0, 310000.0, 232900.0, 373000.0, 350500.0, 715000.0, 340000.0, 395000.0, 700000.0, 525000.0, 450000.0, 135000.0, 215000.0, 513000.0, 319900.0, 619420.0, 474000.0, 690000.0, 280000.0, 595000.0, 355000.0, 740000.0, 330000.0, 359950.0, 465000.0, 315000.0, 258000.0, 549950.0, 950000.0, 469000.0, 460000.0, 385000.0, 292500.0, 468000.0, 390000.0, 835000.0, 690000.0, 215000.0, 450000.0, 795000.0, 595000.0, 280000.0, 352500.0, 450000.0, 297500.0, 399000.0, 290000.0, 235000.0, 543000.0, 545000.0, 883000.0, 670000.0, 650000.0, 292000.0, 225000.0, 676000.0, 435000.0, 336750.0, 380000.0, 499950.0, 733000.0, 365000.0, 780000.0, 320000.0, 521450.0, 527000.0, 305000.0, 517000.0, 752000.0, 602000.0, 700000.0, 560000.0, 500000.0, 542000.0, 450000.0, 765000.0, 609000.0, 443000.0, 207000.0, 450000.0, 420000.0, 838400.0, 1250000.0, 600000.0, 700000.0, 777000.0, 1250000.0, 555000.0, 650000.0, 306500.0, 420000.0, 340500.0, 474000.0, 400000.0, 315000.0, 425000.0, 199000.0, 238000.0, 715000.0, 437500.0, 529219.0, 515000.0, 285000.0, 2195000.0, 370000.0, 343000.0, 382000.0, 539000.0, 454000.0, 255000.0, 400000.0, 551000.0, 482000.0, 549950.0, 505000.0, 479000.0, 452000.0, 264500.0, 290000.0, 530000.0, 579950.0, 175003.0, 255500.0, 367999.0, 475000.0, 334200.0, 1000000.0, 580000.0, 502700.0, 300000.0, 1375000.0, 915000.0, 344000.0, 710000.0, 420000.0, 279900.0, 255000.0, 499000.0, 525000.0, 651000.0, 299500.0, 435000.0, 279000.0, 391000.0, 1160000.0, 1755000.0, 545000.0, 1150000.0, 445000.0, 425000.0, 674725.0, 1000000.0, 320000.0, 210000.0, 344900.0, 305000.0, 216180.0, 357000.0, 374950.0, 725000.0, 672500.0, 420000.0, 475000.0, 306000.0, 309000.0, 207000.0, 371000.0, 1715000.0, 1355000.0, 994900.0, 825000.0, 425000.0, 355000.0, 550000.0, 813000.0, 500000.0, 335500.0, 495000.0, 315000.0, 408000.0, 235000.0, 402500.0, 637000.0, 316000.0, 331000.0, 390000.0, 442200.0, 932800.0, 668000.0, 217450.0, 293000.0, 329000.0, 833000.0, 998000.0, 250000.0, 475000.0, 588000.0, 745000.0, 534000.0, 725000.0, 405000.0, 320000.0, 179900.0, 665000.0, 290000.0, 280000.0, 1050000.0, 840000.0, 685000.0, 530000.0, 309000.0, 383610.0, 433000.0, 410000.0, 474950.0, 230000.0, 234000.0, 784000.0, 850000.0, 680000.0, 1545000.0, 212000.0, 700000.0, 635000.0, 372000.0, 445000.0, 728000.0, 375000.0, 465000.0, 200500.0, 729000.0, 262500.0, 385000.0, 805000.0, 546800.0, 268500.0, 950000.0, 395350.0, 1052000.0, 525000.0, 440000.0, 765000.0, 480000.0, 495000.0, 380000.0, 572000.0, 533250.0, 505000.0, 592000.0, 168500.0, 417000.0, 285000.0, 380000.0, 187500.0, 525000.0, 358000.0, 335000.0, 595000.0, 500000.0, 600000.0, 819900.0, 320000.0, 925000.0, 520000.0, 580000.0, 665000.0, 895000.0, 368500.0, 495000.0, 480000.0, 252000.0, 275000.0, 267000.0, 331500.0, 364950.0, 887000.0, 439888.0, 252700.0, 240000.0, 494000.0, 472000.0, 410500.0, 428950.0, 512500.0, 668750.0, 565000.0, 259000.0, 410000.0, 467000.0, 1462500.0, 562000.0, 2400000.0, 226000.0, 530000.0, 258000.0, 815000.0, 430000.0, 265000.0, 1215000.0, 732000.0, 1610000.0, 535000.0, 563000.0, 333760.0, 424950.0, 610685.0, 320000.0, 1115000.0, 555500.0, 753000.0, 420000.0, 270000.0, 580000.0, 280000.0, 603000.0, 1150000.0, 415000.0, 425000.0, 930000.0, 335000.0, 399000.0, 949950.0, 405000.0, 389000.0, 689000.0, 300000.0, 225000.0, 450000.0, 271000.0, 325000.0, 2150000.0, 485000.0, 790000.0, 269950.0, 464900.0, 475200.0, 890000.0, 652427.0, 580000.0, 307150.0, 475000.0, 380000.0, 615000.0, 583000.0, 255000.0, 420000.0, 286651.0, 172000.0, 579000.0, 665000.0, 292000.0, 572500.0, 425000.0, 1010000.0, 268000.0, 379950.0, 400000.0, 650000.0, 355000.0, 339000.0, 265000.0, 446800.0, 840000.0, 196000.0, 252000.0, 447000.0, 458000.0, 350000.0, 649990.0, 389000.0, 320000.0, 292000.0, 225000.0, 724950.0, 595500.0, 425000.0, 454450.0, 414950.0, 335000.0, 680000.0, 835000.0, 970000.0, 1034500.0, 430000.0, 380000.0, 527000.0, 633000.0, 680000.0, 467000.0, 503045.0, 288790.0, 695000.0, 495000.0, 375500.0, 429900.0, 368500.0, 318200.0, 517000.0, 255000.0, 765000.0, 260000.0, 720000.0, 810000.0, 750000.0, 971000.0, 829900.0, 314000.0, 441000.0, 1050000.0, 500000.0, 284000.0, 480000.0, 304500.0, 590000.0, 407000.0, 750000.0, 299000.0, 315000.0, 379880.0, 427000.0, 270000.0, 395000.0, 630000.0, 230000.0, 169575.0, 262000.0, 325000.0, 765000.0, 650000.0, 1160000.0, 287000.0, 430000.0, 445000.0, 225000.0, 485000.0, 365000.0, 345000.0, 370000.0, 251000.0, 940000.0, 470500.0, 1031000.0, 280000.0, 870000.0, 532170.0, 310000.0, 200500.0, 469000.0, 368500.0, 1149000.0, 196000.0, 570000.0, 385000.0, 350000.0, 190000.0, 329000.0, 354000.0, 545000.0, 465000.0, 774888.0, 1187500.0, 415000.0, 375000.0, 765000.0, 542126.0, 1510000.0, 662700.0, 790100.0, 480000.0, 386900.0, 424000.0, 396500.0, 335000.0, 370000.0, 358000.0, 820000.0, 703300.0, 1040890.0, 476500.0, 419000.0, 550000.0, 315000.0, 1075000.0, 349000.0, 477000.0, 400000.0, 380000.0, 440000.0, 549950.0, 370000.0, 305240.0, 717500.0, 445000.0, 515000.0, 445000.0, 274000.0, 199000.0, 1635000.0, 1285000.0, 415000.0, 345000.0, 445838.0, 1300000.0, 895000.0, 309000.0, 538000.0, 795000.0, 380000.0, 425000.0, 332000.0, 383000.0, 204000.0, 172500.0, 435000.0, 405000.0, 899000.0, 1720000.0, 534950.0, 325000.0, 480000.0, 490000.0, 950000.0, 239300.0, 447500.0, 333000.0, 276000.0, 1095000.0, 302500.0, 254600.0, 280000.0, 805000.0, 402000.0, 985000.0, 2750000.0, 216650.0, 785000.0, 520000.0, 199950.0, 237500.0, 750000.0, 468000.0, 350000.0, 270000.0, 297000.0, 475000.0, 320000.0, 400000.0, 489000.0, 750000.0, 463000.0, 511718.0, 287000.0, 2630000.0, 212000.0, 392400.0, 845000.0, 225000.0, 645000.0, 1800000.0, 425000.0, 2250000.0, 206135.0, 539000.0, 608000.0, 1155000.0, 439000.0, 415000.0, 530000.0, 690000.0, 247000.0, 249950.0, 394000.0, 430000.0, 427000.0, 275000.0, 300000.0, 427500.0, 356200.0, 640000.0, 537000.0, 428000.0, 430000.0, 452000.0, 399500.0, 855000.0, 227000.0, 260000.0, 500000.0, 325000.0, 405000.0, 642000.0, 290000.0, 420000.0, 369900.0, 530000.0, 430000.0, 260000.0, 2000000.0, 220000.0, 265000.0, 185000.0, 561500.0, 345000.0, 450000.0, 998000.0, 1328000.0, 1250000.0, 400000.0, 506000.0, 529000.0, 650000.0, 322000.0, 330000.0, 330000.0, 394950.0, 934000.0, 372000.0, 202000.0, 390000.0, 1088000.0, 950000.0, 327500.0, 295000.0, 635000.0, 300000.0, 394950.0, 625000.0, 463800.0, 547500.0, 440000.0, 225000.0, 1015000.0, 190000.0, 644500.0, 889950.0, 2225000.0, 479000.0, 285000.0, 550000.0, 300500.0, 760000.0, 510000.0, 375000.0, 319450.0, 770000.0, 630500.0, 294000.0, 199000.0, 497000.0, 505000.0, 374000.0, 539000.0, 379900.0, 450000.0, 720000.0, 382000.0, 359782.0, 840000.0, 281500.0, 300000.0, 465000.0, 354000.0, 1275000.0, 1125000.0, 627000.0, 277500.0, 810000.0, 254950.0, 790000.0, 265000.0, 469000.0, 683000.0, 249000.0, 435000.0, 480000.0, 400000.0, 550000.0, 540000.0, 355000.0, 236000.0, 257000.0, 659000.0, 210000.0, 548000.0, 255000.0, 545000.0, 752875.0, 718000.0, 616300.0, 453246.0, 490000.0, 600000.0, 1345000.0, 499950.0, 319950.0, 1200000.0, 425000.0, 235000.0, 491000.0, 1050000.0, 649000.0, 1140000.0, 452500.0, 485000.0, 615000.0, 387000.0, 227000.0, 284000.0, 360000.0, 354000.0, 559950.0, 995000.0, 329000.0, 425000.0, 513000.0, 295500.0, 700000.0, 397500.0, 333700.0, 273000.0, 675000.0, 128000.0, 365500.0, 608000.0, 500000.0, 784950.0, 383000.0, 358000.0, 259000.0, 689900.0, 515000.0, 518000.0, 549000.0, 402000.0, 735000.0, 350000.0, 600000.0, 330000.0, 450000.0, 415000.0, 645000.0, 269000.0, 270000.0, 265000.0, 1295000.0, 635000.0, 858450.0, 185000.0, 351000.0, 345000.0, 782000.0, 350000.0, 345000.0, 475000.0, 510000.0, 895000.0, 3000000.0, 470000.0, 530000.0, 675000.0, 270000.0, 319000.0, 594000.0, 975000.0, 221700.0, 423700.0, 555000.0, 270000.0, 369000.0, 715000.0, 706000.0, 390000.0, 772650.0, 334009.0, 265000.0, 279900.0, 505000.0, 579000.0, 615000.0, 325000.0, 570000.0, 265000.0, 730000.0, 665000.0, 289000.0, 580000.0, 360000.0, 330000.0, 618000.0, 417000.0, 572000.0, 425000.0, 344000.0, 384900.0, 204950.0, 440000.0, 191000.0, 750000.0, 378950.0, 205000.0, 217000.0, 438000.0, 638000.0, 750000.0, 435000.0, 600000.0, 990000.0, 400000.0, 275000.0, 526000.0, 346000.0, 275000.0, 390000.0, 685000.0, 780000.0, 369000.0, 989000.0, 257950.0, 675000.0, 910000.0, 460000.0, 208000.0, 1275000.0, 559950.0, 275000.0, 151600.0, 430000.0, 366000.0, 459000.0, 565000.0, 395000.0, 536000.0, 399900.0, 465000.0, 335900.0, 300000.0, 450000.0, 350000.0, 285000.0, 269000.0, 533000.0, 356000.0, 409000.0, 389950.0, 1070000.0, 392000.0, 605000.0, 1300000.0, 635000.0, 640000.0, 750000.0, 819000.0, 385000.0, 289000.0, 1275000.0, 325500.0, 300000.0, 295000.0, 438200.0, 975000.0, 104950.0, 275000.0, 391000.0, 253000.0, 652600.0, 390000.0, 481203.0, 375000.0, 430000.0, 455000.0, 583000.0, 596500.0, 250000.0, 876650.0, 565000.0, 435000.0, 253000.0, 938000.0, 395000.0, 319000.0, 380000.0, 920000.0, 850000.0, 1600000.0, 357500.0, 629000.0, 190000.0, 295500.0, 1150000.0, 772500.0, 216000.0, 265000.0, 500000.0, 647500.0, 385000.0, 315000.0, 1150000.0, 479349.0, 518500.0, 545000.0, 150000.0, 530000.0, 560000.0, 825000.0, 455000.0, 850000.0, 341000.0, 850000.0, 512000.0, 855000.0, 265000.0, 430000.0, 440000.0, 427800.0, 268950.0, 870000.0, 552900.0, 301000.0, 710000.0, 329500.0, 837000.0, 312000.0, 560000.0, 167000.0, 925000.0, 197500.0, 475000.0, 550000.0, 343500.0, 742500.0, 412000.0, 209950.0, 220000.0, 574000.0, 500000.0, 525000.0, 267500.0, 294900.0, 399500.0, 430000.0, 485000.0, 236000.0, 477000.0, 948000.0, 328000.0, 325000.0, 1425000.0, 457000.0, 555000.0, 415000.0, 419000.0, 740000.0, 315000.0, 849000.0, 775000.0, 475000.0, 210000.0, 722000.0, 105500.0, 568000.0, 365000.0, 405000.0, 450000.0, 319000.0, 417000.0, 630000.0, 1005000.0, 239900.0, 420000.0, 225000.0, 290000.0, 649000.0, 760000.0, 535000.0, 790000.0, 220000.0, 792000.0, 885000.0, 395000.0, 245000.0, 550000.0, 315000.0, 537000.0, 600000.0, 475000.0, 847000.0, 535000.0, 740000.0, 333000.0, 550000.0, 350000.0, 607000.0, 607500.0, 257500.0, 287000.0, 800000.0, 240000.0, 575000.0, 750000.0, 390000.0, 254000.0, 489000.0, 464000.0, 870000.0, 825000.0, 255000.0, 559000.0, 552500.0, 669000.0, 655000.0, 1532500.0, 379000.0, 252000.0, 520000.0, 560000.0, 308550.0, 205000.0, 235000.0, 544950.0, 1240000.0, 850000.0, 345000.0, 339000.0, 199990.0, 455000.0, 416286.0, 1050000.0, 550000.0, 500000.0, 194000.0, 690000.0, 515000.0, 156000.0, 594950.0, 1260500.0, 385000.0, 784000.0, 375000.0, 492000.0, 440000.0, 580000.0, 675000.0, 355000.0, 2945000.0, 485000.0, 375000.0, 315000.0, 425000.0, 360000.0, 799950.0, 345000.0, 550000.0, 626000.0, 782000.0, 935000.0, 445830.0, 263700.0, 270000.0, 450000.0, 981000.0, 695000.0, 280000.0, 400000.0, 280500.0, 555000.0, 507000.0, 729000.0, 512500.0, 464950.0, 619000.0, 1940000.0, 590000.0, 286000.0, 587000.0, 315000.0, 419900.0, 395000.0, 550000.0, 265000.0, 829000.0, 390000.0, 820000.0, 525000.0, 215000.0, 839990.0, 400000.0, 796000.0, 515000.0, 325000.0, 960000.0, 978000.0, 375000.0, 343000.0, 1145000.0, 730000.0, 625000.0, 190000.0, 810000.0, 2321000.0, 300000.0, 675000.0, 344900.0, 300000.0, 350000.0, 570000.0, 950000.0, 587500.0, 570000.0, 780000.0, 650000.0, 186000.0, 699000.0, 556000.0, 360000.0, 257000.0, 312000.0, 245000.0, 585000.0, 152900.0, 345000.0, 310000.0, 440000.0, 168500.0, 261000.0, 603500.0, 513000.0, 556000.0, 330000.0, 790000.0, 600000.0, 1900000.0, 410000.0, 208000.0, 347500.0, 510000.0, 270000.0, 600000.0, 279000.0, 552000.0, 485000.0, 450000.0, 455000.0, 330000.0, 900000.0, 800000.0, 427000.0, 385000.0, 720000.0, 454000.0, 375000.0, 410000.0, 407500.0, 525000.0, 235000.0, 360000.0, 287000.0, 1085000.0, 299000.0, 535000.0]\n",
      "Random Standard Error: 13932.40868122905\n"
     ]
    }
   ],
   "source": [
    "import sklearn.neighbors\n",
    "from sklearn.neighbors import KNeighborsRegressor\n",
    "k_neighbors_reg = sklearn.neighbors.KNeighborsRegressor(n_neighbors=1)\n",
    "\n",
    "#Train the model\n",
    "k_neighbors_reg.fit(X_train, y_train)\n",
    "\n",
    "# (b) test model\n",
    "some_data = X_test\n",
    "some_labels = y_test\n",
    "\n",
    "\n",
    "#  compare:\n",
    "print(\"Predictions:\", k_neighbors_reg.predict(some_data))\n",
    "print(\"Real Price:\", list(some_labels))\n",
    "\n",
    "### (c) Evaluation with Mean-squared-error\n",
    "\n",
    "from sklearn.metrics import mean_squared_error\n",
    "\n",
    "housing_predictions = k_neighbors_reg.predict(X_test)\n",
    "\n",
    "knn_mse = mean_squared_error(y_test, housing_predictions)\n",
    "knn_rmse = np.sqrt(knn_mse)\n",
    "\n",
    "print(\"Random Standard Error:\", knn_rmse)"
   ]
  },
  {
   "cell_type": "code",
   "execution_count": 110,
   "metadata": {},
   "outputs": [
    {
     "name": "stdout",
     "output_type": "stream",
     "text": [
      "Predictions: [ 998000.  345000.  740000. ... 1085000.  299999.  535000.]\n",
      "Real Price: [999000.0, 346150.0, 740000.0, 325000.0, 355000.0, 430000.0, 320000.0, 369950.0, 402500.0, 765000.0, 700000.0, 790000.0, 380000.0, 492500.0, 675000.0, 978000.0, 689000.0, 950000.0, 450000.0, 580000.0, 165000.0, 685000.0, 305000.0, 342000.0, 550000.0, 725000.0, 320000.0, 1230000.0, 290000.0, 374950.0, 315000.0, 1007500.0, 229000.0, 570000.0, 557500.0, 723000.0, 290000.0, 170000.0, 499950.0, 360000.0, 189000.0, 183000.0, 284950.0, 209950.0, 1247000.0, 260000.0, 625000.0, 362000.0, 430000.0, 200000.0, 1100000.0, 264000.0, 220000.0, 616000.0, 750000.0, 84000.0, 160000.0, 747000.0, 207000.0, 667000.0, 410000.0, 178500.0, 297000.0, 495000.0, 970000.0, 895000.0, 1410000.0, 582000.0, 495000.0, 1839900.0, 330000.0, 260000.0, 115000.0, 535000.0, 459000.0, 312000.0, 319950.0, 245000.0, 1695000.0, 220000.0, 327500.0, 265000.0, 340000.0, 633634.0, 1017100.0, 1130000.0, 460000.0, 321000.0, 480000.0, 312000.0, 365000.0, 170000.0, 522000.0, 253400.0, 310000.0, 308000.0, 713900.0, 360000.0, 952500.0, 360000.0, 2479000.0, 391000.0, 395000.0, 519500.0, 257000.0, 528000.0, 616000.0, 239950.0, 425000.0, 464000.0, 229950.0, 387500.0, 680000.0, 375000.0, 415000.0, 585000.0, 795000.0, 780000.0, 610000.0, 410000.0, 763000.0, 398000.0, 691000.0, 340000.0, 479000.0, 272000.0, 252500.0, 530000.0, 750000.0, 326100.0, 184500.0, 650000.0, 525000.0, 325000.0, 550000.0, 445000.0, 390000.0, 1000000.0, 539000.0, 308000.0, 770000.0, 340000.0, 339950.0, 675000.0, 130000.0, 760000.0, 500000.0, 450000.0, 160000.0, 285000.0, 255000.0, 950000.0, 707000.0, 420000.0, 620000.0, 455000.0, 950968.0, 250000.0, 518000.0, 438000.0, 485000.0, 285000.0, 480000.0, 436000.0, 698000.0, 404000.0, 590000.0, 3850000.0, 575000.0, 851500.0, 388000.0, 488000.0, 741500.0, 325000.0, 479000.0, 450000.0, 355000.0, 569900.0, 418500.0, 592500.0, 500000.0, 490000.0, 825000.0, 340000.0, 290000.0, 317000.0, 345000.0, 380000.0, 257000.0, 311100.0, 499000.0, 336000.0, 254922.0, 1000000.0, 300000.0, 649950.0, 1820000.0, 990000.0, 500000.0, 515000.0, 545000.0, 392137.0, 1348000.0, 395000.0, 298000.0, 383000.0, 433000.0, 295000.0, 430000.0, 371000.0, 820000.0, 699950.0, 234000.0, 580000.0, 344200.0, 183000.0, 442500.0, 827000.0, 240000.0, 216000.0, 299500.0, 604000.0, 3710000.0, 620000.0, 375000.0, 950000.0, 779950.0, 370000.0, 507250.0, 324500.0, 280000.0, 370000.0, 537000.0, 575000.0, 540000.0, 267500.0, 400000.0, 739000.0, 300000.0, 827235.0, 750000.0, 300000.0, 306000.0, 440000.0, 540000.0, 495000.0, 475000.0, 739000.0, 320000.0, 1802750.0, 780000.0, 660000.0, 250000.0, 309000.0, 268000.0, 279000.0, 425000.0, 470000.0, 510000.0, 755000.0, 315000.0, 677000.0, 1000000.0, 1600000.0, 420000.0, 315000.0, 448500.0, 515000.0, 803000.0, 1250000.0, 323000.0, 669000.0, 372000.0, 440000.0, 310000.0, 306888.0, 505000.0, 1237500.0, 490000.0, 265000.0, 498000.0, 153000.0, 330000.0, 415000.0, 365000.0, 565000.0, 630000.0, 1340000.0, 400000.0, 221347.0, 435000.0, 220000.0, 525000.0, 475000.0, 900000.0, 740000.0, 254000.0, 890000.0, 420000.0, 460000.0, 695000.0, 464000.0, 320000.0, 522000.0, 305000.0, 712000.0, 305000.0, 325000.0, 575000.0, 263000.0, 572000.0, 650000.0, 438000.0, 470000.0, 480000.0, 726000.0, 240000.0, 407000.0, 522500.0, 294000.0, 700000.0, 360000.0, 160797.0, 585000.0, 242500.0, 565000.0, 385000.0, 235000.0, 325000.0, 305000.0, 700000.0, 839000.0, 385000.0, 790000.0, 455000.0, 219950.0, 1184000.0, 234500.0, 545000.0, 426000.0, 110000.0, 625000.0, 550000.0, 705000.0, 605000.0, 555000.0, 1400000.0, 403500.0, 429950.0, 672800.0, 375000.0, 300000.0, 318000.0, 1275000.0, 565000.0, 1578000.0, 648000.0, 399950.0, 458500.0, 500000.0, 600000.0, 215000.0, 554600.0, 433000.0, 750000.0, 1085000.0, 330000.0, 680000.0, 438500.0, 650000.0, 310000.0, 775000.0, 495000.0, 870000.0, 609000.0, 485000.0, 259500.0, 807500.0, 440000.0, 580000.0, 252000.0, 450000.0, 165050.0, 435000.0, 515000.0, 209000.0, 499000.0, 625000.0, 587000.0, 540000.0, 600000.0, 982000.0, 349900.0, 989990.0, 415000.0, 589450.0, 526500.0, 535000.0, 650000.0, 515000.0, 208950.0, 818900.0, 535000.0, 562200.0, 754950.0, 830000.0, 300000.0, 205000.0, 440000.0, 355200.0, 299000.0, 490000.0, 765000.0, 300000.0, 400000.0, 632500.0, 349950.0, 290750.0, 165000.0, 334950.0, 810000.0, 435000.0, 475000.0, 200000.0, 653000.0, 199500.0, 380000.0, 583500.0, 600000.0, 499000.0, 339888.0, 499000.0, 283000.0, 699000.0, 1220000.0, 390000.0, 265000.0, 325000.0, 1135250.0, 250000.0, 179950.0, 326500.0, 441500.0, 420000.0, 449950.0, 699000.0, 787000.0, 152500.0, 261500.0, 675000.0, 605000.0, 260000.0, 440000.0, 245000.0, 210000.0, 920000.0, 650000.0, 535000.0, 383000.0, 199000.0, 350000.0, 835000.0, 240415.0, 311000.0, 1600000.0, 405000.0, 250000.0, 314000.0, 279900.0, 420000.0, 300000.0, 960000.0, 688000.0, 383000.0, 1100000.0, 2575000.0, 1525000.0, 327000.0, 260000.0, 1850000.0, 623500.0, 255000.0, 621500.0, 200000.0, 1058800.0, 492000.0, 246000.0, 450000.0, 718000.0, 259950.0, 493000.0, 245000.0, 500000.0, 530000.0, 797000.0, 170000.0, 660000.0, 662500.0, 559000.0, 1062500.0, 425000.0, 476000.0, 730100.0, 680000.0, 950000.0, 267000.0, 485000.0, 624950.0, 525000.0, 450000.0, 180000.0, 535000.0, 549000.0, 1225000.0, 272000.0, 397500.0, 832600.0, 443000.0, 310000.0, 275000.0, 997950.0, 325000.0, 815000.0, 497000.0, 350000.0, 870000.0, 440000.0, 482000.0, 751305.0, 380500.0, 620000.0, 1125000.0, 395000.0, 262500.0, 810000.0, 1640000.0, 816000.0, 607010.0, 362000.0, 294000.0, 539950.0, 640000.0, 630000.0, 622000.0, 605000.0, 497300.0, 632000.0, 686000.0, 395000.0, 545000.0, 489000.0, 337000.0, 317500.0, 1060000.0, 913000.0, 974350.0, 302000.0, 432000.0, 311500.0, 663000.0, 1200000.0, 488000.0, 294000.0, 756100.0, 520000.0, 315500.0, 439990.0, 780000.0, 1200000.0, 175000.0, 634800.0, 499950.0, 450000.0, 240000.0, 525000.0, 286000.0, 825000.0, 379000.0, 212000.0, 285000.0, 320000.0, 499000.0, 255000.0, 185000.0, 1225000.0, 719000.0, 530000.0, 259500.0, 310000.0, 455000.0, 860000.0, 915000.0, 421500.0, 475000.0, 709950.0, 288000.0, 425000.0, 453000.0, 247500.0, 605000.0, 411500.0, 150000.0, 582800.0, 925000.0, 390000.0, 245000.0, 413100.0, 335000.0, 432000.0, 435000.0, 334950.0, 569950.0, 436300.0, 330000.0, 393000.0, 260000.0, 1775000.0, 805000.0, 400000.0, 507950.0, 494950.0, 110000.0, 511100.0, 539000.0, 960000.0, 425996.0, 426000.0, 568000.0, 365000.0, 200000.0, 290000.0, 513000.0, 950000.0, 460000.0, 335000.0, 767250.0, 225000.0, 487028.0, 360000.0, 1300000.0, 263000.0, 722500.0, 675000.0, 155000.0, 367000.0, 1485000.0, 412500.0, 260000.0, 910000.0, 422250.0, 556000.0, 331000.0, 245000.0, 854000.0, 365000.0, 380000.0, 287000.0, 472000.0, 438600.0, 1015000.0, 935100.0, 465000.0, 787500.0, 1150000.0, 510000.0, 572000.0, 419950.0, 2298000.0, 665000.0, 387500.0, 1850000.0, 275000.0, 445000.0, 295000.0, 300000.0, 695000.0, 344950.0, 450000.0, 160000.0, 280500.0, 230000.0, 350000.0, 560000.0, 1045000.0, 353000.0, 545000.0, 760000.0, 498000.0, 555750.0, 1250000.0, 1013050.0, 487600.0, 240000.0, 349500.0, 415000.0, 391500.0, 352900.0, 450000.0, 675000.0, 565000.0, 870000.0, 340000.0, 589000.0, 460000.0, 490000.0, 649000.0, 1544500.0, 1865000.0, 950000.0, 710000.0, 425000.0, 613000.0, 517500.0, 625000.0, 249900.0, 475000.0, 715500.0, 225000.0, 545000.0, 199950.0, 213000.0, 1450000.0, 682000.0, 306000.0, 355000.0, 650000.0, 185000.0, 392000.0, 160000.0, 390000.0, 640000.0, 565000.0, 329900.0, 655000.0, 515000.0, 275000.0, 529000.0, 249900.0, 770000.0, 470000.0, 244950.0, 575000.0, 500000.0, 950000.0, 297000.0, 289950.0, 1384000.0, 785000.0, 245000.0, 230000.0, 865000.0, 455000.0, 760005.0, 249000.0, 910000.0, 240000.0, 285000.0, 361000.0, 1365000.0, 185000.0, 210000.0, 181000.0, 404000.0, 1288000.0, 392000.0, 419000.0, 555000.0, 698000.0, 647000.0, 435000.0, 639000.0, 345000.0, 949880.0, 257700.0, 400000.0, 599000.0, 685000.0, 296500.0, 625000.0, 260000.0, 372977.0, 540000.0, 295950.0, 528000.0, 288000.0, 332000.0, 425000.0, 1000000.0, 340000.0, 250000.0, 235000.0, 1900000.0, 215000.0, 360000.0, 550000.0, 556000.0, 778000.0, 515000.0, 450000.0, 239950.0, 1650000.0, 210000.0, 319950.0, 458000.0, 650000.0, 148900.0, 345000.0, 748000.0, 494900.0, 346500.0, 2193000.0, 230000.0, 593777.0, 780000.0, 172500.0, 3000000.0, 462500.0, 260000.0, 585000.0, 492500.0, 596000.0, 789500.0, 445000.0, 299000.0, 280000.0, 474900.0, 200000.0, 1648000.0, 771150.0, 885000.0, 275000.0, 420000.0, 690000.0, 800000.0, 715000.0, 529500.0, 215000.0, 445000.0, 459950.0, 680000.0, 1680000.0, 410000.0, 710000.0, 397500.0, 330000.0, 612125.0, 238000.0, 920000.0, 410000.0, 749950.0, 986000.0, 1650000.0, 749995.0, 295000.0, 185000.0, 475000.0, 227000.0, 221000.0, 2500000.0, 540000.0, 439000.0, 805000.0, 425000.0, 390000.0, 460000.0, 680000.0, 460000.0, 415000.0, 330000.0, 446000.0, 690000.0, 340000.0, 495000.0, 199000.0, 1014250.0, 375000.0, 323000.0, 218000.0, 176000.0, 945000.0, 248000.0, 245000.0, 475000.0, 459900.0, 300000.0, 610000.0, 539000.0, 374500.0, 335000.0, 750000.0, 314950.0, 575000.0, 936000.0, 292000.0, 653000.0, 589000.0, 595000.0, 276750.0, 324950.0, 998000.0, 365000.0, 826000.0, 717000.0, 282500.0, 795127.0, 595000.0, 433500.0, 366000.0, 442000.0, 530000.0, 785000.0, 465000.0, 289950.0, 410000.0, 365000.0, 685000.0, 335000.0, 314950.0, 235000.0, 995000.0, 700000.0, 475000.0, 635000.0, 462000.0, 323000.0, 630000.0, 785000.0, 650000.0, 215000.0, 475000.0, 800000.0, 158000.0, 340000.0, 550000.0, 364250.0, 459500.0, 431000.0, 520000.0, 336000.0, 737000.0, 604950.0, 280000.0, 210000.0, 291000.0, 570000.0, 795000.0, 470000.0, 415000.0, 322000.0, 375000.0, 568000.0, 450000.0, 689500.0, 410000.0, 809950.0, 515000.0, 160134.0, 360000.0, 1102030.0, 285000.0, 232000.0, 585000.0, 280000.0, 278000.0, 348500.0, 450000.0, 525000.0, 250000.0, 581000.0, 849000.0, 685000.0, 254999.0, 416500.0, 155000.0, 1881580.0, 325000.0, 284700.0, 845000.0, 569950.0, 800000.0, 388000.0, 560000.0, 765000.0, 380000.0, 285000.0, 546200.0, 485000.0, 620000.0, 738515.0, 810000.0, 350500.0, 319000.0, 170000.0, 680000.0, 1174660.0, 724950.0, 660000.0, 380000.0, 1955000.0, 499000.0, 960000.0, 353750.0, 361550.0, 605000.0, 510000.0, 495000.0, 770000.0, 315000.0, 320000.0, 470000.0, 785000.0, 239999.0, 467000.0, 291000.0, 285000.0, 719000.0, 332000.0, 811000.0, 260000.0, 526000.0, 720168.0, 145000.0, 330000.0, 630000.0, 599950.0, 375000.0, 453000.0, 350000.0, 265000.0, 530000.0, 525000.0, 605000.0, 3345000.0, 675000.0, 390000.0, 316000.0, 1530000.0, 585000.0, 499900.0, 589000.0, 600000.0, 115000.0, 327000.0, 280300.0, 520000.0, 396000.0, 347000.0, 492650.0, 699900.0, 810000.0, 261000.0, 651500.0, 226000.0, 630000.0, 280400.0, 330000.0, 952000.0, 960000.0, 349000.0, 568000.0, 688000.0, 613500.0, 529950.0, 450000.0, 203000.0, 335000.0, 742000.0, 825000.0, 2250000.0, 1600000.0, 926300.0, 565000.0, 319000.0, 267000.0, 199950.0, 274000.0, 320000.0, 564000.0, 288000.0, 510000.0, 247200.0, 390000.0, 575000.0, 282000.0, 7700000.0, 285000.0, 545000.0, 390000.0, 503000.0, 424950.0, 270000.0, 350000.0, 570000.0, 635000.0, 590000.0, 566000.0, 107000.0, 295000.0, 510000.0, 325000.0, 465000.0, 459950.0, 640000.0, 469500.0, 536500.0, 217000.0, 554820.0, 110000.0, 280000.0, 474950.0, 622500.0, 690000.0, 190000.0, 665000.0, 370000.0, 796000.0, 191000.0, 360000.0, 330000.0, 665000.0, 487500.0, 750000.0, 715000.0, 333000.0, 370000.0, 672500.0, 320600.0, 325000.0, 780000.0, 770000.0, 900000.0, 235000.0, 340000.0, 555000.0, 316000.0, 600000.0, 295000.0, 888000.0, 182000.0, 277000.0, 536000.0, 151100.0, 265000.0, 319900.0, 1330000.0, 657000.0, 459800.0, 326000.0, 805000.0, 604000.0, 474000.0, 500000.0, 806000.0, 263000.0, 572000.0, 425000.0, 335000.0, 550000.0, 225000.0, 379950.0, 530000.0, 380000.0, 915000.0, 625000.0, 664000.0, 570000.0, 2575000.0, 185000.0, 643000.0, 617450.0, 280000.0, 352500.0, 805000.0, 595000.0, 499000.0, 440000.0, 189950.0, 605000.0, 581000.0, 303000.0, 570000.0, 725000.0, 585000.0, 652100.0, 330000.0, 340000.0, 565000.0, 672000.0, 635000.0, 331500.0, 475000.0, 198000.0, 749400.0, 195000.0, 341000.0, 280005.0, 659000.0, 346000.0, 235000.0, 430000.0, 212000.0, 290000.0, 560000.0, 930000.0, 347000.0, 285000.0, 740000.0, 280000.0, 570000.0, 180000.0, 365000.0, 689888.0, 475000.0, 270000.0, 360000.0, 712000.0, 287000.0, 736000.0, 365000.0, 295000.0, 625000.0, 808000.0, 609950.0, 367000.0, 207000.0, 257500.0, 436000.0, 338000.0, 325000.0, 875000.0, 883000.0, 250000.0, 210000.0, 968933.0, 550000.0, 820000.0, 553000.0, 815000.0, 219950.0, 620000.0, 602000.0, 352000.0, 172040.0, 780000.0, 225500.0, 240000.0, 548000.0, 335000.0, 561000.0, 475000.0, 535000.0, 1011000.0, 653000.0, 495000.0, 429000.0, 349950.0, 860000.0, 1258000.0, 169000.0, 288400.0, 315000.0, 415000.0, 539000.0, 449999.0, 375000.0, 500000.0, 425000.0, 423000.0, 526000.0, 461550.0, 329000.0, 467000.0, 895000.0, 525888.0, 205000.0, 339999.0, 305000.0, 729999.0, 931088.0, 792000.0, 385000.0, 500000.0, 247000.0, 1065000.0, 372000.0, 315000.0, 520000.0, 458950.0, 365000.0, 215500.0, 240000.0, 2546000.0, 319000.0, 1020000.0, 580000.0, 779950.0, 364950.0, 645000.0, 667500.0, 241000.0, 450000.0, 381156.0, 330000.0, 470000.0, 1851000.0, 267500.0, 550000.0, 424000.0, 225000.0, 474000.0, 1399950.0, 698000.0, 366000.0, 299000.0, 421500.0, 328500.0, 215000.0, 750000.0, 365000.0, 379770.0, 696500.0, 1349000.0, 350000.0, 280000.0, 348000.0, 615500.0, 464600.0, 509900.0, 570000.0, 545400.0, 785000.0, 346290.0, 849950.0, 260000.0, 310000.0, 250000.0, 234000.0, 547000.0, 266000.0, 446500.0, 610000.0, 292000.0, 279000.0, 151000.0, 206000.0, 315000.0, 2700000.0, 367000.0, 925000.0, 315450.0, 375000.0, 245000.0, 292000.0, 419950.0, 755000.0, 257500.0, 995000.0, 686000.0, 275000.0, 262500.0, 190000.0, 125000.0, 331000.0, 598992.0, 300000.0, 450000.0, 230000.0, 393000.0, 740000.0, 289950.0, 740000.0, 1880000.0, 936000.0, 440000.0, 1080000.0, 560000.0, 253779.0, 504750.0, 670000.0, 589500.0, 260600.0, 399000.0, 124000.0, 475000.0, 525000.0, 368000.0, 860000.0, 635000.0, 1675000.0, 590000.0, 332500.0, 1650000.0, 275000.0, 1135000.0, 1375000.0, 4208000.0, 317000.0, 1600000.0, 569500.0, 550000.0, 550000.0, 530000.0, 213675.0, 654000.0, 688500.0, 503000.0, 342400.0, 353000.0, 355000.0, 477000.0, 299000.0, 421200.0, 543200.0, 800000.0, 675000.0, 762300.0, 537000.0, 261000.0, 255000.0, 390000.0, 305000.0, 387500.0, 333500.0, 325000.0, 593500.0, 484259.0, 619990.0, 425000.0, 450000.0, 225000.0, 610000.0, 250000.0, 683500.0, 600000.0, 353000.0, 302000.0, 825050.0, 567500.0, 395000.0, 785000.0, 321000.0, 525000.0, 1050000.0, 350000.0, 245000.0, 437500.0, 299000.0, 1100000.0, 221000.0, 425000.0, 535000.0, 410500.0, 485000.0, 1085000.0, 500000.0, 489200.0, 799900.0, 625000.0, 195000.0, 517500.0, 375000.0, 639900.0, 380000.0, 298000.0, 238000.0, 2450000.0, 269950.0, 845000.0, 382880.0, 260000.0, 418000.0, 240000.0, 825000.0, 350000.0, 299950.0, 975000.0, 2250000.0, 3600000.0, 219000.0, 302100.0, 399950.0, 600000.0, 350000.0, 445500.0, 635000.0, 405000.0, 268000.0, 2650000.0, 443000.0, 1688000.0, 253200.0, 395000.0, 507500.0, 387500.0, 730000.0, 585000.0, 1130000.0, 520000.0, 339500.0, 320000.0, 259875.0, 352000.0, 695000.0, 332000.0, 475000.0, 470000.0, 375900.0, 1698890.0, 843500.0, 500000.0, 475000.0, 430000.0, 512031.0, 478500.0, 1145000.0, 705000.0, 433190.0, 485000.0, 288000.0, 515000.0, 900000.0, 625000.0, 415000.0, 348000.0, 429000.0, 310000.0, 400000.0, 428750.0, 590000.0, 302000.0, 520000.0, 254000.0, 289950.0, 899000.0, 289950.0, 648000.0, 277554.0, 278000.0, 975000.0, 783000.0, 274800.0, 845000.0, 293000.0, 357250.0, 390000.0, 731000.0, 885000.0, 342450.0, 320000.0, 475000.0, 425000.0, 760500.0, 419000.0, 1680000.0, 475000.0, 1468000.0, 257200.0, 430000.0, 527950.0, 279950.0, 234000.0, 452000.0, 970000.0, 287000.0, 372000.0, 923990.0, 400000.0, 328950.0, 200000.0, 740000.0, 775000.0, 347500.0, 275000.0, 395000.0, 380950.0, 800000.0, 367500.0, 800000.0, 1072000.0, 355000.0, 1475000.0, 445000.0, 560000.0, 780000.0, 570000.0, 447000.0, 360000.0, 427000.0, 246600.0, 1049000.0, 330000.0, 540000.0, 349000.0, 1200000.0, 185000.0, 380000.0, 660000.0, 159995.0, 435000.0, 640000.0, 539950.0, 2795000.0, 261000.0, 390500.0, 535000.0, 750000.0, 452000.0, 2196000.0, 548800.0, 325000.0, 415000.0, 384205.0, 456000.0, 269000.0, 325000.0, 295000.0, 730000.0, 330000.0, 650000.0, 450000.0, 215000.0, 451000.0, 622500.0, 1950000.0, 857000.0, 335606.0, 284000.0, 746000.0, 1255000.0, 830000.0, 370000.0, 438000.0, 122000.0, 575000.0, 253500.0, 265000.0, 1824100.0, 195000.0, 480000.0, 165000.0, 179900.0, 485000.0, 250000.0, 319900.0, 491300.0, 880000.0, 834800.0, 560000.0, 396500.0, 736000.0, 159000.0, 210000.0, 535000.0, 523950.0, 315000.0, 276000.0, 2500000.0, 310000.0, 515000.0, 475000.0, 546940.0, 930000.0, 750000.0, 650000.0, 1550000.0, 373000.0, 435000.0, 430000.0, 420000.0, 315000.0, 580000.0, 267000.0, 310000.0, 415000.0, 1220000.0, 300000.0, 734200.0, 530000.0, 785000.0, 410000.0, 299900.0, 310000.0, 615000.0, 272450.0, 564450.0, 240000.0, 521000.0, 385000.0, 525000.0, 280927.0, 315000.0, 500000.0, 251750.0, 635200.0, 375000.0, 875000.0, 1168000.0, 645500.0, 359900.0, 1164000.0, 307500.0, 746000.0, 1028000.0, 425000.0, 879950.0, 625000.0, 552000.0, 400000.0, 1060000.0, 407500.0, 355000.0, 657500.0, 440000.0, 517950.0, 475000.0, 310000.0, 580000.0, 815000.0, 219950.0, 370000.0, 430000.0, 330000.0, 815000.0, 1900000.0, 483000.0, 489000.0, 607000.0, 487000.0, 215000.0, 320000.0, 255000.0, 975000.0, 352500.0, 470000.0, 390000.0, 745000.0, 459000.0, 420000.0, 587000.0, 545000.0, 405500.0, 524950.0, 720000.0, 818500.0, 398750.0, 921800.0, 600000.0, 530000.0, 516000.0, 304999.0, 427500.0, 614905.0, 233000.0, 389950.0, 246000.0, 179900.0, 408000.0, 808000.0, 253500.0, 264900.0, 519500.0, 543000.0, 362500.0, 250000.0, 264950.0, 595000.0, 635000.0, 397000.0, 1800000.0, 650000.0, 199950.0, 1400000.0, 991500.0, 1300000.0, 555000.0, 326250.0, 535000.0, 725995.0, 650000.0, 358000.0, 382000.0, 775000.0, 423500.0, 950000.0, 463000.0, 891500.0, 198400.0, 750000.0, 306000.0, 895000.0, 395000.0, 480000.0, 265000.0, 355000.0, 535000.0, 770000.0, 985000.0, 720000.0, 247000.0, 446000.0, 385000.0, 445000.0, 298450.0, 350000.0, 270000.0, 361500.0, 895000.0, 280000.0, 279900.0, 397990.0, 230000.0, 566950.0, 740000.0, 370000.0, 490000.0, 580000.0, 530000.0, 252000.0, 242025.0, 330000.0, 610000.0, 246950.0, 340000.0, 690000.0, 1365000.0, 385000.0, 219500.0, 384435.0, 790000.0, 537000.0, 1620000.0, 245000.0, 485500.0, 515000.0, 245000.0, 505000.0, 221900.0, 510000.0, 80000.0, 675000.0, 315000.0, 336500.0, 305000.0, 757500.0, 510000.0, 299000.0, 428040.0, 270000.0, 189900.0, 580000.0, 299000.0, 893880.0, 860000.0, 430000.0, 382000.0, 225000.0, 2885000.0, 750000.0, 510000.0, 1475000.0, 175000.0, 508450.0, 448500.0, 288000.0, 295000.0, 380000.0, 219950.0, 427500.0, 655000.0, 299990.0, 325000.0, 650000.0, 301500.0, 885000.0, 840000.0, 369300.0, 396000.0, 223000.0, 639950.0, 577288.0, 270000.0, 1080000.0, 390000.0, 185900.0, 555000.0, 935000.0, 702000.0, 243000.0, 625000.0, 482000.0, 237500.0, 1010000.0, 799000.0, 245500.0, 542300.0, 469500.0, 246500.0, 900000.0, 339900.0, 261000.0, 515000.0, 745000.0, 516000.0, 655000.0, 750000.0, 654950.0, 229500.0, 225000.0, 555000.0, 1050000.0, 317500.0, 371000.0, 390000.0, 380000.0, 442500.0, 205000.0, 482000.0, 310000.0, 634950.0, 188200.0, 282000.0, 350000.0, 560000.0, 700000.0, 1240000.0, 300000.0, 524225.0, 373000.0, 375000.0, 350000.0, 580000.0, 500000.0, 285000.0, 850000.0, 495200.0, 1385000.0, 397900.0, 298800.0, 707000.0, 550000.0, 850000.0, 445000.0, 651000.0, 822500.0, 1365000.0, 370000.0, 413000.0, 470500.0, 700000.0, 375000.0, 382000.0, 310000.0, 352000.0, 649950.0, 410988.0, 225000.0, 855000.0, 600000.0, 485000.0, 516500.0, 649950.0, 399950.0, 324000.0, 550285.0, 592500.0, 262500.0, 500000.0, 199990.0, 419190.0, 333490.0, 218000.0, 533000.0, 1100000.0, 401000.0, 315000.0, 205000.0, 379900.0, 1033890.0, 529000.0, 472800.0, 209900.0, 356999.0, 850000.0, 515000.0, 340000.0, 629950.0, 725000.0, 355000.0, 1650000.0, 429900.0, 650000.0, 475000.0, 725000.0, 658100.0, 299995.0, 905000.0, 450000.0, 670000.0, 600000.0, 590000.0, 540000.0, 312500.0, 431000.0, 320000.0, 620000.0, 440000.0, 620000.0, 340000.0, 523000.0, 262500.0, 933000.0, 659500.0, 482975.0, 1285000.0, 570000.0, 580000.0, 660000.0, 367400.0, 170000.0, 550000.0, 910000.0, 740000.0, 1150000.0, 630000.0, 845000.0, 263500.0, 250000.0, 229000.0, 375000.0, 875000.0, 289950.0, 400000.0, 405600.0, 660000.0, 310000.0, 300000.0, 290000.0, 419000.0, 174950.0, 685000.0, 304000.0, 1100000.0, 260000.0, 480000.0, 420000.0, 249000.0, 240000.0, 429000.0, 250000.0, 531000.0, 620000.0, 570000.0, 579000.0, 499950.0, 415000.0, 585000.0, 268000.0, 905000.0, 445000.0, 245700.0, 225000.0, 660000.0, 1387000.0, 640000.0, 340500.0, 850000.0, 795000.0, 405000.0, 447055.0, 1150000.0, 245000.0, 235000.0, 364808.0, 490000.0, 290000.0, 495000.0, 775000.0, 344000.0, 450000.0, 369000.0, 350000.0, 562500.0, 375000.0, 266000.0, 599000.0, 560000.0, 506000.0, 478000.0, 975000.0, 498000.0, 527500.0, 210500.0, 305000.0, 813500.0, 798000.0, 369000.0, 645000.0, 1264000.0, 319950.0, 390000.0, 886000.0, 265000.0, 729953.0, 329950.0, 240000.0, 118125.0, 525000.0, 721000.0, 449000.0, 250000.0, 420000.0, 437500.0, 650000.0, 856500.0, 440000.0, 605000.0, 245000.0, 160000.0, 490000.0, 375000.0, 675000.0, 733500.0, 710000.0, 370000.0, 385000.0, 278000.0, 710000.0, 460000.0, 275000.0, 1500000.0, 374900.0, 180000.0, 905000.0, 380000.0, 419700.0, 1698000.0, 440000.0, 1075000.0, 346950.0, 209950.0, 457000.0, 405000.0, 125000.0, 508800.0, 800500.0, 405000.0, 554950.0, 286000.0, 685000.0, 483000.0, 1160000.0, 1160000.0, 954500.0, 645000.0, 469000.0, 450000.0, 450000.0, 999000.0, 339000.0, 575000.0, 430000.0, 445000.0, 333000.0, 349990.0, 275000.0, 790000.0, 390000.0, 669000.0, 210000.0, 555000.0, 558000.0, 310000.0, 795000.0, 301350.0, 250000.0, 390000.0, 630000.0, 613000.0, 235000.0, 285000.0, 4500000.0, 560000.0, 319000.0, 385000.0, 465000.0, 655000.0, 266000.0, 499000.0, 911100.0, 339950.0, 465000.0, 677000.0, 950000.0, 1250000.0, 267000.0, 500000.0, 440000.0, 375900.0, 650000.0, 660000.0, 809000.0, 917500.0, 333000.0, 350000.0, 570000.0, 643500.0, 526500.0, 1100000.0, 535500.0, 446950.0, 580000.0, 410000.0, 1925000.0, 400000.0, 305000.0, 430000.0, 640000.0, 400000.0, 376500.0, 615000.0, 195000.0, 200000.0, 880000.0, 206990.0, 140000.0, 322500.0, 250000.0, 951000.0, 695000.0, 375000.0, 610000.0, 640000.0, 235500.0, 716000.0, 240000.0, 270000.0, 372500.0, 565000.0, 222200.0, 760000.0, 130000.0, 287000.0, 705000.0, 439000.0, 930000.0, 2574000.0, 335000.0, 406000.0, 490000.0, 525000.0, 440000.0, 561000.0, 200000.0, 534950.0, 315500.0, 350000.0, 565000.0, 665000.0, 362500.0, 272000.0, 471000.0, 330000.0, 357000.0, 994000.0, 474000.0, 219950.0, 402395.0, 775000.0, 960000.0, 1065000.0, 499000.0, 248000.0, 435000.0, 432100.0, 484950.0, 768000.0, 315000.0, 387000.0, 1900000.0, 279950.0, 324900.0, 858450.0, 480000.0, 905000.0, 415000.0, 455000.0, 1245000.0, 460000.0, 712000.0, 605125.0, 252500.0, 218000.0, 403000.0, 579000.0, 308000.0, 479950.0, 284900.0, 360000.0, 653000.0, 550000.0, 310000.0, 232900.0, 373000.0, 350500.0, 715000.0, 340000.0, 395000.0, 700000.0, 525000.0, 450000.0, 135000.0, 215000.0, 513000.0, 319900.0, 619420.0, 474000.0, 690000.0, 280000.0, 595000.0, 355000.0, 740000.0, 330000.0, 359950.0, 465000.0, 315000.0, 258000.0, 549950.0, 950000.0, 469000.0, 460000.0, 385000.0, 292500.0, 468000.0, 390000.0, 835000.0, 690000.0, 215000.0, 450000.0, 795000.0, 595000.0, 280000.0, 352500.0, 450000.0, 297500.0, 399000.0, 290000.0, 235000.0, 543000.0, 545000.0, 883000.0, 670000.0, 650000.0, 292000.0, 225000.0, 676000.0, 435000.0, 336750.0, 380000.0, 499950.0, 733000.0, 365000.0, 780000.0, 320000.0, 521450.0, 527000.0, 305000.0, 517000.0, 752000.0, 602000.0, 700000.0, 560000.0, 500000.0, 542000.0, 450000.0, 765000.0, 609000.0, 443000.0, 207000.0, 450000.0, 420000.0, 838400.0, 1250000.0, 600000.0, 700000.0, 777000.0, 1250000.0, 555000.0, 650000.0, 306500.0, 420000.0, 340500.0, 474000.0, 400000.0, 315000.0, 425000.0, 199000.0, 238000.0, 715000.0, 437500.0, 529219.0, 515000.0, 285000.0, 2195000.0, 370000.0, 343000.0, 382000.0, 539000.0, 454000.0, 255000.0, 400000.0, 551000.0, 482000.0, 549950.0, 505000.0, 479000.0, 452000.0, 264500.0, 290000.0, 530000.0, 579950.0, 175003.0, 255500.0, 367999.0, 475000.0, 334200.0, 1000000.0, 580000.0, 502700.0, 300000.0, 1375000.0, 915000.0, 344000.0, 710000.0, 420000.0, 279900.0, 255000.0, 499000.0, 525000.0, 651000.0, 299500.0, 435000.0, 279000.0, 391000.0, 1160000.0, 1755000.0, 545000.0, 1150000.0, 445000.0, 425000.0, 674725.0, 1000000.0, 320000.0, 210000.0, 344900.0, 305000.0, 216180.0, 357000.0, 374950.0, 725000.0, 672500.0, 420000.0, 475000.0, 306000.0, 309000.0, 207000.0, 371000.0, 1715000.0, 1355000.0, 994900.0, 825000.0, 425000.0, 355000.0, 550000.0, 813000.0, 500000.0, 335500.0, 495000.0, 315000.0, 408000.0, 235000.0, 402500.0, 637000.0, 316000.0, 331000.0, 390000.0, 442200.0, 932800.0, 668000.0, 217450.0, 293000.0, 329000.0, 833000.0, 998000.0, 250000.0, 475000.0, 588000.0, 745000.0, 534000.0, 725000.0, 405000.0, 320000.0, 179900.0, 665000.0, 290000.0, 280000.0, 1050000.0, 840000.0, 685000.0, 530000.0, 309000.0, 383610.0, 433000.0, 410000.0, 474950.0, 230000.0, 234000.0, 784000.0, 850000.0, 680000.0, 1545000.0, 212000.0, 700000.0, 635000.0, 372000.0, 445000.0, 728000.0, 375000.0, 465000.0, 200500.0, 729000.0, 262500.0, 385000.0, 805000.0, 546800.0, 268500.0, 950000.0, 395350.0, 1052000.0, 525000.0, 440000.0, 765000.0, 480000.0, 495000.0, 380000.0, 572000.0, 533250.0, 505000.0, 592000.0, 168500.0, 417000.0, 285000.0, 380000.0, 187500.0, 525000.0, 358000.0, 335000.0, 595000.0, 500000.0, 600000.0, 819900.0, 320000.0, 925000.0, 520000.0, 580000.0, 665000.0, 895000.0, 368500.0, 495000.0, 480000.0, 252000.0, 275000.0, 267000.0, 331500.0, 364950.0, 887000.0, 439888.0, 252700.0, 240000.0, 494000.0, 472000.0, 410500.0, 428950.0, 512500.0, 668750.0, 565000.0, 259000.0, 410000.0, 467000.0, 1462500.0, 562000.0, 2400000.0, 226000.0, 530000.0, 258000.0, 815000.0, 430000.0, 265000.0, 1215000.0, 732000.0, 1610000.0, 535000.0, 563000.0, 333760.0, 424950.0, 610685.0, 320000.0, 1115000.0, 555500.0, 753000.0, 420000.0, 270000.0, 580000.0, 280000.0, 603000.0, 1150000.0, 415000.0, 425000.0, 930000.0, 335000.0, 399000.0, 949950.0, 405000.0, 389000.0, 689000.0, 300000.0, 225000.0, 450000.0, 271000.0, 325000.0, 2150000.0, 485000.0, 790000.0, 269950.0, 464900.0, 475200.0, 890000.0, 652427.0, 580000.0, 307150.0, 475000.0, 380000.0, 615000.0, 583000.0, 255000.0, 420000.0, 286651.0, 172000.0, 579000.0, 665000.0, 292000.0, 572500.0, 425000.0, 1010000.0, 268000.0, 379950.0, 400000.0, 650000.0, 355000.0, 339000.0, 265000.0, 446800.0, 840000.0, 196000.0, 252000.0, 447000.0, 458000.0, 350000.0, 649990.0, 389000.0, 320000.0, 292000.0, 225000.0, 724950.0, 595500.0, 425000.0, 454450.0, 414950.0, 335000.0, 680000.0, 835000.0, 970000.0, 1034500.0, 430000.0, 380000.0, 527000.0, 633000.0, 680000.0, 467000.0, 503045.0, 288790.0, 695000.0, 495000.0, 375500.0, 429900.0, 368500.0, 318200.0, 517000.0, 255000.0, 765000.0, 260000.0, 720000.0, 810000.0, 750000.0, 971000.0, 829900.0, 314000.0, 441000.0, 1050000.0, 500000.0, 284000.0, 480000.0, 304500.0, 590000.0, 407000.0, 750000.0, 299000.0, 315000.0, 379880.0, 427000.0, 270000.0, 395000.0, 630000.0, 230000.0, 169575.0, 262000.0, 325000.0, 765000.0, 650000.0, 1160000.0, 287000.0, 430000.0, 445000.0, 225000.0, 485000.0, 365000.0, 345000.0, 370000.0, 251000.0, 940000.0, 470500.0, 1031000.0, 280000.0, 870000.0, 532170.0, 310000.0, 200500.0, 469000.0, 368500.0, 1149000.0, 196000.0, 570000.0, 385000.0, 350000.0, 190000.0, 329000.0, 354000.0, 545000.0, 465000.0, 774888.0, 1187500.0, 415000.0, 375000.0, 765000.0, 542126.0, 1510000.0, 662700.0, 790100.0, 480000.0, 386900.0, 424000.0, 396500.0, 335000.0, 370000.0, 358000.0, 820000.0, 703300.0, 1040890.0, 476500.0, 419000.0, 550000.0, 315000.0, 1075000.0, 349000.0, 477000.0, 400000.0, 380000.0, 440000.0, 549950.0, 370000.0, 305240.0, 717500.0, 445000.0, 515000.0, 445000.0, 274000.0, 199000.0, 1635000.0, 1285000.0, 415000.0, 345000.0, 445838.0, 1300000.0, 895000.0, 309000.0, 538000.0, 795000.0, 380000.0, 425000.0, 332000.0, 383000.0, 204000.0, 172500.0, 435000.0, 405000.0, 899000.0, 1720000.0, 534950.0, 325000.0, 480000.0, 490000.0, 950000.0, 239300.0, 447500.0, 333000.0, 276000.0, 1095000.0, 302500.0, 254600.0, 280000.0, 805000.0, 402000.0, 985000.0, 2750000.0, 216650.0, 785000.0, 520000.0, 199950.0, 237500.0, 750000.0, 468000.0, 350000.0, 270000.0, 297000.0, 475000.0, 320000.0, 400000.0, 489000.0, 750000.0, 463000.0, 511718.0, 287000.0, 2630000.0, 212000.0, 392400.0, 845000.0, 225000.0, 645000.0, 1800000.0, 425000.0, 2250000.0, 206135.0, 539000.0, 608000.0, 1155000.0, 439000.0, 415000.0, 530000.0, 690000.0, 247000.0, 249950.0, 394000.0, 430000.0, 427000.0, 275000.0, 300000.0, 427500.0, 356200.0, 640000.0, 537000.0, 428000.0, 430000.0, 452000.0, 399500.0, 855000.0, 227000.0, 260000.0, 500000.0, 325000.0, 405000.0, 642000.0, 290000.0, 420000.0, 369900.0, 530000.0, 430000.0, 260000.0, 2000000.0, 220000.0, 265000.0, 185000.0, 561500.0, 345000.0, 450000.0, 998000.0, 1328000.0, 1250000.0, 400000.0, 506000.0, 529000.0, 650000.0, 322000.0, 330000.0, 330000.0, 394950.0, 934000.0, 372000.0, 202000.0, 390000.0, 1088000.0, 950000.0, 327500.0, 295000.0, 635000.0, 300000.0, 394950.0, 625000.0, 463800.0, 547500.0, 440000.0, 225000.0, 1015000.0, 190000.0, 644500.0, 889950.0, 2225000.0, 479000.0, 285000.0, 550000.0, 300500.0, 760000.0, 510000.0, 375000.0, 319450.0, 770000.0, 630500.0, 294000.0, 199000.0, 497000.0, 505000.0, 374000.0, 539000.0, 379900.0, 450000.0, 720000.0, 382000.0, 359782.0, 840000.0, 281500.0, 300000.0, 465000.0, 354000.0, 1275000.0, 1125000.0, 627000.0, 277500.0, 810000.0, 254950.0, 790000.0, 265000.0, 469000.0, 683000.0, 249000.0, 435000.0, 480000.0, 400000.0, 550000.0, 540000.0, 355000.0, 236000.0, 257000.0, 659000.0, 210000.0, 548000.0, 255000.0, 545000.0, 752875.0, 718000.0, 616300.0, 453246.0, 490000.0, 600000.0, 1345000.0, 499950.0, 319950.0, 1200000.0, 425000.0, 235000.0, 491000.0, 1050000.0, 649000.0, 1140000.0, 452500.0, 485000.0, 615000.0, 387000.0, 227000.0, 284000.0, 360000.0, 354000.0, 559950.0, 995000.0, 329000.0, 425000.0, 513000.0, 295500.0, 700000.0, 397500.0, 333700.0, 273000.0, 675000.0, 128000.0, 365500.0, 608000.0, 500000.0, 784950.0, 383000.0, 358000.0, 259000.0, 689900.0, 515000.0, 518000.0, 549000.0, 402000.0, 735000.0, 350000.0, 600000.0, 330000.0, 450000.0, 415000.0, 645000.0, 269000.0, 270000.0, 265000.0, 1295000.0, 635000.0, 858450.0, 185000.0, 351000.0, 345000.0, 782000.0, 350000.0, 345000.0, 475000.0, 510000.0, 895000.0, 3000000.0, 470000.0, 530000.0, 675000.0, 270000.0, 319000.0, 594000.0, 975000.0, 221700.0, 423700.0, 555000.0, 270000.0, 369000.0, 715000.0, 706000.0, 390000.0, 772650.0, 334009.0, 265000.0, 279900.0, 505000.0, 579000.0, 615000.0, 325000.0, 570000.0, 265000.0, 730000.0, 665000.0, 289000.0, 580000.0, 360000.0, 330000.0, 618000.0, 417000.0, 572000.0, 425000.0, 344000.0, 384900.0, 204950.0, 440000.0, 191000.0, 750000.0, 378950.0, 205000.0, 217000.0, 438000.0, 638000.0, 750000.0, 435000.0, 600000.0, 990000.0, 400000.0, 275000.0, 526000.0, 346000.0, 275000.0, 390000.0, 685000.0, 780000.0, 369000.0, 989000.0, 257950.0, 675000.0, 910000.0, 460000.0, 208000.0, 1275000.0, 559950.0, 275000.0, 151600.0, 430000.0, 366000.0, 459000.0, 565000.0, 395000.0, 536000.0, 399900.0, 465000.0, 335900.0, 300000.0, 450000.0, 350000.0, 285000.0, 269000.0, 533000.0, 356000.0, 409000.0, 389950.0, 1070000.0, 392000.0, 605000.0, 1300000.0, 635000.0, 640000.0, 750000.0, 819000.0, 385000.0, 289000.0, 1275000.0, 325500.0, 300000.0, 295000.0, 438200.0, 975000.0, 104950.0, 275000.0, 391000.0, 253000.0, 652600.0, 390000.0, 481203.0, 375000.0, 430000.0, 455000.0, 583000.0, 596500.0, 250000.0, 876650.0, 565000.0, 435000.0, 253000.0, 938000.0, 395000.0, 319000.0, 380000.0, 920000.0, 850000.0, 1600000.0, 357500.0, 629000.0, 190000.0, 295500.0, 1150000.0, 772500.0, 216000.0, 265000.0, 500000.0, 647500.0, 385000.0, 315000.0, 1150000.0, 479349.0, 518500.0, 545000.0, 150000.0, 530000.0, 560000.0, 825000.0, 455000.0, 850000.0, 341000.0, 850000.0, 512000.0, 855000.0, 265000.0, 430000.0, 440000.0, 427800.0, 268950.0, 870000.0, 552900.0, 301000.0, 710000.0, 329500.0, 837000.0, 312000.0, 560000.0, 167000.0, 925000.0, 197500.0, 475000.0, 550000.0, 343500.0, 742500.0, 412000.0, 209950.0, 220000.0, 574000.0, 500000.0, 525000.0, 267500.0, 294900.0, 399500.0, 430000.0, 485000.0, 236000.0, 477000.0, 948000.0, 328000.0, 325000.0, 1425000.0, 457000.0, 555000.0, 415000.0, 419000.0, 740000.0, 315000.0, 849000.0, 775000.0, 475000.0, 210000.0, 722000.0, 105500.0, 568000.0, 365000.0, 405000.0, 450000.0, 319000.0, 417000.0, 630000.0, 1005000.0, 239900.0, 420000.0, 225000.0, 290000.0, 649000.0, 760000.0, 535000.0, 790000.0, 220000.0, 792000.0, 885000.0, 395000.0, 245000.0, 550000.0, 315000.0, 537000.0, 600000.0, 475000.0, 847000.0, 535000.0, 740000.0, 333000.0, 550000.0, 350000.0, 607000.0, 607500.0, 257500.0, 287000.0, 800000.0, 240000.0, 575000.0, 750000.0, 390000.0, 254000.0, 489000.0, 464000.0, 870000.0, 825000.0, 255000.0, 559000.0, 552500.0, 669000.0, 655000.0, 1532500.0, 379000.0, 252000.0, 520000.0, 560000.0, 308550.0, 205000.0, 235000.0, 544950.0, 1240000.0, 850000.0, 345000.0, 339000.0, 199990.0, 455000.0, 416286.0, 1050000.0, 550000.0, 500000.0, 194000.0, 690000.0, 515000.0, 156000.0, 594950.0, 1260500.0, 385000.0, 784000.0, 375000.0, 492000.0, 440000.0, 580000.0, 675000.0, 355000.0, 2945000.0, 485000.0, 375000.0, 315000.0, 425000.0, 360000.0, 799950.0, 345000.0, 550000.0, 626000.0, 782000.0, 935000.0, 445830.0, 263700.0, 270000.0, 450000.0, 981000.0, 695000.0, 280000.0, 400000.0, 280500.0, 555000.0, 507000.0, 729000.0, 512500.0, 464950.0, 619000.0, 1940000.0, 590000.0, 286000.0, 587000.0, 315000.0, 419900.0, 395000.0, 550000.0, 265000.0, 829000.0, 390000.0, 820000.0, 525000.0, 215000.0, 839990.0, 400000.0, 796000.0, 515000.0, 325000.0, 960000.0, 978000.0, 375000.0, 343000.0, 1145000.0, 730000.0, 625000.0, 190000.0, 810000.0, 2321000.0, 300000.0, 675000.0, 344900.0, 300000.0, 350000.0, 570000.0, 950000.0, 587500.0, 570000.0, 780000.0, 650000.0, 186000.0, 699000.0, 556000.0, 360000.0, 257000.0, 312000.0, 245000.0, 585000.0, 152900.0, 345000.0, 310000.0, 440000.0, 168500.0, 261000.0, 603500.0, 513000.0, 556000.0, 330000.0, 790000.0, 600000.0, 1900000.0, 410000.0, 208000.0, 347500.0, 510000.0, 270000.0, 600000.0, 279000.0, 552000.0, 485000.0, 450000.0, 455000.0, 330000.0, 900000.0, 800000.0, 427000.0, 385000.0, 720000.0, 454000.0, 375000.0, 410000.0, 407500.0, 525000.0, 235000.0, 360000.0, 287000.0, 1085000.0, 299000.0, 535000.0]\n",
      "Root Mean Squared Error (KNN):  13932.40868122905\n"
     ]
    },
    {
     "data": {
      "text/plain": [
       "Text(0.5, 1.0, 'K-NN')"
      ]
     },
     "execution_count": 110,
     "metadata": {},
     "output_type": "execute_result"
    },
    {
     "data": {
      "image/png": "[encoded data removed]",
      "text/plain": [
       "<Figure size 432x288 with 1 Axes>"
      ]
     },
     "metadata": {
      "needs_background": "light"
     },
     "output_type": "display_data"
    }
   ],
   "source": [
    "#  compare:\n",
    "print(\"Predictions:\", k_neighbors_reg.predict(some_data))\n",
    "print(\"Real Price:\", list(some_labels))\n",
    "\n",
    "### (c) Evaluation with Mean-squared-error\n",
    "\n",
    "from sklearn.metrics import mean_squared_error\n",
    "\n",
    "housing_predictions = k_neighbors_reg.predict(X_test)\n",
    "\n",
    "knn_mse = mean_squared_error(y_test, housing_predictions)\n",
    "knn_rmse = np.sqrt(knn_mse)\n",
    "\n",
    "\n",
    "y_pred = k_neighbors_reg.predict(X_test)\n",
    "print(\"Root Mean Squared Error (KNN): \", np.sqrt(metrics.mean_squared_error(y_test, y_pred)))\n",
    "plt.scatter(y_test, y_pred)\n",
    "plt.xlabel(\"Prices\")\n",
    "plt.ylabel(\"Predicted prices\")\n",
    "plt.title(\"K-NN\")"
   ]
  },
  {
   "cell_type": "code",
   "execution_count": null,
   "metadata": {},
   "outputs": [],
   "source": []
  }
 ],
 "metadata": {
  "kernelspec": {
   "display_name": "Python 3",
   "language": "python",
   "name": "python3"
  },
  "language_info": {
   "codemirror_mode": {
    "name": "ipython",
    "version": 3
   },
   "file_extension": ".py",
   "mimetype": "text/x-python",
   "name": "python",
   "nbconvert_exporter": "python",
   "pygments_lexer": "ipython3",
   "version": "3.7.7"
  }
 },
 "nbformat": 4,
 "nbformat_minor": 2
}
